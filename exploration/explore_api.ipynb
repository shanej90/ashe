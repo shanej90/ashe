{
 "cells": [
  {
   "cell_type": "markdown",
   "id": "77c68aa5",
   "metadata": {},
   "source": [
    "# Exploration of ONS API\n",
    "\n",
    "Test how you use the API and locate the right files."
   ]
  },
  {
   "cell_type": "code",
   "execution_count": 1,
   "id": "e0622538",
   "metadata": {},
   "outputs": [],
   "source": [
    "#imports\n",
    "import pandas as pd\n",
    "import requests"
   ]
  },
  {
   "cell_type": "code",
   "execution_count": 2,
   "id": "9e5d4e83",
   "metadata": {},
   "outputs": [],
   "source": [
    "#base url\n",
    "endpoint = \"https://api.beta.ons.gov.uk/v1\""
   ]
  },
  {
   "cell_type": "code",
   "execution_count": 3,
   "id": "ead905c5",
   "metadata": {},
   "outputs": [
    {
     "data": {
      "application/vnd.microsoft.datawrangler.viewer.v0+json": {
       "columns": [
        {
         "name": "index",
         "rawType": "int64",
         "type": "integer"
        },
        {
         "name": "items",
         "rawType": "object",
         "type": "unknown"
        },
        {
         "name": "count",
         "rawType": "int64",
         "type": "integer"
        },
        {
         "name": "offset",
         "rawType": "int64",
         "type": "integer"
        },
        {
         "name": "limit",
         "rawType": "int64",
         "type": "integer"
        },
        {
         "name": "total_count",
         "rawType": "int64",
         "type": "integer"
        }
       ],
       "ref": "0ca1f965-27e6-4a19-b758-d4ca0463b5ce",
       "rows": [
        [
         "0",
         "{'contacts': [{'email': 'qualityoflife@ons.gov.uk', 'name': 'Will Shufflebottom, Owain Birrell, Pavan Bains and Geeta Kerai', 'telephone': '+44 300 0671543'}], 'description': 'Seasonally and non seasonally-adjusted quarterly estimates of life satisfaction, feeling that the things done in life are worthwhile, happiness and anxiety in the UK.', 'keywords': ['well-being'], 'id': 'wellbeing-quarterly', 'last_updated': '2023-12-13T09:40:24.204Z', 'links': {'editions': {'href': 'https://api.beta.ons.gov.uk/v1/datasets/wellbeing-quarterly/editions'}, 'latest_version': {'href': 'https://api.beta.ons.gov.uk/v1/datasets/wellbeing-quarterly/editions/time-series/versions/9', 'id': '9'}, 'self': {'href': 'https://api.beta.ons.gov.uk/v1/datasets/wellbeing-quarterly'}, 'taxonomy': {'href': 'https://api.beta.ons.gov.uk/v1/peoplepopulationandcommunity/wellbeing'}}, 'methodologies': [{'href': 'https://www.ons.gov.uk/peoplepopulationandcommunity/wellbeing/methodologies/personalwellbeingquarterlyestimatestechnicalreport', 'title': 'Personal well-being quarterly estimates technical report'}], 'national_statistic': False, 'next_release': 'TBC', 'qmi': {'href': 'https://www.ons.gov.uk/peoplepopulationandcommunity/wellbeing/methodologies/personalwellbeingintheukqmi'}, 'related_datasets': [{'href': 'https://www.ons.gov.uk/peoplepopulationandcommunity/wellbeing/datasets/ukmeasuresofnationalwellbeing', 'title': 'Personal well-being in the UK'}], 'release_frequency': 'Quarterly', 'state': 'published', 'title': 'Quarterly personal well-being estimates', 'unit_of_measure': 'Percentage'}",
         "20",
         "0",
         "20",
         "337"
        ],
        [
         "1",
         "{'contacts': [{'email': 'QualityOfLife@ons.gov.uk', 'name': 'Rachel Mullis, Joe Shepherd and Geeta Kerai', 'telephone': '+44 3000 671 543'}], 'description': 'Estimates of life satisfaction, feeling that the things done in life are worthwhile, happiness and anxiety at the UK, country, regional, county, local and unitary authority level.', 'keywords': ['well-being'], 'id': 'wellbeing-local-authority', 'last_updated': '2023-12-13T09:40:21.928Z', 'links': {'editions': {'href': 'https://api.beta.ons.gov.uk/v1/datasets/wellbeing-local-authority/editions'}, 'latest_version': {'href': 'https://api.beta.ons.gov.uk/v1/datasets/wellbeing-local-authority/editions/time-series/versions/4', 'id': '4'}, 'self': {'href': 'https://api.beta.ons.gov.uk/v1/datasets/wellbeing-local-authority'}, 'taxonomy': {'href': 'https://api.beta.ons.gov.uk/v1/peoplepopulationandcommunity/wellbeing'}}, 'national_statistic': True, 'next_release': 'TBC', 'qmi': {'href': 'https://www.ons.gov.uk/peoplepopulationandcommunity/wellbeing/methodologies/personalwellbeingintheukqmi'}, 'related_datasets': [{'href': 'https://www.ons.gov.uk/peoplepopulationandcommunity/wellbeing/bulletins/measuringnationalwellbeing/april2022tomarch2023', 'title': 'Personal well-being in the UK: April 2022 to March 2023'}], 'release_frequency': 'Annual', 'state': 'published', 'title': 'Personal well-being estimates by local authority', 'unit_of_measure': 'Percentage'}",
         "20",
         "0",
         "20",
         "337"
        ],
        [
         "2",
         "{'contacts': [{'email': 'health.data@ons.gov.uk', 'name': 'Data Insights and Data Science team', 'telephone': '+44 1329 444110'}], 'description': 'Provisional counts of the number of deaths registered in England and Wales, by region, in the latest weeks for which data are available.', 'keywords': ['Deaths', 'weekly deaths'], 'id': 'weekly-deaths-region', 'last_updated': '2025-06-05T09:11:16.664Z', 'links': {'editions': {'href': 'https://api.beta.ons.gov.uk/v1/datasets/weekly-deaths-region/editions'}, 'latest_version': {'href': 'https://api.beta.ons.gov.uk/v1/datasets/weekly-deaths-region/editions/time-series/versions/71', 'id': '71'}, 'self': {'href': 'https://api.beta.ons.gov.uk/v1/datasets/weekly-deaths-region'}, 'taxonomy': {'href': 'https://api.beta.ons.gov.uk/v1/peoplepopulationandcommunity/birthsdeathsandmarriages/deaths'}}, 'national_statistic': True, 'next_release': '11 June 2025', 'qmi': {'href': 'https://www.ons.gov.uk/peoplepopulationandcommunity/birthsdeathsandmarriages/deaths/methodologies/mortalitystatisticsinenglandandwalesqmi'}, 'release_frequency': 'Weekly', 'state': 'published', 'title': 'Deaths registered weekly in England and Wales by region'}",
         "20",
         "0",
         "20",
         "337"
        ],
        [
         "3",
         "{'contacts': [{'email': 'health.data@ons.gov.uk', 'name': 'Sarah Caul', 'telephone': '+44 1329 444110'}], 'description': 'Provisional counts of the number of deaths registered in England and Wales, including deaths involving the coronavirus (COVID-19), by local authority, health board and place of death in the latest weeks for which data are available.', 'keywords': ['Deaths', 'weekly deaths'], 'id': 'weekly-deaths-local-authority', 'last_updated': '2024-01-09T10:10:57.755Z', 'links': {'editions': {'href': 'https://api.beta.ons.gov.uk/v1/datasets/weekly-deaths-local-authority/editions'}, 'latest_version': {'href': 'https://api.beta.ons.gov.uk/v1/datasets/weekly-deaths-local-authority/editions/2023/versions/50', 'id': '50'}, 'self': {'href': 'https://api.beta.ons.gov.uk/v1/datasets/weekly-deaths-local-authority'}, 'taxonomy': {'href': 'https://api.beta.ons.gov.uk/v1/peoplepopulationandcommunity/birthsdeathsandmarriages/deaths'}}, 'national_statistic': True, 'next_release': '17 January 2024', 'qmi': {'href': 'https://www.ons.gov.uk/peoplepopulationandcommunity/birthsdeathsandmarriages/deaths/methodologies/mortalitystatisticsinenglandandwalesqmi'}, 'release_frequency': 'Weekly', 'state': 'published', 'title': 'Death registrations and occurrences by local authority and place of death'}",
         "20",
         "0",
         "20",
         "337"
        ],
        [
         "4",
         "{'contacts': [{'email': 'health.data@ons.gov.uk', 'name': 'Sarah Caul', 'telephone': '+44 1329 444110'}], 'description': 'Provisional counts of the number of deaths registered in Wales, by health board and place of death, in the latest weeks for which data are available.', 'keywords': ['Deaths', 'weekly deaths'], 'id': 'weekly-deaths-health-board', 'last_updated': '2024-01-09T10:11:08.441Z', 'links': {'editions': {'href': 'https://api.beta.ons.gov.uk/v1/datasets/weekly-deaths-health-board/editions'}, 'latest_version': {'href': 'https://api.beta.ons.gov.uk/v1/datasets/weekly-deaths-health-board/editions/2023/versions/50', 'id': '50'}, 'self': {'href': 'https://api.beta.ons.gov.uk/v1/datasets/weekly-deaths-health-board'}, 'taxonomy': {'href': 'https://api.beta.ons.gov.uk/v1/peoplepopulationandcommunity/birthsdeathsandmarriages/deaths'}}, 'national_statistic': True, 'next_release': '17 January 2024', 'qmi': {'href': 'https://www.ons.gov.uk/peoplepopulationandcommunity/birthsdeathsandmarriages/deaths/methodologies/mortalitystatisticsinenglandandwalesqmi'}, 'release_frequency': 'Weekly', 'state': 'published', 'title': 'Death registrations and occurrences by health board and place of death'}",
         "20",
         "0",
         "20",
         "337"
        ]
       ],
       "shape": {
        "columns": 5,
        "rows": 5
       }
      },
      "text/html": [
       "<div>\n",
       "<style scoped>\n",
       "    .dataframe tbody tr th:only-of-type {\n",
       "        vertical-align: middle;\n",
       "    }\n",
       "\n",
       "    .dataframe tbody tr th {\n",
       "        vertical-align: top;\n",
       "    }\n",
       "\n",
       "    .dataframe thead th {\n",
       "        text-align: right;\n",
       "    }\n",
       "</style>\n",
       "<table border=\"1\" class=\"dataframe\">\n",
       "  <thead>\n",
       "    <tr style=\"text-align: right;\">\n",
       "      <th></th>\n",
       "      <th>items</th>\n",
       "      <th>count</th>\n",
       "      <th>offset</th>\n",
       "      <th>limit</th>\n",
       "      <th>total_count</th>\n",
       "    </tr>\n",
       "  </thead>\n",
       "  <tbody>\n",
       "    <tr>\n",
       "      <th>0</th>\n",
       "      <td>{'contacts': [{'email': 'qualityoflife@ons.gov...</td>\n",
       "      <td>20</td>\n",
       "      <td>0</td>\n",
       "      <td>20</td>\n",
       "      <td>337</td>\n",
       "    </tr>\n",
       "    <tr>\n",
       "      <th>1</th>\n",
       "      <td>{'contacts': [{'email': 'QualityOfLife@ons.gov...</td>\n",
       "      <td>20</td>\n",
       "      <td>0</td>\n",
       "      <td>20</td>\n",
       "      <td>337</td>\n",
       "    </tr>\n",
       "    <tr>\n",
       "      <th>2</th>\n",
       "      <td>{'contacts': [{'email': 'health.data@ons.gov.u...</td>\n",
       "      <td>20</td>\n",
       "      <td>0</td>\n",
       "      <td>20</td>\n",
       "      <td>337</td>\n",
       "    </tr>\n",
       "    <tr>\n",
       "      <th>3</th>\n",
       "      <td>{'contacts': [{'email': 'health.data@ons.gov.u...</td>\n",
       "      <td>20</td>\n",
       "      <td>0</td>\n",
       "      <td>20</td>\n",
       "      <td>337</td>\n",
       "    </tr>\n",
       "    <tr>\n",
       "      <th>4</th>\n",
       "      <td>{'contacts': [{'email': 'health.data@ons.gov.u...</td>\n",
       "      <td>20</td>\n",
       "      <td>0</td>\n",
       "      <td>20</td>\n",
       "      <td>337</td>\n",
       "    </tr>\n",
       "  </tbody>\n",
       "</table>\n",
       "</div>"
      ],
      "text/plain": [
       "                                               items  count  offset  limit  \\\n",
       "0  {'contacts': [{'email': 'qualityoflife@ons.gov...     20       0     20   \n",
       "1  {'contacts': [{'email': 'QualityOfLife@ons.gov...     20       0     20   \n",
       "2  {'contacts': [{'email': 'health.data@ons.gov.u...     20       0     20   \n",
       "3  {'contacts': [{'email': 'health.data@ons.gov.u...     20       0     20   \n",
       "4  {'contacts': [{'email': 'health.data@ons.gov.u...     20       0     20   \n",
       "\n",
       "   total_count  \n",
       "0          337  \n",
       "1          337  \n",
       "2          337  \n",
       "3          337  \n",
       "4          337  "
      ]
     },
     "execution_count": 3,
     "metadata": {},
     "output_type": "execute_result"
    }
   ],
   "source": [
    "#get datasets\n",
    "\n",
    "dataset_resp = requests.get(endpoint + \"/datasets\")\n",
    "dataset_json = dataset_resp.json()\n",
    "\n",
    "dataset_df = pd.DataFrame(dataset_json)\n",
    "\n",
    "dataset_df.head()"
   ]
  },
  {
   "cell_type": "markdown",
   "id": "86bbd056",
   "metadata": {},
   "source": [
    "In the above cell you got 20 results, but the `total_count` column implies there are 337 datasets. How do we get them all?\n",
    "[API docs](https://developer.ons.gov.uk/dataset/datasets/) suggest we can use a `limit` argument to get all results."
   ]
  },
  {
   "cell_type": "code",
   "execution_count": 4,
   "id": "efb2cedb",
   "metadata": {},
   "outputs": [
    {
     "data": {
      "text/plain": [
       "337"
      ]
     },
     "execution_count": 4,
     "metadata": {},
     "output_type": "execute_result"
    }
   ],
   "source": [
    "params = {\"limit\": 337}\n",
    "\n",
    "dataset_resp = requests.get(endpoint + \"/datasets\", params = params)\n",
    "dataset_json = dataset_resp.json()\n",
    "\n",
    "dataset_df = pd.DataFrame(dataset_json) \n",
    "\n",
    "dataset_df.shape[0]"
   ]
  },
  {
   "cell_type": "markdown",
   "id": "8dff6867",
   "metadata": {},
   "source": [
    "337 rows! More promising. Let's take a look"
   ]
  },
  {
   "cell_type": "code",
   "execution_count": 5,
   "id": "00ea534c",
   "metadata": {},
   "outputs": [
    {
     "data": {
      "application/vnd.microsoft.datawrangler.viewer.v0+json": {
       "columns": [
        {
         "name": "index",
         "rawType": "int64",
         "type": "integer"
        },
        {
         "name": "items",
         "rawType": "object",
         "type": "unknown"
        },
        {
         "name": "count",
         "rawType": "int64",
         "type": "integer"
        },
        {
         "name": "offset",
         "rawType": "int64",
         "type": "integer"
        },
        {
         "name": "limit",
         "rawType": "int64",
         "type": "integer"
        },
        {
         "name": "total_count",
         "rawType": "int64",
         "type": "integer"
        }
       ],
       "ref": "69d62b64-ead6-4e16-9681-1334b8897279",
       "rows": [
        [
         "0",
         "{'contacts': [{'email': 'qualityoflife@ons.gov.uk', 'name': 'Will Shufflebottom, Owain Birrell, Pavan Bains and Geeta Kerai', 'telephone': '+44 300 0671543'}], 'description': 'Seasonally and non seasonally-adjusted quarterly estimates of life satisfaction, feeling that the things done in life are worthwhile, happiness and anxiety in the UK.', 'keywords': ['well-being'], 'id': 'wellbeing-quarterly', 'last_updated': '2023-12-13T09:40:24.204Z', 'links': {'editions': {'href': 'https://api.beta.ons.gov.uk/v1/datasets/wellbeing-quarterly/editions'}, 'latest_version': {'href': 'https://api.beta.ons.gov.uk/v1/datasets/wellbeing-quarterly/editions/time-series/versions/9', 'id': '9'}, 'self': {'href': 'https://api.beta.ons.gov.uk/v1/datasets/wellbeing-quarterly'}, 'taxonomy': {'href': 'https://api.beta.ons.gov.uk/v1/peoplepopulationandcommunity/wellbeing'}}, 'methodologies': [{'href': 'https://www.ons.gov.uk/peoplepopulationandcommunity/wellbeing/methodologies/personalwellbeingquarterlyestimatestechnicalreport', 'title': 'Personal well-being quarterly estimates technical report'}], 'national_statistic': False, 'next_release': 'TBC', 'qmi': {'href': 'https://www.ons.gov.uk/peoplepopulationandcommunity/wellbeing/methodologies/personalwellbeingintheukqmi'}, 'related_datasets': [{'href': 'https://www.ons.gov.uk/peoplepopulationandcommunity/wellbeing/datasets/ukmeasuresofnationalwellbeing', 'title': 'Personal well-being in the UK'}], 'release_frequency': 'Quarterly', 'state': 'published', 'title': 'Quarterly personal well-being estimates', 'unit_of_measure': 'Percentage'}",
         "337",
         "0",
         "337",
         "337"
        ],
        [
         "1",
         "{'contacts': [{'email': 'QualityOfLife@ons.gov.uk', 'name': 'Rachel Mullis, Joe Shepherd and Geeta Kerai', 'telephone': '+44 3000 671 543'}], 'description': 'Estimates of life satisfaction, feeling that the things done in life are worthwhile, happiness and anxiety at the UK, country, regional, county, local and unitary authority level.', 'keywords': ['well-being'], 'id': 'wellbeing-local-authority', 'last_updated': '2023-12-13T09:40:21.928Z', 'links': {'editions': {'href': 'https://api.beta.ons.gov.uk/v1/datasets/wellbeing-local-authority/editions'}, 'latest_version': {'href': 'https://api.beta.ons.gov.uk/v1/datasets/wellbeing-local-authority/editions/time-series/versions/4', 'id': '4'}, 'self': {'href': 'https://api.beta.ons.gov.uk/v1/datasets/wellbeing-local-authority'}, 'taxonomy': {'href': 'https://api.beta.ons.gov.uk/v1/peoplepopulationandcommunity/wellbeing'}}, 'national_statistic': True, 'next_release': 'TBC', 'qmi': {'href': 'https://www.ons.gov.uk/peoplepopulationandcommunity/wellbeing/methodologies/personalwellbeingintheukqmi'}, 'related_datasets': [{'href': 'https://www.ons.gov.uk/peoplepopulationandcommunity/wellbeing/bulletins/measuringnationalwellbeing/april2022tomarch2023', 'title': 'Personal well-being in the UK: April 2022 to March 2023'}], 'release_frequency': 'Annual', 'state': 'published', 'title': 'Personal well-being estimates by local authority', 'unit_of_measure': 'Percentage'}",
         "337",
         "0",
         "337",
         "337"
        ],
        [
         "2",
         "{'contacts': [{'email': 'health.data@ons.gov.uk', 'name': 'Data Insights and Data Science team', 'telephone': '+44 1329 444110'}], 'description': 'Provisional counts of the number of deaths registered in England and Wales, by region, in the latest weeks for which data are available.', 'keywords': ['Deaths', 'weekly deaths'], 'id': 'weekly-deaths-region', 'last_updated': '2025-06-05T09:11:16.664Z', 'links': {'editions': {'href': 'https://api.beta.ons.gov.uk/v1/datasets/weekly-deaths-region/editions'}, 'latest_version': {'href': 'https://api.beta.ons.gov.uk/v1/datasets/weekly-deaths-region/editions/time-series/versions/71', 'id': '71'}, 'self': {'href': 'https://api.beta.ons.gov.uk/v1/datasets/weekly-deaths-region'}, 'taxonomy': {'href': 'https://api.beta.ons.gov.uk/v1/peoplepopulationandcommunity/birthsdeathsandmarriages/deaths'}}, 'national_statistic': True, 'next_release': '11 June 2025', 'qmi': {'href': 'https://www.ons.gov.uk/peoplepopulationandcommunity/birthsdeathsandmarriages/deaths/methodologies/mortalitystatisticsinenglandandwalesqmi'}, 'release_frequency': 'Weekly', 'state': 'published', 'title': 'Deaths registered weekly in England and Wales by region'}",
         "337",
         "0",
         "337",
         "337"
        ],
        [
         "3",
         "{'contacts': [{'email': 'health.data@ons.gov.uk', 'name': 'Sarah Caul', 'telephone': '+44 1329 444110'}], 'description': 'Provisional counts of the number of deaths registered in England and Wales, including deaths involving the coronavirus (COVID-19), by local authority, health board and place of death in the latest weeks for which data are available.', 'keywords': ['Deaths', 'weekly deaths'], 'id': 'weekly-deaths-local-authority', 'last_updated': '2024-01-09T10:10:57.755Z', 'links': {'editions': {'href': 'https://api.beta.ons.gov.uk/v1/datasets/weekly-deaths-local-authority/editions'}, 'latest_version': {'href': 'https://api.beta.ons.gov.uk/v1/datasets/weekly-deaths-local-authority/editions/2023/versions/50', 'id': '50'}, 'self': {'href': 'https://api.beta.ons.gov.uk/v1/datasets/weekly-deaths-local-authority'}, 'taxonomy': {'href': 'https://api.beta.ons.gov.uk/v1/peoplepopulationandcommunity/birthsdeathsandmarriages/deaths'}}, 'national_statistic': True, 'next_release': '17 January 2024', 'qmi': {'href': 'https://www.ons.gov.uk/peoplepopulationandcommunity/birthsdeathsandmarriages/deaths/methodologies/mortalitystatisticsinenglandandwalesqmi'}, 'release_frequency': 'Weekly', 'state': 'published', 'title': 'Death registrations and occurrences by local authority and place of death'}",
         "337",
         "0",
         "337",
         "337"
        ],
        [
         "4",
         "{'contacts': [{'email': 'health.data@ons.gov.uk', 'name': 'Sarah Caul', 'telephone': '+44 1329 444110'}], 'description': 'Provisional counts of the number of deaths registered in Wales, by health board and place of death, in the latest weeks for which data are available.', 'keywords': ['Deaths', 'weekly deaths'], 'id': 'weekly-deaths-health-board', 'last_updated': '2024-01-09T10:11:08.441Z', 'links': {'editions': {'href': 'https://api.beta.ons.gov.uk/v1/datasets/weekly-deaths-health-board/editions'}, 'latest_version': {'href': 'https://api.beta.ons.gov.uk/v1/datasets/weekly-deaths-health-board/editions/2023/versions/50', 'id': '50'}, 'self': {'href': 'https://api.beta.ons.gov.uk/v1/datasets/weekly-deaths-health-board'}, 'taxonomy': {'href': 'https://api.beta.ons.gov.uk/v1/peoplepopulationandcommunity/birthsdeathsandmarriages/deaths'}}, 'national_statistic': True, 'next_release': '17 January 2024', 'qmi': {'href': 'https://www.ons.gov.uk/peoplepopulationandcommunity/birthsdeathsandmarriages/deaths/methodologies/mortalitystatisticsinenglandandwalesqmi'}, 'release_frequency': 'Weekly', 'state': 'published', 'title': 'Death registrations and occurrences by health board and place of death'}",
         "337",
         "0",
         "337",
         "337"
        ]
       ],
       "shape": {
        "columns": 5,
        "rows": 5
       }
      },
      "text/html": [
       "<div>\n",
       "<style scoped>\n",
       "    .dataframe tbody tr th:only-of-type {\n",
       "        vertical-align: middle;\n",
       "    }\n",
       "\n",
       "    .dataframe tbody tr th {\n",
       "        vertical-align: top;\n",
       "    }\n",
       "\n",
       "    .dataframe thead th {\n",
       "        text-align: right;\n",
       "    }\n",
       "</style>\n",
       "<table border=\"1\" class=\"dataframe\">\n",
       "  <thead>\n",
       "    <tr style=\"text-align: right;\">\n",
       "      <th></th>\n",
       "      <th>items</th>\n",
       "      <th>count</th>\n",
       "      <th>offset</th>\n",
       "      <th>limit</th>\n",
       "      <th>total_count</th>\n",
       "    </tr>\n",
       "  </thead>\n",
       "  <tbody>\n",
       "    <tr>\n",
       "      <th>0</th>\n",
       "      <td>{'contacts': [{'email': 'qualityoflife@ons.gov...</td>\n",
       "      <td>337</td>\n",
       "      <td>0</td>\n",
       "      <td>337</td>\n",
       "      <td>337</td>\n",
       "    </tr>\n",
       "    <tr>\n",
       "      <th>1</th>\n",
       "      <td>{'contacts': [{'email': 'QualityOfLife@ons.gov...</td>\n",
       "      <td>337</td>\n",
       "      <td>0</td>\n",
       "      <td>337</td>\n",
       "      <td>337</td>\n",
       "    </tr>\n",
       "    <tr>\n",
       "      <th>2</th>\n",
       "      <td>{'contacts': [{'email': 'health.data@ons.gov.u...</td>\n",
       "      <td>337</td>\n",
       "      <td>0</td>\n",
       "      <td>337</td>\n",
       "      <td>337</td>\n",
       "    </tr>\n",
       "    <tr>\n",
       "      <th>3</th>\n",
       "      <td>{'contacts': [{'email': 'health.data@ons.gov.u...</td>\n",
       "      <td>337</td>\n",
       "      <td>0</td>\n",
       "      <td>337</td>\n",
       "      <td>337</td>\n",
       "    </tr>\n",
       "    <tr>\n",
       "      <th>4</th>\n",
       "      <td>{'contacts': [{'email': 'health.data@ons.gov.u...</td>\n",
       "      <td>337</td>\n",
       "      <td>0</td>\n",
       "      <td>337</td>\n",
       "      <td>337</td>\n",
       "    </tr>\n",
       "  </tbody>\n",
       "</table>\n",
       "</div>"
      ],
      "text/plain": [
       "                                               items  count  offset  limit  \\\n",
       "0  {'contacts': [{'email': 'qualityoflife@ons.gov...    337       0    337   \n",
       "1  {'contacts': [{'email': 'QualityOfLife@ons.gov...    337       0    337   \n",
       "2  {'contacts': [{'email': 'health.data@ons.gov.u...    337       0    337   \n",
       "3  {'contacts': [{'email': 'health.data@ons.gov.u...    337       0    337   \n",
       "4  {'contacts': [{'email': 'health.data@ons.gov.u...    337       0    337   \n",
       "\n",
       "   total_count  \n",
       "0          337  \n",
       "1          337  \n",
       "2          337  \n",
       "3          337  \n",
       "4          337  "
      ]
     },
     "execution_count": 5,
     "metadata": {},
     "output_type": "execute_result"
    }
   ],
   "source": [
    "dataset_df.head()"
   ]
  },
  {
   "cell_type": "markdown",
   "id": "6b2c042c",
   "metadata": {},
   "source": [
    "We're clearly interested in the `items` column - we'll create the dataframe on that instead."
   ]
  },
  {
   "cell_type": "code",
   "execution_count": 6,
   "id": "e77242a6",
   "metadata": {},
   "outputs": [
    {
     "data": {
      "application/vnd.microsoft.datawrangler.viewer.v0+json": {
       "columns": [
        {
         "name": "index",
         "rawType": "int64",
         "type": "integer"
        },
        {
         "name": "contacts",
         "rawType": "object",
         "type": "unknown"
        },
        {
         "name": "description",
         "rawType": "object",
         "type": "string"
        },
        {
         "name": "keywords",
         "rawType": "object",
         "type": "unknown"
        },
        {
         "name": "id",
         "rawType": "object",
         "type": "string"
        },
        {
         "name": "last_updated",
         "rawType": "object",
         "type": "string"
        },
        {
         "name": "links",
         "rawType": "object",
         "type": "unknown"
        },
        {
         "name": "methodologies",
         "rawType": "object",
         "type": "unknown"
        },
        {
         "name": "national_statistic",
         "rawType": "object",
         "type": "unknown"
        },
        {
         "name": "next_release",
         "rawType": "object",
         "type": "string"
        },
        {
         "name": "qmi",
         "rawType": "object",
         "type": "unknown"
        },
        {
         "name": "related_datasets",
         "rawType": "object",
         "type": "unknown"
        },
        {
         "name": "release_frequency",
         "rawType": "object",
         "type": "string"
        },
        {
         "name": "state",
         "rawType": "object",
         "type": "string"
        },
        {
         "name": "title",
         "rawType": "object",
         "type": "string"
        },
        {
         "name": "unit_of_measure",
         "rawType": "object",
         "type": "unknown"
        },
        {
         "name": "type",
         "rawType": "object",
         "type": "unknown"
        },
        {
         "name": "publications",
         "rawType": "object",
         "type": "unknown"
        },
        {
         "name": "license",
         "rawType": "object",
         "type": "unknown"
        },
        {
         "name": "is_based_on",
         "rawType": "object",
         "type": "unknown"
        },
        {
         "name": "canonical_topic",
         "rawType": "object",
         "type": "unknown"
        },
        {
         "name": "subtopics",
         "rawType": "object",
         "type": "unknown"
        },
        {
         "name": "survey",
         "rawType": "object",
         "type": "unknown"
        },
        {
         "name": "related_content",
         "rawType": "object",
         "type": "unknown"
        }
       ],
       "ref": "44416574-6cc6-431b-8781-f6db9bf7f688",
       "rows": [
        [
         "0",
         "[{'email': 'qualityoflife@ons.gov.uk', 'name': 'Will Shufflebottom, Owain Birrell, Pavan Bains and Geeta Kerai', 'telephone': '+44 300 0671543'}]",
         "Seasonally and non seasonally-adjusted quarterly estimates of life satisfaction, feeling that the things done in life are worthwhile, happiness and anxiety in the UK.",
         "['well-being']",
         "wellbeing-quarterly",
         "2023-12-13T09:40:24.204Z",
         "{'editions': {'href': 'https://api.beta.ons.gov.uk/v1/datasets/wellbeing-quarterly/editions'}, 'latest_version': {'href': 'https://api.beta.ons.gov.uk/v1/datasets/wellbeing-quarterly/editions/time-series/versions/9', 'id': '9'}, 'self': {'href': 'https://api.beta.ons.gov.uk/v1/datasets/wellbeing-quarterly'}, 'taxonomy': {'href': 'https://api.beta.ons.gov.uk/v1/peoplepopulationandcommunity/wellbeing'}}",
         "[{'href': 'https://www.ons.gov.uk/peoplepopulationandcommunity/wellbeing/methodologies/personalwellbeingquarterlyestimatestechnicalreport', 'title': 'Personal well-being quarterly estimates technical report'}]",
         "False",
         "TBC",
         "{'href': 'https://www.ons.gov.uk/peoplepopulationandcommunity/wellbeing/methodologies/personalwellbeingintheukqmi'}",
         "[{'href': 'https://www.ons.gov.uk/peoplepopulationandcommunity/wellbeing/datasets/ukmeasuresofnationalwellbeing', 'title': 'Personal well-being in the UK'}]",
         "Quarterly",
         "published",
         "Quarterly personal well-being estimates",
         "Percentage",
         null,
         null,
         null,
         null,
         null,
         null,
         null,
         null
        ],
        [
         "1",
         "[{'email': 'QualityOfLife@ons.gov.uk', 'name': 'Rachel Mullis, Joe Shepherd and Geeta Kerai', 'telephone': '+44 3000 671 543'}]",
         "Estimates of life satisfaction, feeling that the things done in life are worthwhile, happiness and anxiety at the UK, country, regional, county, local and unitary authority level.",
         "['well-being']",
         "wellbeing-local-authority",
         "2023-12-13T09:40:21.928Z",
         "{'editions': {'href': 'https://api.beta.ons.gov.uk/v1/datasets/wellbeing-local-authority/editions'}, 'latest_version': {'href': 'https://api.beta.ons.gov.uk/v1/datasets/wellbeing-local-authority/editions/time-series/versions/4', 'id': '4'}, 'self': {'href': 'https://api.beta.ons.gov.uk/v1/datasets/wellbeing-local-authority'}, 'taxonomy': {'href': 'https://api.beta.ons.gov.uk/v1/peoplepopulationandcommunity/wellbeing'}}",
         null,
         "True",
         "TBC",
         "{'href': 'https://www.ons.gov.uk/peoplepopulationandcommunity/wellbeing/methodologies/personalwellbeingintheukqmi'}",
         "[{'href': 'https://www.ons.gov.uk/peoplepopulationandcommunity/wellbeing/bulletins/measuringnationalwellbeing/april2022tomarch2023', 'title': 'Personal well-being in the UK: April 2022 to March 2023'}]",
         "Annual",
         "published",
         "Personal well-being estimates by local authority",
         "Percentage",
         null,
         null,
         null,
         null,
         null,
         null,
         null,
         null
        ],
        [
         "2",
         "[{'email': 'health.data@ons.gov.uk', 'name': 'Data Insights and Data Science team', 'telephone': '+44 1329 444110'}]",
         "Provisional counts of the number of deaths registered in England and Wales, by region, in the latest weeks for which data are available.",
         "['Deaths', 'weekly deaths']",
         "weekly-deaths-region",
         "2025-06-05T09:11:16.664Z",
         "{'editions': {'href': 'https://api.beta.ons.gov.uk/v1/datasets/weekly-deaths-region/editions'}, 'latest_version': {'href': 'https://api.beta.ons.gov.uk/v1/datasets/weekly-deaths-region/editions/time-series/versions/71', 'id': '71'}, 'self': {'href': 'https://api.beta.ons.gov.uk/v1/datasets/weekly-deaths-region'}, 'taxonomy': {'href': 'https://api.beta.ons.gov.uk/v1/peoplepopulationandcommunity/birthsdeathsandmarriages/deaths'}}",
         null,
         "True",
         "11 June 2025",
         "{'href': 'https://www.ons.gov.uk/peoplepopulationandcommunity/birthsdeathsandmarriages/deaths/methodologies/mortalitystatisticsinenglandandwalesqmi'}",
         null,
         "Weekly",
         "published",
         "Deaths registered weekly in England and Wales by region",
         null,
         null,
         null,
         null,
         null,
         null,
         null,
         null,
         null
        ],
        [
         "3",
         "[{'email': 'health.data@ons.gov.uk', 'name': 'Sarah Caul', 'telephone': '+44 1329 444110'}]",
         "Provisional counts of the number of deaths registered in England and Wales, including deaths involving the coronavirus (COVID-19), by local authority, health board and place of death in the latest weeks for which data are available.",
         "['Deaths', 'weekly deaths']",
         "weekly-deaths-local-authority",
         "2024-01-09T10:10:57.755Z",
         "{'editions': {'href': 'https://api.beta.ons.gov.uk/v1/datasets/weekly-deaths-local-authority/editions'}, 'latest_version': {'href': 'https://api.beta.ons.gov.uk/v1/datasets/weekly-deaths-local-authority/editions/2023/versions/50', 'id': '50'}, 'self': {'href': 'https://api.beta.ons.gov.uk/v1/datasets/weekly-deaths-local-authority'}, 'taxonomy': {'href': 'https://api.beta.ons.gov.uk/v1/peoplepopulationandcommunity/birthsdeathsandmarriages/deaths'}}",
         null,
         "True",
         "17 January 2024",
         "{'href': 'https://www.ons.gov.uk/peoplepopulationandcommunity/birthsdeathsandmarriages/deaths/methodologies/mortalitystatisticsinenglandandwalesqmi'}",
         null,
         "Weekly",
         "published",
         "Death registrations and occurrences by local authority and place of death",
         null,
         null,
         null,
         null,
         null,
         null,
         null,
         null,
         null
        ],
        [
         "4",
         "[{'email': 'health.data@ons.gov.uk', 'name': 'Sarah Caul', 'telephone': '+44 1329 444110'}]",
         "Provisional counts of the number of deaths registered in Wales, by health board and place of death, in the latest weeks for which data are available.",
         "['Deaths', 'weekly deaths']",
         "weekly-deaths-health-board",
         "2024-01-09T10:11:08.441Z",
         "{'editions': {'href': 'https://api.beta.ons.gov.uk/v1/datasets/weekly-deaths-health-board/editions'}, 'latest_version': {'href': 'https://api.beta.ons.gov.uk/v1/datasets/weekly-deaths-health-board/editions/2023/versions/50', 'id': '50'}, 'self': {'href': 'https://api.beta.ons.gov.uk/v1/datasets/weekly-deaths-health-board'}, 'taxonomy': {'href': 'https://api.beta.ons.gov.uk/v1/peoplepopulationandcommunity/birthsdeathsandmarriages/deaths'}}",
         null,
         "True",
         "17 January 2024",
         "{'href': 'https://www.ons.gov.uk/peoplepopulationandcommunity/birthsdeathsandmarriages/deaths/methodologies/mortalitystatisticsinenglandandwalesqmi'}",
         null,
         "Weekly",
         "published",
         "Death registrations and occurrences by health board and place of death",
         null,
         null,
         null,
         null,
         null,
         null,
         null,
         null,
         null
        ]
       ],
       "shape": {
        "columns": 23,
        "rows": 5
       }
      },
      "text/html": [
       "<div>\n",
       "<style scoped>\n",
       "    .dataframe tbody tr th:only-of-type {\n",
       "        vertical-align: middle;\n",
       "    }\n",
       "\n",
       "    .dataframe tbody tr th {\n",
       "        vertical-align: top;\n",
       "    }\n",
       "\n",
       "    .dataframe thead th {\n",
       "        text-align: right;\n",
       "    }\n",
       "</style>\n",
       "<table border=\"1\" class=\"dataframe\">\n",
       "  <thead>\n",
       "    <tr style=\"text-align: right;\">\n",
       "      <th></th>\n",
       "      <th>contacts</th>\n",
       "      <th>description</th>\n",
       "      <th>keywords</th>\n",
       "      <th>id</th>\n",
       "      <th>last_updated</th>\n",
       "      <th>links</th>\n",
       "      <th>methodologies</th>\n",
       "      <th>national_statistic</th>\n",
       "      <th>next_release</th>\n",
       "      <th>qmi</th>\n",
       "      <th>...</th>\n",
       "      <th>title</th>\n",
       "      <th>unit_of_measure</th>\n",
       "      <th>type</th>\n",
       "      <th>publications</th>\n",
       "      <th>license</th>\n",
       "      <th>is_based_on</th>\n",
       "      <th>canonical_topic</th>\n",
       "      <th>subtopics</th>\n",
       "      <th>survey</th>\n",
       "      <th>related_content</th>\n",
       "    </tr>\n",
       "  </thead>\n",
       "  <tbody>\n",
       "    <tr>\n",
       "      <th>0</th>\n",
       "      <td>[{'email': 'qualityoflife@ons.gov.uk', 'name':...</td>\n",
       "      <td>Seasonally and non seasonally-adjusted quarter...</td>\n",
       "      <td>[well-being]</td>\n",
       "      <td>wellbeing-quarterly</td>\n",
       "      <td>2023-12-13T09:40:24.204Z</td>\n",
       "      <td>{'editions': {'href': 'https://api.beta.ons.go...</td>\n",
       "      <td>[{'href': 'https://www.ons.gov.uk/peoplepopula...</td>\n",
       "      <td>False</td>\n",
       "      <td>TBC</td>\n",
       "      <td>{'href': 'https://www.ons.gov.uk/peoplepopulat...</td>\n",
       "      <td>...</td>\n",
       "      <td>Quarterly personal well-being estimates</td>\n",
       "      <td>Percentage</td>\n",
       "      <td>NaN</td>\n",
       "      <td>NaN</td>\n",
       "      <td>NaN</td>\n",
       "      <td>NaN</td>\n",
       "      <td>NaN</td>\n",
       "      <td>NaN</td>\n",
       "      <td>NaN</td>\n",
       "      <td>NaN</td>\n",
       "    </tr>\n",
       "    <tr>\n",
       "      <th>1</th>\n",
       "      <td>[{'email': 'QualityOfLife@ons.gov.uk', 'name':...</td>\n",
       "      <td>Estimates of life satisfaction, feeling that t...</td>\n",
       "      <td>[well-being]</td>\n",
       "      <td>wellbeing-local-authority</td>\n",
       "      <td>2023-12-13T09:40:21.928Z</td>\n",
       "      <td>{'editions': {'href': 'https://api.beta.ons.go...</td>\n",
       "      <td>NaN</td>\n",
       "      <td>True</td>\n",
       "      <td>TBC</td>\n",
       "      <td>{'href': 'https://www.ons.gov.uk/peoplepopulat...</td>\n",
       "      <td>...</td>\n",
       "      <td>Personal well-being estimates by local authority</td>\n",
       "      <td>Percentage</td>\n",
       "      <td>NaN</td>\n",
       "      <td>NaN</td>\n",
       "      <td>NaN</td>\n",
       "      <td>NaN</td>\n",
       "      <td>NaN</td>\n",
       "      <td>NaN</td>\n",
       "      <td>NaN</td>\n",
       "      <td>NaN</td>\n",
       "    </tr>\n",
       "    <tr>\n",
       "      <th>2</th>\n",
       "      <td>[{'email': 'health.data@ons.gov.uk', 'name': '...</td>\n",
       "      <td>Provisional counts of the number of deaths reg...</td>\n",
       "      <td>[Deaths, weekly deaths]</td>\n",
       "      <td>weekly-deaths-region</td>\n",
       "      <td>2025-06-05T09:11:16.664Z</td>\n",
       "      <td>{'editions': {'href': 'https://api.beta.ons.go...</td>\n",
       "      <td>NaN</td>\n",
       "      <td>True</td>\n",
       "      <td>11 June 2025</td>\n",
       "      <td>{'href': 'https://www.ons.gov.uk/peoplepopulat...</td>\n",
       "      <td>...</td>\n",
       "      <td>Deaths registered weekly in England and Wales ...</td>\n",
       "      <td>NaN</td>\n",
       "      <td>NaN</td>\n",
       "      <td>NaN</td>\n",
       "      <td>NaN</td>\n",
       "      <td>NaN</td>\n",
       "      <td>NaN</td>\n",
       "      <td>NaN</td>\n",
       "      <td>NaN</td>\n",
       "      <td>NaN</td>\n",
       "    </tr>\n",
       "    <tr>\n",
       "      <th>3</th>\n",
       "      <td>[{'email': 'health.data@ons.gov.uk', 'name': '...</td>\n",
       "      <td>Provisional counts of the number of deaths reg...</td>\n",
       "      <td>[Deaths, weekly deaths]</td>\n",
       "      <td>weekly-deaths-local-authority</td>\n",
       "      <td>2024-01-09T10:10:57.755Z</td>\n",
       "      <td>{'editions': {'href': 'https://api.beta.ons.go...</td>\n",
       "      <td>NaN</td>\n",
       "      <td>True</td>\n",
       "      <td>17 January 2024</td>\n",
       "      <td>{'href': 'https://www.ons.gov.uk/peoplepopulat...</td>\n",
       "      <td>...</td>\n",
       "      <td>Death registrations and occurrences by local a...</td>\n",
       "      <td>NaN</td>\n",
       "      <td>NaN</td>\n",
       "      <td>NaN</td>\n",
       "      <td>NaN</td>\n",
       "      <td>NaN</td>\n",
       "      <td>NaN</td>\n",
       "      <td>NaN</td>\n",
       "      <td>NaN</td>\n",
       "      <td>NaN</td>\n",
       "    </tr>\n",
       "    <tr>\n",
       "      <th>4</th>\n",
       "      <td>[{'email': 'health.data@ons.gov.uk', 'name': '...</td>\n",
       "      <td>Provisional counts of the number of deaths reg...</td>\n",
       "      <td>[Deaths, weekly deaths]</td>\n",
       "      <td>weekly-deaths-health-board</td>\n",
       "      <td>2024-01-09T10:11:08.441Z</td>\n",
       "      <td>{'editions': {'href': 'https://api.beta.ons.go...</td>\n",
       "      <td>NaN</td>\n",
       "      <td>True</td>\n",
       "      <td>17 January 2024</td>\n",
       "      <td>{'href': 'https://www.ons.gov.uk/peoplepopulat...</td>\n",
       "      <td>...</td>\n",
       "      <td>Death registrations and occurrences by health ...</td>\n",
       "      <td>NaN</td>\n",
       "      <td>NaN</td>\n",
       "      <td>NaN</td>\n",
       "      <td>NaN</td>\n",
       "      <td>NaN</td>\n",
       "      <td>NaN</td>\n",
       "      <td>NaN</td>\n",
       "      <td>NaN</td>\n",
       "      <td>NaN</td>\n",
       "    </tr>\n",
       "  </tbody>\n",
       "</table>\n",
       "<p>5 rows × 23 columns</p>\n",
       "</div>"
      ],
      "text/plain": [
       "                                            contacts  \\\n",
       "0  [{'email': 'qualityoflife@ons.gov.uk', 'name':...   \n",
       "1  [{'email': 'QualityOfLife@ons.gov.uk', 'name':...   \n",
       "2  [{'email': 'health.data@ons.gov.uk', 'name': '...   \n",
       "3  [{'email': 'health.data@ons.gov.uk', 'name': '...   \n",
       "4  [{'email': 'health.data@ons.gov.uk', 'name': '...   \n",
       "\n",
       "                                         description                 keywords  \\\n",
       "0  Seasonally and non seasonally-adjusted quarter...             [well-being]   \n",
       "1  Estimates of life satisfaction, feeling that t...             [well-being]   \n",
       "2  Provisional counts of the number of deaths reg...  [Deaths, weekly deaths]   \n",
       "3  Provisional counts of the number of deaths reg...  [Deaths, weekly deaths]   \n",
       "4  Provisional counts of the number of deaths reg...  [Deaths, weekly deaths]   \n",
       "\n",
       "                              id              last_updated  \\\n",
       "0            wellbeing-quarterly  2023-12-13T09:40:24.204Z   \n",
       "1      wellbeing-local-authority  2023-12-13T09:40:21.928Z   \n",
       "2           weekly-deaths-region  2025-06-05T09:11:16.664Z   \n",
       "3  weekly-deaths-local-authority  2024-01-09T10:10:57.755Z   \n",
       "4     weekly-deaths-health-board  2024-01-09T10:11:08.441Z   \n",
       "\n",
       "                                               links  \\\n",
       "0  {'editions': {'href': 'https://api.beta.ons.go...   \n",
       "1  {'editions': {'href': 'https://api.beta.ons.go...   \n",
       "2  {'editions': {'href': 'https://api.beta.ons.go...   \n",
       "3  {'editions': {'href': 'https://api.beta.ons.go...   \n",
       "4  {'editions': {'href': 'https://api.beta.ons.go...   \n",
       "\n",
       "                                       methodologies national_statistic  \\\n",
       "0  [{'href': 'https://www.ons.gov.uk/peoplepopula...              False   \n",
       "1                                                NaN               True   \n",
       "2                                                NaN               True   \n",
       "3                                                NaN               True   \n",
       "4                                                NaN               True   \n",
       "\n",
       "      next_release                                                qmi  ...  \\\n",
       "0              TBC  {'href': 'https://www.ons.gov.uk/peoplepopulat...  ...   \n",
       "1              TBC  {'href': 'https://www.ons.gov.uk/peoplepopulat...  ...   \n",
       "2     11 June 2025  {'href': 'https://www.ons.gov.uk/peoplepopulat...  ...   \n",
       "3  17 January 2024  {'href': 'https://www.ons.gov.uk/peoplepopulat...  ...   \n",
       "4  17 January 2024  {'href': 'https://www.ons.gov.uk/peoplepopulat...  ...   \n",
       "\n",
       "                                               title unit_of_measure type  \\\n",
       "0            Quarterly personal well-being estimates      Percentage  NaN   \n",
       "1   Personal well-being estimates by local authority      Percentage  NaN   \n",
       "2  Deaths registered weekly in England and Wales ...             NaN  NaN   \n",
       "3  Death registrations and occurrences by local a...             NaN  NaN   \n",
       "4  Death registrations and occurrences by health ...             NaN  NaN   \n",
       "\n",
       "  publications license is_based_on canonical_topic subtopics survey  \\\n",
       "0          NaN     NaN         NaN             NaN       NaN    NaN   \n",
       "1          NaN     NaN         NaN             NaN       NaN    NaN   \n",
       "2          NaN     NaN         NaN             NaN       NaN    NaN   \n",
       "3          NaN     NaN         NaN             NaN       NaN    NaN   \n",
       "4          NaN     NaN         NaN             NaN       NaN    NaN   \n",
       "\n",
       "  related_content  \n",
       "0             NaN  \n",
       "1             NaN  \n",
       "2             NaN  \n",
       "3             NaN  \n",
       "4             NaN  \n",
       "\n",
       "[5 rows x 23 columns]"
      ]
     },
     "execution_count": 6,
     "metadata": {},
     "output_type": "execute_result"
    }
   ],
   "source": [
    "items_df = pd.DataFrame(dataset_json[\"items\"])\n",
    "\n",
    "items_df.head()"
   ]
  },
  {
   "cell_type": "markdown",
   "id": "59706462",
   "metadata": {},
   "source": [
    "A good bet for finding what we're after is to explode the `keywords` column and look for \"ashe\" or \"earnings\"..."
   ]
  },
  {
   "cell_type": "code",
   "execution_count": 7,
   "id": "e52eed25",
   "metadata": {},
   "outputs": [
    {
     "data": {
      "application/vnd.microsoft.datawrangler.viewer.v0+json": {
       "columns": [
        {
         "name": "index",
         "rawType": "int64",
         "type": "integer"
        },
        {
         "name": "contacts",
         "rawType": "object",
         "type": "unknown"
        },
        {
         "name": "description",
         "rawType": "object",
         "type": "string"
        },
        {
         "name": "keywords",
         "rawType": "object",
         "type": "string"
        },
        {
         "name": "id",
         "rawType": "object",
         "type": "string"
        },
        {
         "name": "last_updated",
         "rawType": "object",
         "type": "string"
        },
        {
         "name": "links",
         "rawType": "object",
         "type": "unknown"
        },
        {
         "name": "methodologies",
         "rawType": "object",
         "type": "unknown"
        },
        {
         "name": "national_statistic",
         "rawType": "object",
         "type": "unknown"
        },
        {
         "name": "next_release",
         "rawType": "object",
         "type": "string"
        },
        {
         "name": "qmi",
         "rawType": "object",
         "type": "unknown"
        },
        {
         "name": "related_datasets",
         "rawType": "object",
         "type": "unknown"
        },
        {
         "name": "release_frequency",
         "rawType": "object",
         "type": "string"
        },
        {
         "name": "state",
         "rawType": "object",
         "type": "string"
        },
        {
         "name": "title",
         "rawType": "object",
         "type": "string"
        },
        {
         "name": "unit_of_measure",
         "rawType": "object",
         "type": "unknown"
        },
        {
         "name": "type",
         "rawType": "object",
         "type": "unknown"
        },
        {
         "name": "publications",
         "rawType": "object",
         "type": "unknown"
        },
        {
         "name": "license",
         "rawType": "object",
         "type": "unknown"
        },
        {
         "name": "is_based_on",
         "rawType": "object",
         "type": "unknown"
        },
        {
         "name": "canonical_topic",
         "rawType": "object",
         "type": "unknown"
        },
        {
         "name": "subtopics",
         "rawType": "object",
         "type": "unknown"
        },
        {
         "name": "survey",
         "rawType": "object",
         "type": "unknown"
        },
        {
         "name": "related_content",
         "rawType": "object",
         "type": "unknown"
        }
       ],
       "ref": "037aada5-bea1-49e7-b7aa-92b754bc6b0f",
       "rows": [
        [
         "39",
         "[{'email': 'earnings@ons.gov.uk', 'name': 'Nicola White', 'telephone': '+44 (0)1633 45 6120'}]",
         "Annual estimates of paid hours worked and earnings for UK employees by sex, and full-time and part-time, by home and work-based Parliamentary constituency. Hourly and weekly estimates are provided for the pay period that included a specified date in April. They relate to employees on adult rates of pay, whose earnings for the survey pay period were not affected by absence. Estimates for 2020 and 2021 include employees who have been furloughed under the Coronavirus Job Retention Scheme (CJRS). Annual estimates are provided for the tax year that ended on 5th April in the reference year. They relate to employees on adult rates of pay who have been in the same job for more than a year.",
         "ASHE",
         "ashe-tables-9-and-10",
         "2024-01-25T09:40:12.013Z",
         "{'editions': {'href': 'https://api.beta.ons.gov.uk/v1/datasets/ashe-tables-9-and-10/editions'}, 'latest_version': {'href': 'https://api.beta.ons.gov.uk/v1/datasets/ashe-tables-9-and-10/editions/time-series/versions/7', 'id': '7'}, 'self': {'href': 'https://api.beta.ons.gov.uk/v1/datasets/ashe-tables-9-and-10'}, 'taxonomy': {'href': 'https://api.beta.ons.gov.uk/v1/employmentandlabourmarket/peopleinwork/earningsandworkinghours'}}",
         null,
         "True",
         "To be announced",
         "{'href': 'https://www.ons.gov.uk/employmentandlabourmarket/peopleinwork/earningsandworkinghours/methodologies/annualsurveyofhoursandearningslowpayandannualsurveyofhoursandearningspensionresultsqmi'}",
         null,
         "Annual",
         "published",
         "Earnings and hours worked, place of work and place of residence by Parliamentary constituency: ASHE Tables 9 and 10",
         null,
         null,
         "[{'href': 'https://www.ons.gov.uk/employmentandlabourmarket/peopleinwork/earningsandworkinghours/bulletins/annualsurveyofhoursandearnings/2019', 'title': 'Employee earnings in the UK'}]",
         null,
         null,
         null,
         null,
         null,
         null
        ],
        [
         "39",
         "[{'email': 'earnings@ons.gov.uk', 'name': 'Nicola White', 'telephone': '+44 (0)1633 45 6120'}]",
         "Annual estimates of paid hours worked and earnings for UK employees by sex, and full-time and part-time, by home and work-based Parliamentary constituency. Hourly and weekly estimates are provided for the pay period that included a specified date in April. They relate to employees on adult rates of pay, whose earnings for the survey pay period were not affected by absence. Estimates for 2020 and 2021 include employees who have been furloughed under the Coronavirus Job Retention Scheme (CJRS). Annual estimates are provided for the tax year that ended on 5th April in the reference year. They relate to employees on adult rates of pay who have been in the same job for more than a year.",
         "pay,earnings,hours",
         "ashe-tables-9-and-10",
         "2024-01-25T09:40:12.013Z",
         "{'editions': {'href': 'https://api.beta.ons.gov.uk/v1/datasets/ashe-tables-9-and-10/editions'}, 'latest_version': {'href': 'https://api.beta.ons.gov.uk/v1/datasets/ashe-tables-9-and-10/editions/time-series/versions/7', 'id': '7'}, 'self': {'href': 'https://api.beta.ons.gov.uk/v1/datasets/ashe-tables-9-and-10'}, 'taxonomy': {'href': 'https://api.beta.ons.gov.uk/v1/employmentandlabourmarket/peopleinwork/earningsandworkinghours'}}",
         null,
         "True",
         "To be announced",
         "{'href': 'https://www.ons.gov.uk/employmentandlabourmarket/peopleinwork/earningsandworkinghours/methodologies/annualsurveyofhoursandearningslowpayandannualsurveyofhoursandearningspensionresultsqmi'}",
         null,
         "Annual",
         "published",
         "Earnings and hours worked, place of work and place of residence by Parliamentary constituency: ASHE Tables 9 and 10",
         null,
         null,
         "[{'href': 'https://www.ons.gov.uk/employmentandlabourmarket/peopleinwork/earningsandworkinghours/bulletins/annualsurveyofhoursandearnings/2019', 'title': 'Employee earnings in the UK'}]",
         null,
         null,
         null,
         null,
         null,
         null
        ],
        [
         "40",
         "[{'email': 'earnings@ons.gov.uk', 'name': 'Nicola White', 'telephone': '+44 (0)1633 456120'}]",
         "Annual estimates of paid hours worked and earnings for UK employees by sex, and full-time and part-time, by work-based and residence-based region to local and unitary authority level. Hourly and weekly estimates are provided for the pay period that included a specified date in April. They relate to employees on adult rates of pay, whose earnings for the survey pay period were not affected by absence. Estimates for 2020 and 2021 include employees who have been furloughed under the Coronavirus Job Retention Scheme (CJRS). Annual estimates are provided for the tax year that ended on 5th April in the reference year. They relate to employees on adult rates of pay who have been in the same job for more than a year.",
         "ASHE",
         "ashe-tables-7-and-8",
         "2024-01-23T09:47:44.212Z",
         "{'editions': {'href': 'https://api.beta.ons.gov.uk/v1/datasets/ashe-tables-7-and-8/editions'}, 'latest_version': {'href': 'https://api.beta.ons.gov.uk/v1/datasets/ashe-tables-7-and-8/editions/2022/versions/2', 'id': '2'}, 'self': {'href': 'https://api.beta.ons.gov.uk/v1/datasets/ashe-tables-7-and-8'}, 'taxonomy': {'href': 'https://api.beta.ons.gov.uk/v1/employmentandlabourmarket/peopleinwork/earningsandworkinghours'}}",
         null,
         "True",
         "To be announced",
         "{'href': 'https://www.ons.gov.uk/employmentandlabourmarket/peopleinwork/earningsandworkinghours/methodologies/annualsurveyofhoursandearningslowpayandannualsurveyofhoursandearningspensionresultsqmi'}",
         null,
         "Annual",
         "published",
         "Earnings and hours worked, place of work and residence by local authority: ASHE Tables 7 and 8 ",
         null,
         null,
         "[{'href': 'https://www.ons.gov.uk/releases/employeeearningsintheuk2019', 'title': 'Employee earnings in the UK'}]",
         null,
         null,
         null,
         null,
         null,
         null
        ],
        [
         "41",
         "[{'email': 'earnings@ons.gov.uk', 'name': 'Nicola White', 'telephone': '+44(0)1633 45 6120'}]",
         "Annual estimates of paid hours worked and earnings for UK employees by sex, and full-time and part-time, by region and two-digit Standard Occupational Classification 2010. Hourly and weekly estimates are provided for the pay period that included a specified date in April. They relate to employees on adult rates of pay, whose earnings for the survey pay period were not affected by absence. Estimates for 2020 and 2021 include employees who have been furloughed under the Coronavirus Job Retention Scheme (CJRS). Annual estimates are provided for the tax year that ended on 5th April in the reference year. They relate to employees on adult rates of pay who have been in the same job for more than a year.",
         "ASHE",
         "ashe-tables-3",
         "2024-01-23T09:47:39.729Z",
         "{'editions': {'href': 'https://api.beta.ons.gov.uk/v1/datasets/ashe-tables-3/editions'}, 'latest_version': {'href': 'https://api.beta.ons.gov.uk/v1/datasets/ashe-tables-3/editions/time-series/versions/7', 'id': '7'}, 'self': {'href': 'https://api.beta.ons.gov.uk/v1/datasets/ashe-tables-3'}, 'taxonomy': {'href': 'https://api.beta.ons.gov.uk/v1/employmentandlabourmarket/peopleinwork/earningsandworkinghours'}}",
         null,
         "True",
         "To be announced",
         "{'href': 'https://www.ons.gov.uk/employmentandlabourmarket/peopleinwork/earningsandworkinghours/methodologies/annualsurveyofhoursandearningslowpayandannualsurveyofhoursandearningspensionresultsqmi'}",
         null,
         "Annual",
         "published",
         "Earnings and hours worked, region by occupation by two-digit SOC: ASHE Table 3",
         null,
         null,
         "[{'href': 'https://www.ons.gov.uk/employmentandlabourmarket/peopleinwork/earningsandworkinghours/bulletins/annualsurveyofhoursandearnings/latest', 'title': 'Employee earnings in the UK'}]",
         null,
         null,
         null,
         null,
         null,
         null
        ],
        [
         "43",
         "[{'email': 'earnings@ons.gov.uk', 'name': 'Nicola White', 'telephone': '+44 (0)1633 456120'}]",
         "Annual estimates of paid hours worked and earnings for UK employees by sex, and full-time and part-time, for care workers, home carers and senior care workers as defined in the Standard Occupational Classification. Hourly and weekly estimates are provided for the pay period that included a specified date in April. They relate to employees on adult rates of pay, whose earnings for the survey pay period were not affected by absence. Estimates for 2020 and 2021 include employees who have been furloughed under the Coronavirus Job Retention Scheme (CJRS). Annual estimates are provided for the tax year that ended on 5th April in the reference year. They relate to employees on adult rates of pay who have been in the same job for more than a year.",
         "ASHE",
         "ashe-tables-26",
         "2024-01-23T09:47:37.163Z",
         "{'editions': {'href': 'https://api.beta.ons.gov.uk/v1/datasets/ashe-tables-26/editions'}, 'latest_version': {'href': 'https://api.beta.ons.gov.uk/v1/datasets/ashe-tables-26/editions/time-series/versions/8', 'id': '8'}, 'self': {'href': 'https://api.beta.ons.gov.uk/v1/datasets/ashe-tables-26'}, 'taxonomy': {'href': 'https://api.beta.ons.gov.uk/v1/employmentandlabourmarket/peopleinwork/earningsandworkinghours'}}",
         null,
         "True",
         "To be announced",
         "{'href': 'https://www.ons.gov.uk/employmentandlabourmarket/peopleinwork/earningsandworkinghours/methodologies/annualsurveyofhoursandearningslowpayandannualsurveyofhoursandearningspensionresultsqmi'}",
         null,
         "Annual",
         "published",
         "Earnings and hours worked, care workers: ASHE Table 26",
         null,
         null,
         "[{'href': 'https://www.ons.gov.uk/employmentandlabourmarket/peopleinwork/earningsandworkinghours/bulletins/annualsurveyofhoursandearnings/latest', 'title': 'Employee earnings in the UK'}]",
         null,
         null,
         null,
         null,
         null,
         null
        ]
       ],
       "shape": {
        "columns": 23,
        "rows": 5
       }
      },
      "text/html": [
       "<div>\n",
       "<style scoped>\n",
       "    .dataframe tbody tr th:only-of-type {\n",
       "        vertical-align: middle;\n",
       "    }\n",
       "\n",
       "    .dataframe tbody tr th {\n",
       "        vertical-align: top;\n",
       "    }\n",
       "\n",
       "    .dataframe thead th {\n",
       "        text-align: right;\n",
       "    }\n",
       "</style>\n",
       "<table border=\"1\" class=\"dataframe\">\n",
       "  <thead>\n",
       "    <tr style=\"text-align: right;\">\n",
       "      <th></th>\n",
       "      <th>contacts</th>\n",
       "      <th>description</th>\n",
       "      <th>keywords</th>\n",
       "      <th>id</th>\n",
       "      <th>last_updated</th>\n",
       "      <th>links</th>\n",
       "      <th>methodologies</th>\n",
       "      <th>national_statistic</th>\n",
       "      <th>next_release</th>\n",
       "      <th>qmi</th>\n",
       "      <th>...</th>\n",
       "      <th>title</th>\n",
       "      <th>unit_of_measure</th>\n",
       "      <th>type</th>\n",
       "      <th>publications</th>\n",
       "      <th>license</th>\n",
       "      <th>is_based_on</th>\n",
       "      <th>canonical_topic</th>\n",
       "      <th>subtopics</th>\n",
       "      <th>survey</th>\n",
       "      <th>related_content</th>\n",
       "    </tr>\n",
       "  </thead>\n",
       "  <tbody>\n",
       "    <tr>\n",
       "      <th>39</th>\n",
       "      <td>[{'email': 'earnings@ons.gov.uk', 'name': 'Nic...</td>\n",
       "      <td>Annual estimates of paid hours worked and earn...</td>\n",
       "      <td>ASHE</td>\n",
       "      <td>ashe-tables-9-and-10</td>\n",
       "      <td>2024-01-25T09:40:12.013Z</td>\n",
       "      <td>{'editions': {'href': 'https://api.beta.ons.go...</td>\n",
       "      <td>NaN</td>\n",
       "      <td>True</td>\n",
       "      <td>To be announced</td>\n",
       "      <td>{'href': 'https://www.ons.gov.uk/employmentand...</td>\n",
       "      <td>...</td>\n",
       "      <td>Earnings and hours worked, place of work and p...</td>\n",
       "      <td>NaN</td>\n",
       "      <td>NaN</td>\n",
       "      <td>[{'href': 'https://www.ons.gov.uk/employmentan...</td>\n",
       "      <td>NaN</td>\n",
       "      <td>NaN</td>\n",
       "      <td>NaN</td>\n",
       "      <td>NaN</td>\n",
       "      <td>NaN</td>\n",
       "      <td>NaN</td>\n",
       "    </tr>\n",
       "    <tr>\n",
       "      <th>39</th>\n",
       "      <td>[{'email': 'earnings@ons.gov.uk', 'name': 'Nic...</td>\n",
       "      <td>Annual estimates of paid hours worked and earn...</td>\n",
       "      <td>pay,earnings,hours</td>\n",
       "      <td>ashe-tables-9-and-10</td>\n",
       "      <td>2024-01-25T09:40:12.013Z</td>\n",
       "      <td>{'editions': {'href': 'https://api.beta.ons.go...</td>\n",
       "      <td>NaN</td>\n",
       "      <td>True</td>\n",
       "      <td>To be announced</td>\n",
       "      <td>{'href': 'https://www.ons.gov.uk/employmentand...</td>\n",
       "      <td>...</td>\n",
       "      <td>Earnings and hours worked, place of work and p...</td>\n",
       "      <td>NaN</td>\n",
       "      <td>NaN</td>\n",
       "      <td>[{'href': 'https://www.ons.gov.uk/employmentan...</td>\n",
       "      <td>NaN</td>\n",
       "      <td>NaN</td>\n",
       "      <td>NaN</td>\n",
       "      <td>NaN</td>\n",
       "      <td>NaN</td>\n",
       "      <td>NaN</td>\n",
       "    </tr>\n",
       "    <tr>\n",
       "      <th>40</th>\n",
       "      <td>[{'email': 'earnings@ons.gov.uk', 'name': 'Nic...</td>\n",
       "      <td>Annual estimates of paid hours worked and earn...</td>\n",
       "      <td>ASHE</td>\n",
       "      <td>ashe-tables-7-and-8</td>\n",
       "      <td>2024-01-23T09:47:44.212Z</td>\n",
       "      <td>{'editions': {'href': 'https://api.beta.ons.go...</td>\n",
       "      <td>NaN</td>\n",
       "      <td>True</td>\n",
       "      <td>To be announced</td>\n",
       "      <td>{'href': 'https://www.ons.gov.uk/employmentand...</td>\n",
       "      <td>...</td>\n",
       "      <td>Earnings and hours worked, place of work and r...</td>\n",
       "      <td>NaN</td>\n",
       "      <td>NaN</td>\n",
       "      <td>[{'href': 'https://www.ons.gov.uk/releases/emp...</td>\n",
       "      <td>NaN</td>\n",
       "      <td>NaN</td>\n",
       "      <td>NaN</td>\n",
       "      <td>NaN</td>\n",
       "      <td>NaN</td>\n",
       "      <td>NaN</td>\n",
       "    </tr>\n",
       "    <tr>\n",
       "      <th>41</th>\n",
       "      <td>[{'email': 'earnings@ons.gov.uk', 'name': 'Nic...</td>\n",
       "      <td>Annual estimates of paid hours worked and earn...</td>\n",
       "      <td>ASHE</td>\n",
       "      <td>ashe-tables-3</td>\n",
       "      <td>2024-01-23T09:47:39.729Z</td>\n",
       "      <td>{'editions': {'href': 'https://api.beta.ons.go...</td>\n",
       "      <td>NaN</td>\n",
       "      <td>True</td>\n",
       "      <td>To be announced</td>\n",
       "      <td>{'href': 'https://www.ons.gov.uk/employmentand...</td>\n",
       "      <td>...</td>\n",
       "      <td>Earnings and hours worked, region by occupatio...</td>\n",
       "      <td>NaN</td>\n",
       "      <td>NaN</td>\n",
       "      <td>[{'href': 'https://www.ons.gov.uk/employmentan...</td>\n",
       "      <td>NaN</td>\n",
       "      <td>NaN</td>\n",
       "      <td>NaN</td>\n",
       "      <td>NaN</td>\n",
       "      <td>NaN</td>\n",
       "      <td>NaN</td>\n",
       "    </tr>\n",
       "    <tr>\n",
       "      <th>43</th>\n",
       "      <td>[{'email': 'earnings@ons.gov.uk', 'name': 'Nic...</td>\n",
       "      <td>Annual estimates of paid hours worked and earn...</td>\n",
       "      <td>ASHE</td>\n",
       "      <td>ashe-tables-26</td>\n",
       "      <td>2024-01-23T09:47:37.163Z</td>\n",
       "      <td>{'editions': {'href': 'https://api.beta.ons.go...</td>\n",
       "      <td>NaN</td>\n",
       "      <td>True</td>\n",
       "      <td>To be announced</td>\n",
       "      <td>{'href': 'https://www.ons.gov.uk/employmentand...</td>\n",
       "      <td>...</td>\n",
       "      <td>Earnings and hours worked, care workers: ASHE ...</td>\n",
       "      <td>NaN</td>\n",
       "      <td>NaN</td>\n",
       "      <td>[{'href': 'https://www.ons.gov.uk/employmentan...</td>\n",
       "      <td>NaN</td>\n",
       "      <td>NaN</td>\n",
       "      <td>NaN</td>\n",
       "      <td>NaN</td>\n",
       "      <td>NaN</td>\n",
       "      <td>NaN</td>\n",
       "    </tr>\n",
       "  </tbody>\n",
       "</table>\n",
       "<p>5 rows × 23 columns</p>\n",
       "</div>"
      ],
      "text/plain": [
       "                                             contacts  \\\n",
       "39  [{'email': 'earnings@ons.gov.uk', 'name': 'Nic...   \n",
       "39  [{'email': 'earnings@ons.gov.uk', 'name': 'Nic...   \n",
       "40  [{'email': 'earnings@ons.gov.uk', 'name': 'Nic...   \n",
       "41  [{'email': 'earnings@ons.gov.uk', 'name': 'Nic...   \n",
       "43  [{'email': 'earnings@ons.gov.uk', 'name': 'Nic...   \n",
       "\n",
       "                                          description            keywords  \\\n",
       "39  Annual estimates of paid hours worked and earn...                ASHE   \n",
       "39  Annual estimates of paid hours worked and earn...  pay,earnings,hours   \n",
       "40  Annual estimates of paid hours worked and earn...                ASHE   \n",
       "41  Annual estimates of paid hours worked and earn...                ASHE   \n",
       "43  Annual estimates of paid hours worked and earn...                ASHE   \n",
       "\n",
       "                      id              last_updated  \\\n",
       "39  ashe-tables-9-and-10  2024-01-25T09:40:12.013Z   \n",
       "39  ashe-tables-9-and-10  2024-01-25T09:40:12.013Z   \n",
       "40   ashe-tables-7-and-8  2024-01-23T09:47:44.212Z   \n",
       "41         ashe-tables-3  2024-01-23T09:47:39.729Z   \n",
       "43        ashe-tables-26  2024-01-23T09:47:37.163Z   \n",
       "\n",
       "                                                links methodologies  \\\n",
       "39  {'editions': {'href': 'https://api.beta.ons.go...           NaN   \n",
       "39  {'editions': {'href': 'https://api.beta.ons.go...           NaN   \n",
       "40  {'editions': {'href': 'https://api.beta.ons.go...           NaN   \n",
       "41  {'editions': {'href': 'https://api.beta.ons.go...           NaN   \n",
       "43  {'editions': {'href': 'https://api.beta.ons.go...           NaN   \n",
       "\n",
       "   national_statistic     next_release  \\\n",
       "39               True  To be announced   \n",
       "39               True  To be announced   \n",
       "40               True  To be announced   \n",
       "41               True  To be announced   \n",
       "43               True  To be announced   \n",
       "\n",
       "                                                  qmi  ...  \\\n",
       "39  {'href': 'https://www.ons.gov.uk/employmentand...  ...   \n",
       "39  {'href': 'https://www.ons.gov.uk/employmentand...  ...   \n",
       "40  {'href': 'https://www.ons.gov.uk/employmentand...  ...   \n",
       "41  {'href': 'https://www.ons.gov.uk/employmentand...  ...   \n",
       "43  {'href': 'https://www.ons.gov.uk/employmentand...  ...   \n",
       "\n",
       "                                                title unit_of_measure type  \\\n",
       "39  Earnings and hours worked, place of work and p...             NaN  NaN   \n",
       "39  Earnings and hours worked, place of work and p...             NaN  NaN   \n",
       "40  Earnings and hours worked, place of work and r...             NaN  NaN   \n",
       "41  Earnings and hours worked, region by occupatio...             NaN  NaN   \n",
       "43  Earnings and hours worked, care workers: ASHE ...             NaN  NaN   \n",
       "\n",
       "                                         publications license is_based_on  \\\n",
       "39  [{'href': 'https://www.ons.gov.uk/employmentan...     NaN         NaN   \n",
       "39  [{'href': 'https://www.ons.gov.uk/employmentan...     NaN         NaN   \n",
       "40  [{'href': 'https://www.ons.gov.uk/releases/emp...     NaN         NaN   \n",
       "41  [{'href': 'https://www.ons.gov.uk/employmentan...     NaN         NaN   \n",
       "43  [{'href': 'https://www.ons.gov.uk/employmentan...     NaN         NaN   \n",
       "\n",
       "   canonical_topic subtopics survey related_content  \n",
       "39             NaN       NaN    NaN             NaN  \n",
       "39             NaN       NaN    NaN             NaN  \n",
       "40             NaN       NaN    NaN             NaN  \n",
       "41             NaN       NaN    NaN             NaN  \n",
       "43             NaN       NaN    NaN             NaN  \n",
       "\n",
       "[5 rows x 23 columns]"
      ]
     },
     "execution_count": 7,
     "metadata": {},
     "output_type": "execute_result"
    }
   ],
   "source": [
    "#unnest keywords and see if that can identify ashe\n",
    "unnested = items_df.explode(\"keywords\")\n",
    "\n",
    "ashe_check = unnested[unnested[\"keywords\"].str.contains(\"ashe|earnings\", case = False, na = False)]\n",
    "\n",
    "ashe_check.head()"
   ]
  },
  {
   "cell_type": "markdown",
   "id": "b068bd54",
   "metadata": {},
   "source": [
    "Looks promising! But we need to find how we download the actual datasets. Maybe the `links` field is a good bet?"
   ]
  },
  {
   "cell_type": "code",
   "execution_count": 8,
   "id": "23baf40f",
   "metadata": {},
   "outputs": [
    {
     "data": {
      "application/vnd.microsoft.datawrangler.viewer.v0+json": {
       "columns": [
        {
         "name": "index",
         "rawType": "int64",
         "type": "integer"
        },
        {
         "name": "contacts",
         "rawType": "object",
         "type": "unknown"
        },
        {
         "name": "description",
         "rawType": "object",
         "type": "string"
        },
        {
         "name": "keywords",
         "rawType": "object",
         "type": "string"
        },
        {
         "name": "id",
         "rawType": "object",
         "type": "string"
        },
        {
         "name": "last_updated",
         "rawType": "object",
         "type": "string"
        },
        {
         "name": "methodologies",
         "rawType": "object",
         "type": "unknown"
        },
        {
         "name": "national_statistic",
         "rawType": "object",
         "type": "unknown"
        },
        {
         "name": "next_release",
         "rawType": "object",
         "type": "string"
        },
        {
         "name": "qmi",
         "rawType": "object",
         "type": "unknown"
        },
        {
         "name": "related_datasets",
         "rawType": "object",
         "type": "unknown"
        },
        {
         "name": "release_frequency",
         "rawType": "object",
         "type": "string"
        },
        {
         "name": "state",
         "rawType": "object",
         "type": "string"
        },
        {
         "name": "title",
         "rawType": "object",
         "type": "string"
        },
        {
         "name": "unit_of_measure",
         "rawType": "object",
         "type": "unknown"
        },
        {
         "name": "type",
         "rawType": "object",
         "type": "unknown"
        },
        {
         "name": "publications",
         "rawType": "object",
         "type": "unknown"
        },
        {
         "name": "license",
         "rawType": "object",
         "type": "unknown"
        },
        {
         "name": "is_based_on",
         "rawType": "object",
         "type": "unknown"
        },
        {
         "name": "canonical_topic",
         "rawType": "object",
         "type": "unknown"
        },
        {
         "name": "subtopics",
         "rawType": "object",
         "type": "unknown"
        },
        {
         "name": "survey",
         "rawType": "object",
         "type": "unknown"
        },
        {
         "name": "related_content",
         "rawType": "object",
         "type": "unknown"
        },
        {
         "name": "editions",
         "rawType": "object",
         "type": "unknown"
        },
        {
         "name": "latest_version",
         "rawType": "object",
         "type": "unknown"
        },
        {
         "name": "self",
         "rawType": "object",
         "type": "unknown"
        },
        {
         "name": "taxonomy",
         "rawType": "object",
         "type": "unknown"
        }
       ],
       "ref": "4f0fb35a-1c38-444c-843e-c0ce7a861ab1",
       "rows": [
        [
         "39",
         "[{'email': 'earnings@ons.gov.uk', 'name': 'Nicola White', 'telephone': '+44 (0)1633 45 6120'}]",
         "Annual estimates of paid hours worked and earnings for UK employees by sex, and full-time and part-time, by home and work-based Parliamentary constituency. Hourly and weekly estimates are provided for the pay period that included a specified date in April. They relate to employees on adult rates of pay, whose earnings for the survey pay period were not affected by absence. Estimates for 2020 and 2021 include employees who have been furloughed under the Coronavirus Job Retention Scheme (CJRS). Annual estimates are provided for the tax year that ended on 5th April in the reference year. They relate to employees on adult rates of pay who have been in the same job for more than a year.",
         "ASHE",
         "ashe-tables-9-and-10",
         "2024-01-25T09:40:12.013Z",
         null,
         "True",
         "To be announced",
         "{'href': 'https://www.ons.gov.uk/employmentandlabourmarket/peopleinwork/earningsandworkinghours/methodologies/annualsurveyofhoursandearningslowpayandannualsurveyofhoursandearningspensionresultsqmi'}",
         null,
         "Annual",
         "published",
         "Earnings and hours worked, place of work and place of residence by Parliamentary constituency: ASHE Tables 9 and 10",
         null,
         null,
         "[{'href': 'https://www.ons.gov.uk/employmentandlabourmarket/peopleinwork/earningsandworkinghours/bulletins/annualsurveyofhoursandearnings/2019', 'title': 'Employee earnings in the UK'}]",
         null,
         null,
         null,
         null,
         null,
         null,
         "{'href': 'https://api.beta.ons.gov.uk/v1/datasets/ashe-tables-9-and-10/editions'}",
         "{'href': 'https://api.beta.ons.gov.uk/v1/datasets/ashe-tables-9-and-10/editions/time-series/versions/7', 'id': '7'}",
         "{'href': 'https://api.beta.ons.gov.uk/v1/datasets/ashe-tables-9-and-10'}",
         "{'href': 'https://api.beta.ons.gov.uk/v1/employmentandlabourmarket/peopleinwork/earningsandworkinghours'}"
        ],
        [
         "39",
         "[{'email': 'earnings@ons.gov.uk', 'name': 'Nicola White', 'telephone': '+44 (0)1633 45 6120'}]",
         "Annual estimates of paid hours worked and earnings for UK employees by sex, and full-time and part-time, by home and work-based Parliamentary constituency. Hourly and weekly estimates are provided for the pay period that included a specified date in April. They relate to employees on adult rates of pay, whose earnings for the survey pay period were not affected by absence. Estimates for 2020 and 2021 include employees who have been furloughed under the Coronavirus Job Retention Scheme (CJRS). Annual estimates are provided for the tax year that ended on 5th April in the reference year. They relate to employees on adult rates of pay who have been in the same job for more than a year.",
         "pay,earnings,hours",
         "ashe-tables-9-and-10",
         "2024-01-25T09:40:12.013Z",
         null,
         "True",
         "To be announced",
         "{'href': 'https://www.ons.gov.uk/employmentandlabourmarket/peopleinwork/earningsandworkinghours/methodologies/annualsurveyofhoursandearningslowpayandannualsurveyofhoursandearningspensionresultsqmi'}",
         null,
         "Annual",
         "published",
         "Earnings and hours worked, place of work and place of residence by Parliamentary constituency: ASHE Tables 9 and 10",
         null,
         null,
         "[{'href': 'https://www.ons.gov.uk/employmentandlabourmarket/peopleinwork/earningsandworkinghours/bulletins/annualsurveyofhoursandearnings/2019', 'title': 'Employee earnings in the UK'}]",
         null,
         null,
         null,
         null,
         null,
         null,
         "{'href': 'https://api.beta.ons.gov.uk/v1/datasets/ashe-tables-9-and-10/editions'}",
         "{'href': 'https://api.beta.ons.gov.uk/v1/datasets/ashe-tables-9-and-10/editions/time-series/versions/7', 'id': '7'}",
         "{'href': 'https://api.beta.ons.gov.uk/v1/datasets/ashe-tables-9-and-10'}",
         "{'href': 'https://api.beta.ons.gov.uk/v1/employmentandlabourmarket/peopleinwork/earningsandworkinghours'}"
        ],
        [
         "40",
         "[{'email': 'earnings@ons.gov.uk', 'name': 'Nicola White', 'telephone': '+44 (0)1633 456120'}]",
         "Annual estimates of paid hours worked and earnings for UK employees by sex, and full-time and part-time, by work-based and residence-based region to local and unitary authority level. Hourly and weekly estimates are provided for the pay period that included a specified date in April. They relate to employees on adult rates of pay, whose earnings for the survey pay period were not affected by absence. Estimates for 2020 and 2021 include employees who have been furloughed under the Coronavirus Job Retention Scheme (CJRS). Annual estimates are provided for the tax year that ended on 5th April in the reference year. They relate to employees on adult rates of pay who have been in the same job for more than a year.",
         "ASHE",
         "ashe-tables-7-and-8",
         "2024-01-23T09:47:44.212Z",
         null,
         "True",
         "To be announced",
         "{'href': 'https://www.ons.gov.uk/employmentandlabourmarket/peopleinwork/earningsandworkinghours/methodologies/annualsurveyofhoursandearningslowpayandannualsurveyofhoursandearningspensionresultsqmi'}",
         null,
         "Annual",
         "published",
         "Earnings and hours worked, place of work and residence by local authority: ASHE Tables 7 and 8 ",
         null,
         null,
         "[{'href': 'https://www.ons.gov.uk/releases/employeeearningsintheuk2019', 'title': 'Employee earnings in the UK'}]",
         null,
         null,
         null,
         null,
         null,
         null,
         "{'href': 'https://api.beta.ons.gov.uk/v1/datasets/ashe-tables-7-and-8/editions'}",
         "{'href': 'https://api.beta.ons.gov.uk/v1/datasets/ashe-tables-7-and-8/editions/2022/versions/2', 'id': '2'}",
         "{'href': 'https://api.beta.ons.gov.uk/v1/datasets/ashe-tables-7-and-8'}",
         "{'href': 'https://api.beta.ons.gov.uk/v1/employmentandlabourmarket/peopleinwork/earningsandworkinghours'}"
        ],
        [
         "41",
         "[{'email': 'earnings@ons.gov.uk', 'name': 'Nicola White', 'telephone': '+44(0)1633 45 6120'}]",
         "Annual estimates of paid hours worked and earnings for UK employees by sex, and full-time and part-time, by region and two-digit Standard Occupational Classification 2010. Hourly and weekly estimates are provided for the pay period that included a specified date in April. They relate to employees on adult rates of pay, whose earnings for the survey pay period were not affected by absence. Estimates for 2020 and 2021 include employees who have been furloughed under the Coronavirus Job Retention Scheme (CJRS). Annual estimates are provided for the tax year that ended on 5th April in the reference year. They relate to employees on adult rates of pay who have been in the same job for more than a year.",
         "ASHE",
         "ashe-tables-3",
         "2024-01-23T09:47:39.729Z",
         null,
         "True",
         "To be announced",
         "{'href': 'https://www.ons.gov.uk/employmentandlabourmarket/peopleinwork/earningsandworkinghours/methodologies/annualsurveyofhoursandearningslowpayandannualsurveyofhoursandearningspensionresultsqmi'}",
         null,
         "Annual",
         "published",
         "Earnings and hours worked, region by occupation by two-digit SOC: ASHE Table 3",
         null,
         null,
         "[{'href': 'https://www.ons.gov.uk/employmentandlabourmarket/peopleinwork/earningsandworkinghours/bulletins/annualsurveyofhoursandearnings/latest', 'title': 'Employee earnings in the UK'}]",
         null,
         null,
         null,
         null,
         null,
         null,
         "{'href': 'https://api.beta.ons.gov.uk/v1/datasets/ashe-tables-3/editions'}",
         "{'href': 'https://api.beta.ons.gov.uk/v1/datasets/ashe-tables-3/editions/time-series/versions/7', 'id': '7'}",
         "{'href': 'https://api.beta.ons.gov.uk/v1/datasets/ashe-tables-3'}",
         "{'href': 'https://api.beta.ons.gov.uk/v1/employmentandlabourmarket/peopleinwork/earningsandworkinghours'}"
        ],
        [
         "43",
         "[{'email': 'earnings@ons.gov.uk', 'name': 'Nicola White', 'telephone': '+44 (0)1633 456120'}]",
         "Annual estimates of paid hours worked and earnings for UK employees by sex, and full-time and part-time, for care workers, home carers and senior care workers as defined in the Standard Occupational Classification. Hourly and weekly estimates are provided for the pay period that included a specified date in April. They relate to employees on adult rates of pay, whose earnings for the survey pay period were not affected by absence. Estimates for 2020 and 2021 include employees who have been furloughed under the Coronavirus Job Retention Scheme (CJRS). Annual estimates are provided for the tax year that ended on 5th April in the reference year. They relate to employees on adult rates of pay who have been in the same job for more than a year.",
         "ASHE",
         "ashe-tables-26",
         "2024-01-23T09:47:37.163Z",
         null,
         "True",
         "To be announced",
         "{'href': 'https://www.ons.gov.uk/employmentandlabourmarket/peopleinwork/earningsandworkinghours/methodologies/annualsurveyofhoursandearningslowpayandannualsurveyofhoursandearningspensionresultsqmi'}",
         null,
         "Annual",
         "published",
         "Earnings and hours worked, care workers: ASHE Table 26",
         null,
         null,
         "[{'href': 'https://www.ons.gov.uk/employmentandlabourmarket/peopleinwork/earningsandworkinghours/bulletins/annualsurveyofhoursandearnings/latest', 'title': 'Employee earnings in the UK'}]",
         null,
         null,
         null,
         null,
         null,
         null,
         "{'href': 'https://api.beta.ons.gov.uk/v1/datasets/ashe-tables-26/editions'}",
         "{'href': 'https://api.beta.ons.gov.uk/v1/datasets/ashe-tables-26/editions/time-series/versions/8', 'id': '8'}",
         "{'href': 'https://api.beta.ons.gov.uk/v1/datasets/ashe-tables-26'}",
         "{'href': 'https://api.beta.ons.gov.uk/v1/employmentandlabourmarket/peopleinwork/earningsandworkinghours'}"
        ]
       ],
       "shape": {
        "columns": 26,
        "rows": 5
       }
      },
      "text/html": [
       "<div>\n",
       "<style scoped>\n",
       "    .dataframe tbody tr th:only-of-type {\n",
       "        vertical-align: middle;\n",
       "    }\n",
       "\n",
       "    .dataframe tbody tr th {\n",
       "        vertical-align: top;\n",
       "    }\n",
       "\n",
       "    .dataframe thead th {\n",
       "        text-align: right;\n",
       "    }\n",
       "</style>\n",
       "<table border=\"1\" class=\"dataframe\">\n",
       "  <thead>\n",
       "    <tr style=\"text-align: right;\">\n",
       "      <th></th>\n",
       "      <th>contacts</th>\n",
       "      <th>description</th>\n",
       "      <th>keywords</th>\n",
       "      <th>id</th>\n",
       "      <th>last_updated</th>\n",
       "      <th>methodologies</th>\n",
       "      <th>national_statistic</th>\n",
       "      <th>next_release</th>\n",
       "      <th>qmi</th>\n",
       "      <th>related_datasets</th>\n",
       "      <th>...</th>\n",
       "      <th>license</th>\n",
       "      <th>is_based_on</th>\n",
       "      <th>canonical_topic</th>\n",
       "      <th>subtopics</th>\n",
       "      <th>survey</th>\n",
       "      <th>related_content</th>\n",
       "      <th>editions</th>\n",
       "      <th>latest_version</th>\n",
       "      <th>self</th>\n",
       "      <th>taxonomy</th>\n",
       "    </tr>\n",
       "  </thead>\n",
       "  <tbody>\n",
       "    <tr>\n",
       "      <th>39</th>\n",
       "      <td>[{'email': 'earnings@ons.gov.uk', 'name': 'Nic...</td>\n",
       "      <td>Annual estimates of paid hours worked and earn...</td>\n",
       "      <td>ASHE</td>\n",
       "      <td>ashe-tables-9-and-10</td>\n",
       "      <td>2024-01-25T09:40:12.013Z</td>\n",
       "      <td>NaN</td>\n",
       "      <td>True</td>\n",
       "      <td>To be announced</td>\n",
       "      <td>{'href': 'https://www.ons.gov.uk/employmentand...</td>\n",
       "      <td>NaN</td>\n",
       "      <td>...</td>\n",
       "      <td>NaN</td>\n",
       "      <td>NaN</td>\n",
       "      <td>NaN</td>\n",
       "      <td>NaN</td>\n",
       "      <td>NaN</td>\n",
       "      <td>NaN</td>\n",
       "      <td>{'href': 'https://api.beta.ons.gov.uk/v1/datas...</td>\n",
       "      <td>{'href': 'https://api.beta.ons.gov.uk/v1/datas...</td>\n",
       "      <td>{'href': 'https://api.beta.ons.gov.uk/v1/datas...</td>\n",
       "      <td>{'href': 'https://api.beta.ons.gov.uk/v1/emplo...</td>\n",
       "    </tr>\n",
       "    <tr>\n",
       "      <th>39</th>\n",
       "      <td>[{'email': 'earnings@ons.gov.uk', 'name': 'Nic...</td>\n",
       "      <td>Annual estimates of paid hours worked and earn...</td>\n",
       "      <td>pay,earnings,hours</td>\n",
       "      <td>ashe-tables-9-and-10</td>\n",
       "      <td>2024-01-25T09:40:12.013Z</td>\n",
       "      <td>NaN</td>\n",
       "      <td>True</td>\n",
       "      <td>To be announced</td>\n",
       "      <td>{'href': 'https://www.ons.gov.uk/employmentand...</td>\n",
       "      <td>NaN</td>\n",
       "      <td>...</td>\n",
       "      <td>NaN</td>\n",
       "      <td>NaN</td>\n",
       "      <td>NaN</td>\n",
       "      <td>NaN</td>\n",
       "      <td>NaN</td>\n",
       "      <td>NaN</td>\n",
       "      <td>{'href': 'https://api.beta.ons.gov.uk/v1/datas...</td>\n",
       "      <td>{'href': 'https://api.beta.ons.gov.uk/v1/datas...</td>\n",
       "      <td>{'href': 'https://api.beta.ons.gov.uk/v1/datas...</td>\n",
       "      <td>{'href': 'https://api.beta.ons.gov.uk/v1/emplo...</td>\n",
       "    </tr>\n",
       "    <tr>\n",
       "      <th>40</th>\n",
       "      <td>[{'email': 'earnings@ons.gov.uk', 'name': 'Nic...</td>\n",
       "      <td>Annual estimates of paid hours worked and earn...</td>\n",
       "      <td>ASHE</td>\n",
       "      <td>ashe-tables-7-and-8</td>\n",
       "      <td>2024-01-23T09:47:44.212Z</td>\n",
       "      <td>NaN</td>\n",
       "      <td>True</td>\n",
       "      <td>To be announced</td>\n",
       "      <td>{'href': 'https://www.ons.gov.uk/employmentand...</td>\n",
       "      <td>NaN</td>\n",
       "      <td>...</td>\n",
       "      <td>NaN</td>\n",
       "      <td>NaN</td>\n",
       "      <td>NaN</td>\n",
       "      <td>NaN</td>\n",
       "      <td>NaN</td>\n",
       "      <td>NaN</td>\n",
       "      <td>{'href': 'https://api.beta.ons.gov.uk/v1/datas...</td>\n",
       "      <td>{'href': 'https://api.beta.ons.gov.uk/v1/datas...</td>\n",
       "      <td>{'href': 'https://api.beta.ons.gov.uk/v1/datas...</td>\n",
       "      <td>{'href': 'https://api.beta.ons.gov.uk/v1/emplo...</td>\n",
       "    </tr>\n",
       "    <tr>\n",
       "      <th>41</th>\n",
       "      <td>[{'email': 'earnings@ons.gov.uk', 'name': 'Nic...</td>\n",
       "      <td>Annual estimates of paid hours worked and earn...</td>\n",
       "      <td>ASHE</td>\n",
       "      <td>ashe-tables-3</td>\n",
       "      <td>2024-01-23T09:47:39.729Z</td>\n",
       "      <td>NaN</td>\n",
       "      <td>True</td>\n",
       "      <td>To be announced</td>\n",
       "      <td>{'href': 'https://www.ons.gov.uk/employmentand...</td>\n",
       "      <td>NaN</td>\n",
       "      <td>...</td>\n",
       "      <td>NaN</td>\n",
       "      <td>NaN</td>\n",
       "      <td>NaN</td>\n",
       "      <td>NaN</td>\n",
       "      <td>NaN</td>\n",
       "      <td>NaN</td>\n",
       "      <td>{'href': 'https://api.beta.ons.gov.uk/v1/datas...</td>\n",
       "      <td>{'href': 'https://api.beta.ons.gov.uk/v1/datas...</td>\n",
       "      <td>{'href': 'https://api.beta.ons.gov.uk/v1/datas...</td>\n",
       "      <td>{'href': 'https://api.beta.ons.gov.uk/v1/emplo...</td>\n",
       "    </tr>\n",
       "    <tr>\n",
       "      <th>43</th>\n",
       "      <td>[{'email': 'earnings@ons.gov.uk', 'name': 'Nic...</td>\n",
       "      <td>Annual estimates of paid hours worked and earn...</td>\n",
       "      <td>ASHE</td>\n",
       "      <td>ashe-tables-26</td>\n",
       "      <td>2024-01-23T09:47:37.163Z</td>\n",
       "      <td>NaN</td>\n",
       "      <td>True</td>\n",
       "      <td>To be announced</td>\n",
       "      <td>{'href': 'https://www.ons.gov.uk/employmentand...</td>\n",
       "      <td>NaN</td>\n",
       "      <td>...</td>\n",
       "      <td>NaN</td>\n",
       "      <td>NaN</td>\n",
       "      <td>NaN</td>\n",
       "      <td>NaN</td>\n",
       "      <td>NaN</td>\n",
       "      <td>NaN</td>\n",
       "      <td>{'href': 'https://api.beta.ons.gov.uk/v1/datas...</td>\n",
       "      <td>{'href': 'https://api.beta.ons.gov.uk/v1/datas...</td>\n",
       "      <td>{'href': 'https://api.beta.ons.gov.uk/v1/datas...</td>\n",
       "      <td>{'href': 'https://api.beta.ons.gov.uk/v1/emplo...</td>\n",
       "    </tr>\n",
       "  </tbody>\n",
       "</table>\n",
       "<p>5 rows × 26 columns</p>\n",
       "</div>"
      ],
      "text/plain": [
       "                                             contacts  \\\n",
       "39  [{'email': 'earnings@ons.gov.uk', 'name': 'Nic...   \n",
       "39  [{'email': 'earnings@ons.gov.uk', 'name': 'Nic...   \n",
       "40  [{'email': 'earnings@ons.gov.uk', 'name': 'Nic...   \n",
       "41  [{'email': 'earnings@ons.gov.uk', 'name': 'Nic...   \n",
       "43  [{'email': 'earnings@ons.gov.uk', 'name': 'Nic...   \n",
       "\n",
       "                                          description            keywords  \\\n",
       "39  Annual estimates of paid hours worked and earn...                ASHE   \n",
       "39  Annual estimates of paid hours worked and earn...  pay,earnings,hours   \n",
       "40  Annual estimates of paid hours worked and earn...                ASHE   \n",
       "41  Annual estimates of paid hours worked and earn...                ASHE   \n",
       "43  Annual estimates of paid hours worked and earn...                ASHE   \n",
       "\n",
       "                      id              last_updated methodologies  \\\n",
       "39  ashe-tables-9-and-10  2024-01-25T09:40:12.013Z           NaN   \n",
       "39  ashe-tables-9-and-10  2024-01-25T09:40:12.013Z           NaN   \n",
       "40   ashe-tables-7-and-8  2024-01-23T09:47:44.212Z           NaN   \n",
       "41         ashe-tables-3  2024-01-23T09:47:39.729Z           NaN   \n",
       "43        ashe-tables-26  2024-01-23T09:47:37.163Z           NaN   \n",
       "\n",
       "   national_statistic     next_release  \\\n",
       "39               True  To be announced   \n",
       "39               True  To be announced   \n",
       "40               True  To be announced   \n",
       "41               True  To be announced   \n",
       "43               True  To be announced   \n",
       "\n",
       "                                                  qmi related_datasets  ...  \\\n",
       "39  {'href': 'https://www.ons.gov.uk/employmentand...              NaN  ...   \n",
       "39  {'href': 'https://www.ons.gov.uk/employmentand...              NaN  ...   \n",
       "40  {'href': 'https://www.ons.gov.uk/employmentand...              NaN  ...   \n",
       "41  {'href': 'https://www.ons.gov.uk/employmentand...              NaN  ...   \n",
       "43  {'href': 'https://www.ons.gov.uk/employmentand...              NaN  ...   \n",
       "\n",
       "   license is_based_on canonical_topic subtopics survey related_content  \\\n",
       "39     NaN         NaN             NaN       NaN    NaN             NaN   \n",
       "39     NaN         NaN             NaN       NaN    NaN             NaN   \n",
       "40     NaN         NaN             NaN       NaN    NaN             NaN   \n",
       "41     NaN         NaN             NaN       NaN    NaN             NaN   \n",
       "43     NaN         NaN             NaN       NaN    NaN             NaN   \n",
       "\n",
       "                                             editions  \\\n",
       "39  {'href': 'https://api.beta.ons.gov.uk/v1/datas...   \n",
       "39  {'href': 'https://api.beta.ons.gov.uk/v1/datas...   \n",
       "40  {'href': 'https://api.beta.ons.gov.uk/v1/datas...   \n",
       "41  {'href': 'https://api.beta.ons.gov.uk/v1/datas...   \n",
       "43  {'href': 'https://api.beta.ons.gov.uk/v1/datas...   \n",
       "\n",
       "                                       latest_version  \\\n",
       "39  {'href': 'https://api.beta.ons.gov.uk/v1/datas...   \n",
       "39  {'href': 'https://api.beta.ons.gov.uk/v1/datas...   \n",
       "40  {'href': 'https://api.beta.ons.gov.uk/v1/datas...   \n",
       "41  {'href': 'https://api.beta.ons.gov.uk/v1/datas...   \n",
       "43  {'href': 'https://api.beta.ons.gov.uk/v1/datas...   \n",
       "\n",
       "                                                 self  \\\n",
       "39  {'href': 'https://api.beta.ons.gov.uk/v1/datas...   \n",
       "39  {'href': 'https://api.beta.ons.gov.uk/v1/datas...   \n",
       "40  {'href': 'https://api.beta.ons.gov.uk/v1/datas...   \n",
       "41  {'href': 'https://api.beta.ons.gov.uk/v1/datas...   \n",
       "43  {'href': 'https://api.beta.ons.gov.uk/v1/datas...   \n",
       "\n",
       "                                             taxonomy  \n",
       "39  {'href': 'https://api.beta.ons.gov.uk/v1/emplo...  \n",
       "39  {'href': 'https://api.beta.ons.gov.uk/v1/emplo...  \n",
       "40  {'href': 'https://api.beta.ons.gov.uk/v1/emplo...  \n",
       "41  {'href': 'https://api.beta.ons.gov.uk/v1/emplo...  \n",
       "43  {'href': 'https://api.beta.ons.gov.uk/v1/emplo...  \n",
       "\n",
       "[5 rows x 26 columns]"
      ]
     },
     "execution_count": 8,
     "metadata": {},
     "output_type": "execute_result"
    }
   ],
   "source": [
    "links = ashe_check[\"links\"].apply(pd.Series) #turn links dict into a df\n",
    "\n",
    "links_df = pd.concat([ashe_check.drop(columns = \"links\"), links], axis = 1) #replace links dict with above df\n",
    "\n",
    "links_df.head()"
   ]
  },
  {
   "cell_type": "markdown",
   "id": "1c0efdca",
   "metadata": {},
   "source": [
    "`editions` seems a good place to look...."
   ]
  },
  {
   "cell_type": "code",
   "execution_count": 9,
   "id": "85c1eb3a",
   "metadata": {},
   "outputs": [
    {
     "data": {
      "application/vnd.microsoft.datawrangler.viewer.v0+json": {
       "columns": [
        {
         "name": "index",
         "rawType": "int64",
         "type": "integer"
        },
        {
         "name": "contacts",
         "rawType": "object",
         "type": "unknown"
        },
        {
         "name": "description",
         "rawType": "object",
         "type": "string"
        },
        {
         "name": "keywords",
         "rawType": "object",
         "type": "string"
        },
        {
         "name": "id",
         "rawType": "object",
         "type": "string"
        },
        {
         "name": "last_updated",
         "rawType": "object",
         "type": "string"
        },
        {
         "name": "methodologies",
         "rawType": "object",
         "type": "unknown"
        },
        {
         "name": "national_statistic",
         "rawType": "object",
         "type": "unknown"
        },
        {
         "name": "next_release",
         "rawType": "object",
         "type": "string"
        },
        {
         "name": "qmi",
         "rawType": "object",
         "type": "unknown"
        },
        {
         "name": "related_datasets",
         "rawType": "object",
         "type": "unknown"
        },
        {
         "name": "release_frequency",
         "rawType": "object",
         "type": "string"
        },
        {
         "name": "state",
         "rawType": "object",
         "type": "string"
        },
        {
         "name": "title",
         "rawType": "object",
         "type": "string"
        },
        {
         "name": "unit_of_measure",
         "rawType": "object",
         "type": "unknown"
        },
        {
         "name": "type",
         "rawType": "object",
         "type": "unknown"
        },
        {
         "name": "publications",
         "rawType": "object",
         "type": "unknown"
        },
        {
         "name": "license",
         "rawType": "object",
         "type": "unknown"
        },
        {
         "name": "is_based_on",
         "rawType": "object",
         "type": "unknown"
        },
        {
         "name": "canonical_topic",
         "rawType": "object",
         "type": "unknown"
        },
        {
         "name": "subtopics",
         "rawType": "object",
         "type": "unknown"
        },
        {
         "name": "survey",
         "rawType": "object",
         "type": "unknown"
        },
        {
         "name": "related_content",
         "rawType": "object",
         "type": "unknown"
        },
        {
         "name": "latest_version",
         "rawType": "object",
         "type": "unknown"
        },
        {
         "name": "self",
         "rawType": "object",
         "type": "unknown"
        },
        {
         "name": "taxonomy",
         "rawType": "object",
         "type": "unknown"
        },
        {
         "name": "href",
         "rawType": "object",
         "type": "string"
        }
       ],
       "ref": "0d646fd5-ad3e-439d-94c5-23b29fb32150",
       "rows": [
        [
         "39",
         "[{'email': 'earnings@ons.gov.uk', 'name': 'Nicola White', 'telephone': '+44 (0)1633 45 6120'}]",
         "Annual estimates of paid hours worked and earnings for UK employees by sex, and full-time and part-time, by home and work-based Parliamentary constituency. Hourly and weekly estimates are provided for the pay period that included a specified date in April. They relate to employees on adult rates of pay, whose earnings for the survey pay period were not affected by absence. Estimates for 2020 and 2021 include employees who have been furloughed under the Coronavirus Job Retention Scheme (CJRS). Annual estimates are provided for the tax year that ended on 5th April in the reference year. They relate to employees on adult rates of pay who have been in the same job for more than a year.",
         "ASHE",
         "ashe-tables-9-and-10",
         "2024-01-25T09:40:12.013Z",
         null,
         "True",
         "To be announced",
         "{'href': 'https://www.ons.gov.uk/employmentandlabourmarket/peopleinwork/earningsandworkinghours/methodologies/annualsurveyofhoursandearningslowpayandannualsurveyofhoursandearningspensionresultsqmi'}",
         null,
         "Annual",
         "published",
         "Earnings and hours worked, place of work and place of residence by Parliamentary constituency: ASHE Tables 9 and 10",
         null,
         null,
         "[{'href': 'https://www.ons.gov.uk/employmentandlabourmarket/peopleinwork/earningsandworkinghours/bulletins/annualsurveyofhoursandearnings/2019', 'title': 'Employee earnings in the UK'}]",
         null,
         null,
         null,
         null,
         null,
         null,
         "{'href': 'https://api.beta.ons.gov.uk/v1/datasets/ashe-tables-9-and-10/editions/time-series/versions/7', 'id': '7'}",
         "{'href': 'https://api.beta.ons.gov.uk/v1/datasets/ashe-tables-9-and-10'}",
         "{'href': 'https://api.beta.ons.gov.uk/v1/employmentandlabourmarket/peopleinwork/earningsandworkinghours'}",
         "https://api.beta.ons.gov.uk/v1/datasets/ashe-tables-9-and-10/editions"
        ],
        [
         "39",
         "[{'email': 'earnings@ons.gov.uk', 'name': 'Nicola White', 'telephone': '+44 (0)1633 45 6120'}]",
         "Annual estimates of paid hours worked and earnings for UK employees by sex, and full-time and part-time, by home and work-based Parliamentary constituency. Hourly and weekly estimates are provided for the pay period that included a specified date in April. They relate to employees on adult rates of pay, whose earnings for the survey pay period were not affected by absence. Estimates for 2020 and 2021 include employees who have been furloughed under the Coronavirus Job Retention Scheme (CJRS). Annual estimates are provided for the tax year that ended on 5th April in the reference year. They relate to employees on adult rates of pay who have been in the same job for more than a year.",
         "pay,earnings,hours",
         "ashe-tables-9-and-10",
         "2024-01-25T09:40:12.013Z",
         null,
         "True",
         "To be announced",
         "{'href': 'https://www.ons.gov.uk/employmentandlabourmarket/peopleinwork/earningsandworkinghours/methodologies/annualsurveyofhoursandearningslowpayandannualsurveyofhoursandearningspensionresultsqmi'}",
         null,
         "Annual",
         "published",
         "Earnings and hours worked, place of work and place of residence by Parliamentary constituency: ASHE Tables 9 and 10",
         null,
         null,
         "[{'href': 'https://www.ons.gov.uk/employmentandlabourmarket/peopleinwork/earningsandworkinghours/bulletins/annualsurveyofhoursandearnings/2019', 'title': 'Employee earnings in the UK'}]",
         null,
         null,
         null,
         null,
         null,
         null,
         "{'href': 'https://api.beta.ons.gov.uk/v1/datasets/ashe-tables-9-and-10/editions/time-series/versions/7', 'id': '7'}",
         "{'href': 'https://api.beta.ons.gov.uk/v1/datasets/ashe-tables-9-and-10'}",
         "{'href': 'https://api.beta.ons.gov.uk/v1/employmentandlabourmarket/peopleinwork/earningsandworkinghours'}",
         "https://api.beta.ons.gov.uk/v1/datasets/ashe-tables-9-and-10/editions"
        ],
        [
         "40",
         "[{'email': 'earnings@ons.gov.uk', 'name': 'Nicola White', 'telephone': '+44 (0)1633 456120'}]",
         "Annual estimates of paid hours worked and earnings for UK employees by sex, and full-time and part-time, by work-based and residence-based region to local and unitary authority level. Hourly and weekly estimates are provided for the pay period that included a specified date in April. They relate to employees on adult rates of pay, whose earnings for the survey pay period were not affected by absence. Estimates for 2020 and 2021 include employees who have been furloughed under the Coronavirus Job Retention Scheme (CJRS). Annual estimates are provided for the tax year that ended on 5th April in the reference year. They relate to employees on adult rates of pay who have been in the same job for more than a year.",
         "ASHE",
         "ashe-tables-7-and-8",
         "2024-01-23T09:47:44.212Z",
         null,
         "True",
         "To be announced",
         "{'href': 'https://www.ons.gov.uk/employmentandlabourmarket/peopleinwork/earningsandworkinghours/methodologies/annualsurveyofhoursandearningslowpayandannualsurveyofhoursandearningspensionresultsqmi'}",
         null,
         "Annual",
         "published",
         "Earnings and hours worked, place of work and residence by local authority: ASHE Tables 7 and 8 ",
         null,
         null,
         "[{'href': 'https://www.ons.gov.uk/releases/employeeearningsintheuk2019', 'title': 'Employee earnings in the UK'}]",
         null,
         null,
         null,
         null,
         null,
         null,
         "{'href': 'https://api.beta.ons.gov.uk/v1/datasets/ashe-tables-7-and-8/editions/2022/versions/2', 'id': '2'}",
         "{'href': 'https://api.beta.ons.gov.uk/v1/datasets/ashe-tables-7-and-8'}",
         "{'href': 'https://api.beta.ons.gov.uk/v1/employmentandlabourmarket/peopleinwork/earningsandworkinghours'}",
         "https://api.beta.ons.gov.uk/v1/datasets/ashe-tables-7-and-8/editions"
        ],
        [
         "41",
         "[{'email': 'earnings@ons.gov.uk', 'name': 'Nicola White', 'telephone': '+44(0)1633 45 6120'}]",
         "Annual estimates of paid hours worked and earnings for UK employees by sex, and full-time and part-time, by region and two-digit Standard Occupational Classification 2010. Hourly and weekly estimates are provided for the pay period that included a specified date in April. They relate to employees on adult rates of pay, whose earnings for the survey pay period were not affected by absence. Estimates for 2020 and 2021 include employees who have been furloughed under the Coronavirus Job Retention Scheme (CJRS). Annual estimates are provided for the tax year that ended on 5th April in the reference year. They relate to employees on adult rates of pay who have been in the same job for more than a year.",
         "ASHE",
         "ashe-tables-3",
         "2024-01-23T09:47:39.729Z",
         null,
         "True",
         "To be announced",
         "{'href': 'https://www.ons.gov.uk/employmentandlabourmarket/peopleinwork/earningsandworkinghours/methodologies/annualsurveyofhoursandearningslowpayandannualsurveyofhoursandearningspensionresultsqmi'}",
         null,
         "Annual",
         "published",
         "Earnings and hours worked, region by occupation by two-digit SOC: ASHE Table 3",
         null,
         null,
         "[{'href': 'https://www.ons.gov.uk/employmentandlabourmarket/peopleinwork/earningsandworkinghours/bulletins/annualsurveyofhoursandearnings/latest', 'title': 'Employee earnings in the UK'}]",
         null,
         null,
         null,
         null,
         null,
         null,
         "{'href': 'https://api.beta.ons.gov.uk/v1/datasets/ashe-tables-3/editions/time-series/versions/7', 'id': '7'}",
         "{'href': 'https://api.beta.ons.gov.uk/v1/datasets/ashe-tables-3'}",
         "{'href': 'https://api.beta.ons.gov.uk/v1/employmentandlabourmarket/peopleinwork/earningsandworkinghours'}",
         "https://api.beta.ons.gov.uk/v1/datasets/ashe-tables-3/editions"
        ],
        [
         "43",
         "[{'email': 'earnings@ons.gov.uk', 'name': 'Nicola White', 'telephone': '+44 (0)1633 456120'}]",
         "Annual estimates of paid hours worked and earnings for UK employees by sex, and full-time and part-time, for care workers, home carers and senior care workers as defined in the Standard Occupational Classification. Hourly and weekly estimates are provided for the pay period that included a specified date in April. They relate to employees on adult rates of pay, whose earnings for the survey pay period were not affected by absence. Estimates for 2020 and 2021 include employees who have been furloughed under the Coronavirus Job Retention Scheme (CJRS). Annual estimates are provided for the tax year that ended on 5th April in the reference year. They relate to employees on adult rates of pay who have been in the same job for more than a year.",
         "ASHE",
         "ashe-tables-26",
         "2024-01-23T09:47:37.163Z",
         null,
         "True",
         "To be announced",
         "{'href': 'https://www.ons.gov.uk/employmentandlabourmarket/peopleinwork/earningsandworkinghours/methodologies/annualsurveyofhoursandearningslowpayandannualsurveyofhoursandearningspensionresultsqmi'}",
         null,
         "Annual",
         "published",
         "Earnings and hours worked, care workers: ASHE Table 26",
         null,
         null,
         "[{'href': 'https://www.ons.gov.uk/employmentandlabourmarket/peopleinwork/earningsandworkinghours/bulletins/annualsurveyofhoursandearnings/latest', 'title': 'Employee earnings in the UK'}]",
         null,
         null,
         null,
         null,
         null,
         null,
         "{'href': 'https://api.beta.ons.gov.uk/v1/datasets/ashe-tables-26/editions/time-series/versions/8', 'id': '8'}",
         "{'href': 'https://api.beta.ons.gov.uk/v1/datasets/ashe-tables-26'}",
         "{'href': 'https://api.beta.ons.gov.uk/v1/employmentandlabourmarket/peopleinwork/earningsandworkinghours'}",
         "https://api.beta.ons.gov.uk/v1/datasets/ashe-tables-26/editions"
        ]
       ],
       "shape": {
        "columns": 26,
        "rows": 5
       }
      },
      "text/html": [
       "<div>\n",
       "<style scoped>\n",
       "    .dataframe tbody tr th:only-of-type {\n",
       "        vertical-align: middle;\n",
       "    }\n",
       "\n",
       "    .dataframe tbody tr th {\n",
       "        vertical-align: top;\n",
       "    }\n",
       "\n",
       "    .dataframe thead th {\n",
       "        text-align: right;\n",
       "    }\n",
       "</style>\n",
       "<table border=\"1\" class=\"dataframe\">\n",
       "  <thead>\n",
       "    <tr style=\"text-align: right;\">\n",
       "      <th></th>\n",
       "      <th>contacts</th>\n",
       "      <th>description</th>\n",
       "      <th>keywords</th>\n",
       "      <th>id</th>\n",
       "      <th>last_updated</th>\n",
       "      <th>methodologies</th>\n",
       "      <th>national_statistic</th>\n",
       "      <th>next_release</th>\n",
       "      <th>qmi</th>\n",
       "      <th>related_datasets</th>\n",
       "      <th>...</th>\n",
       "      <th>license</th>\n",
       "      <th>is_based_on</th>\n",
       "      <th>canonical_topic</th>\n",
       "      <th>subtopics</th>\n",
       "      <th>survey</th>\n",
       "      <th>related_content</th>\n",
       "      <th>latest_version</th>\n",
       "      <th>self</th>\n",
       "      <th>taxonomy</th>\n",
       "      <th>href</th>\n",
       "    </tr>\n",
       "  </thead>\n",
       "  <tbody>\n",
       "    <tr>\n",
       "      <th>39</th>\n",
       "      <td>[{'email': 'earnings@ons.gov.uk', 'name': 'Nic...</td>\n",
       "      <td>Annual estimates of paid hours worked and earn...</td>\n",
       "      <td>ASHE</td>\n",
       "      <td>ashe-tables-9-and-10</td>\n",
       "      <td>2024-01-25T09:40:12.013Z</td>\n",
       "      <td>NaN</td>\n",
       "      <td>True</td>\n",
       "      <td>To be announced</td>\n",
       "      <td>{'href': 'https://www.ons.gov.uk/employmentand...</td>\n",
       "      <td>NaN</td>\n",
       "      <td>...</td>\n",
       "      <td>NaN</td>\n",
       "      <td>NaN</td>\n",
       "      <td>NaN</td>\n",
       "      <td>NaN</td>\n",
       "      <td>NaN</td>\n",
       "      <td>NaN</td>\n",
       "      <td>{'href': 'https://api.beta.ons.gov.uk/v1/datas...</td>\n",
       "      <td>{'href': 'https://api.beta.ons.gov.uk/v1/datas...</td>\n",
       "      <td>{'href': 'https://api.beta.ons.gov.uk/v1/emplo...</td>\n",
       "      <td>https://api.beta.ons.gov.uk/v1/datasets/ashe-t...</td>\n",
       "    </tr>\n",
       "    <tr>\n",
       "      <th>39</th>\n",
       "      <td>[{'email': 'earnings@ons.gov.uk', 'name': 'Nic...</td>\n",
       "      <td>Annual estimates of paid hours worked and earn...</td>\n",
       "      <td>pay,earnings,hours</td>\n",
       "      <td>ashe-tables-9-and-10</td>\n",
       "      <td>2024-01-25T09:40:12.013Z</td>\n",
       "      <td>NaN</td>\n",
       "      <td>True</td>\n",
       "      <td>To be announced</td>\n",
       "      <td>{'href': 'https://www.ons.gov.uk/employmentand...</td>\n",
       "      <td>NaN</td>\n",
       "      <td>...</td>\n",
       "      <td>NaN</td>\n",
       "      <td>NaN</td>\n",
       "      <td>NaN</td>\n",
       "      <td>NaN</td>\n",
       "      <td>NaN</td>\n",
       "      <td>NaN</td>\n",
       "      <td>{'href': 'https://api.beta.ons.gov.uk/v1/datas...</td>\n",
       "      <td>{'href': 'https://api.beta.ons.gov.uk/v1/datas...</td>\n",
       "      <td>{'href': 'https://api.beta.ons.gov.uk/v1/emplo...</td>\n",
       "      <td>https://api.beta.ons.gov.uk/v1/datasets/ashe-t...</td>\n",
       "    </tr>\n",
       "    <tr>\n",
       "      <th>40</th>\n",
       "      <td>[{'email': 'earnings@ons.gov.uk', 'name': 'Nic...</td>\n",
       "      <td>Annual estimates of paid hours worked and earn...</td>\n",
       "      <td>ASHE</td>\n",
       "      <td>ashe-tables-7-and-8</td>\n",
       "      <td>2024-01-23T09:47:44.212Z</td>\n",
       "      <td>NaN</td>\n",
       "      <td>True</td>\n",
       "      <td>To be announced</td>\n",
       "      <td>{'href': 'https://www.ons.gov.uk/employmentand...</td>\n",
       "      <td>NaN</td>\n",
       "      <td>...</td>\n",
       "      <td>NaN</td>\n",
       "      <td>NaN</td>\n",
       "      <td>NaN</td>\n",
       "      <td>NaN</td>\n",
       "      <td>NaN</td>\n",
       "      <td>NaN</td>\n",
       "      <td>{'href': 'https://api.beta.ons.gov.uk/v1/datas...</td>\n",
       "      <td>{'href': 'https://api.beta.ons.gov.uk/v1/datas...</td>\n",
       "      <td>{'href': 'https://api.beta.ons.gov.uk/v1/emplo...</td>\n",
       "      <td>https://api.beta.ons.gov.uk/v1/datasets/ashe-t...</td>\n",
       "    </tr>\n",
       "    <tr>\n",
       "      <th>41</th>\n",
       "      <td>[{'email': 'earnings@ons.gov.uk', 'name': 'Nic...</td>\n",
       "      <td>Annual estimates of paid hours worked and earn...</td>\n",
       "      <td>ASHE</td>\n",
       "      <td>ashe-tables-3</td>\n",
       "      <td>2024-01-23T09:47:39.729Z</td>\n",
       "      <td>NaN</td>\n",
       "      <td>True</td>\n",
       "      <td>To be announced</td>\n",
       "      <td>{'href': 'https://www.ons.gov.uk/employmentand...</td>\n",
       "      <td>NaN</td>\n",
       "      <td>...</td>\n",
       "      <td>NaN</td>\n",
       "      <td>NaN</td>\n",
       "      <td>NaN</td>\n",
       "      <td>NaN</td>\n",
       "      <td>NaN</td>\n",
       "      <td>NaN</td>\n",
       "      <td>{'href': 'https://api.beta.ons.gov.uk/v1/datas...</td>\n",
       "      <td>{'href': 'https://api.beta.ons.gov.uk/v1/datas...</td>\n",
       "      <td>{'href': 'https://api.beta.ons.gov.uk/v1/emplo...</td>\n",
       "      <td>https://api.beta.ons.gov.uk/v1/datasets/ashe-t...</td>\n",
       "    </tr>\n",
       "    <tr>\n",
       "      <th>43</th>\n",
       "      <td>[{'email': 'earnings@ons.gov.uk', 'name': 'Nic...</td>\n",
       "      <td>Annual estimates of paid hours worked and earn...</td>\n",
       "      <td>ASHE</td>\n",
       "      <td>ashe-tables-26</td>\n",
       "      <td>2024-01-23T09:47:37.163Z</td>\n",
       "      <td>NaN</td>\n",
       "      <td>True</td>\n",
       "      <td>To be announced</td>\n",
       "      <td>{'href': 'https://www.ons.gov.uk/employmentand...</td>\n",
       "      <td>NaN</td>\n",
       "      <td>...</td>\n",
       "      <td>NaN</td>\n",
       "      <td>NaN</td>\n",
       "      <td>NaN</td>\n",
       "      <td>NaN</td>\n",
       "      <td>NaN</td>\n",
       "      <td>NaN</td>\n",
       "      <td>{'href': 'https://api.beta.ons.gov.uk/v1/datas...</td>\n",
       "      <td>{'href': 'https://api.beta.ons.gov.uk/v1/datas...</td>\n",
       "      <td>{'href': 'https://api.beta.ons.gov.uk/v1/emplo...</td>\n",
       "      <td>https://api.beta.ons.gov.uk/v1/datasets/ashe-t...</td>\n",
       "    </tr>\n",
       "  </tbody>\n",
       "</table>\n",
       "<p>5 rows × 26 columns</p>\n",
       "</div>"
      ],
      "text/plain": [
       "                                             contacts  \\\n",
       "39  [{'email': 'earnings@ons.gov.uk', 'name': 'Nic...   \n",
       "39  [{'email': 'earnings@ons.gov.uk', 'name': 'Nic...   \n",
       "40  [{'email': 'earnings@ons.gov.uk', 'name': 'Nic...   \n",
       "41  [{'email': 'earnings@ons.gov.uk', 'name': 'Nic...   \n",
       "43  [{'email': 'earnings@ons.gov.uk', 'name': 'Nic...   \n",
       "\n",
       "                                          description            keywords  \\\n",
       "39  Annual estimates of paid hours worked and earn...                ASHE   \n",
       "39  Annual estimates of paid hours worked and earn...  pay,earnings,hours   \n",
       "40  Annual estimates of paid hours worked and earn...                ASHE   \n",
       "41  Annual estimates of paid hours worked and earn...                ASHE   \n",
       "43  Annual estimates of paid hours worked and earn...                ASHE   \n",
       "\n",
       "                      id              last_updated methodologies  \\\n",
       "39  ashe-tables-9-and-10  2024-01-25T09:40:12.013Z           NaN   \n",
       "39  ashe-tables-9-and-10  2024-01-25T09:40:12.013Z           NaN   \n",
       "40   ashe-tables-7-and-8  2024-01-23T09:47:44.212Z           NaN   \n",
       "41         ashe-tables-3  2024-01-23T09:47:39.729Z           NaN   \n",
       "43        ashe-tables-26  2024-01-23T09:47:37.163Z           NaN   \n",
       "\n",
       "   national_statistic     next_release  \\\n",
       "39               True  To be announced   \n",
       "39               True  To be announced   \n",
       "40               True  To be announced   \n",
       "41               True  To be announced   \n",
       "43               True  To be announced   \n",
       "\n",
       "                                                  qmi related_datasets  ...  \\\n",
       "39  {'href': 'https://www.ons.gov.uk/employmentand...              NaN  ...   \n",
       "39  {'href': 'https://www.ons.gov.uk/employmentand...              NaN  ...   \n",
       "40  {'href': 'https://www.ons.gov.uk/employmentand...              NaN  ...   \n",
       "41  {'href': 'https://www.ons.gov.uk/employmentand...              NaN  ...   \n",
       "43  {'href': 'https://www.ons.gov.uk/employmentand...              NaN  ...   \n",
       "\n",
       "   license is_based_on canonical_topic subtopics survey related_content  \\\n",
       "39     NaN         NaN             NaN       NaN    NaN             NaN   \n",
       "39     NaN         NaN             NaN       NaN    NaN             NaN   \n",
       "40     NaN         NaN             NaN       NaN    NaN             NaN   \n",
       "41     NaN         NaN             NaN       NaN    NaN             NaN   \n",
       "43     NaN         NaN             NaN       NaN    NaN             NaN   \n",
       "\n",
       "                                       latest_version  \\\n",
       "39  {'href': 'https://api.beta.ons.gov.uk/v1/datas...   \n",
       "39  {'href': 'https://api.beta.ons.gov.uk/v1/datas...   \n",
       "40  {'href': 'https://api.beta.ons.gov.uk/v1/datas...   \n",
       "41  {'href': 'https://api.beta.ons.gov.uk/v1/datas...   \n",
       "43  {'href': 'https://api.beta.ons.gov.uk/v1/datas...   \n",
       "\n",
       "                                                 self  \\\n",
       "39  {'href': 'https://api.beta.ons.gov.uk/v1/datas...   \n",
       "39  {'href': 'https://api.beta.ons.gov.uk/v1/datas...   \n",
       "40  {'href': 'https://api.beta.ons.gov.uk/v1/datas...   \n",
       "41  {'href': 'https://api.beta.ons.gov.uk/v1/datas...   \n",
       "43  {'href': 'https://api.beta.ons.gov.uk/v1/datas...   \n",
       "\n",
       "                                             taxonomy  \\\n",
       "39  {'href': 'https://api.beta.ons.gov.uk/v1/emplo...   \n",
       "39  {'href': 'https://api.beta.ons.gov.uk/v1/emplo...   \n",
       "40  {'href': 'https://api.beta.ons.gov.uk/v1/emplo...   \n",
       "41  {'href': 'https://api.beta.ons.gov.uk/v1/emplo...   \n",
       "43  {'href': 'https://api.beta.ons.gov.uk/v1/emplo...   \n",
       "\n",
       "                                                 href  \n",
       "39  https://api.beta.ons.gov.uk/v1/datasets/ashe-t...  \n",
       "39  https://api.beta.ons.gov.uk/v1/datasets/ashe-t...  \n",
       "40  https://api.beta.ons.gov.uk/v1/datasets/ashe-t...  \n",
       "41  https://api.beta.ons.gov.uk/v1/datasets/ashe-t...  \n",
       "43  https://api.beta.ons.gov.uk/v1/datasets/ashe-t...  \n",
       "\n",
       "[5 rows x 26 columns]"
      ]
     },
     "execution_count": 9,
     "metadata": {},
     "output_type": "execute_result"
    }
   ],
   "source": [
    "editions = links_df[\"editions\"].apply(pd.Series)\n",
    "\n",
    "editions_df = pd.concat([links_df.drop(columns = \"editions\"), editions], axis = 1)\n",
    "\n",
    "editions_df.head()"
   ]
  },
  {
   "cell_type": "markdown",
   "id": "a46cb0d5",
   "metadata": {},
   "source": [
    "Now we have a `href` column - presumably a link to find out more information about editions. Let's see what happens if we send a request to one of these for the API."
   ]
  },
  {
   "cell_type": "code",
   "execution_count": 10,
   "id": "3be7efa9",
   "metadata": {},
   "outputs": [
    {
     "data": {
      "application/vnd.microsoft.datawrangler.viewer.v0+json": {
       "columns": [
        {
         "name": "index",
         "rawType": "int64",
         "type": "integer"
        },
        {
         "name": "items",
         "rawType": "object",
         "type": "unknown"
        },
        {
         "name": "count",
         "rawType": "int64",
         "type": "integer"
        },
        {
         "name": "offset",
         "rawType": "int64",
         "type": "integer"
        },
        {
         "name": "limit",
         "rawType": "int64",
         "type": "integer"
        },
        {
         "name": "total_count",
         "rawType": "int64",
         "type": "integer"
        }
       ],
       "ref": "bba29521-8d77-4a35-a05c-2f6b48af811c",
       "rows": [
        [
         "0",
         "{'edition': 'time-series', 'id': '1009955f-feca-4abb-8699-7cb10baecefe', 'links': {'dataset': {'href': 'https://api.beta.ons.gov.uk/v1/datasets/ashe-tables-9-and-10', 'id': 'ashe-tables-9-and-10'}, 'latest_version': {'href': 'https://api.beta.ons.gov.uk/v1/datasets/ashe-tables-9-and-10/editions/time-series/versions/7', 'id': '7'}, 'self': {'href': 'https://api.beta.ons.gov.uk/v1/datasets/ashe-tables-9-and-10/editions/time-series'}, 'versions': {'href': 'https://api.beta.ons.gov.uk/v1/datasets/ashe-tables-9-and-10/editions/time-series/versions'}}, 'state': 'published'}",
         "1",
         "0",
         "20",
         "1"
        ]
       ],
       "shape": {
        "columns": 5,
        "rows": 1
       }
      },
      "text/html": [
       "<div>\n",
       "<style scoped>\n",
       "    .dataframe tbody tr th:only-of-type {\n",
       "        vertical-align: middle;\n",
       "    }\n",
       "\n",
       "    .dataframe tbody tr th {\n",
       "        vertical-align: top;\n",
       "    }\n",
       "\n",
       "    .dataframe thead th {\n",
       "        text-align: right;\n",
       "    }\n",
       "</style>\n",
       "<table border=\"1\" class=\"dataframe\">\n",
       "  <thead>\n",
       "    <tr style=\"text-align: right;\">\n",
       "      <th></th>\n",
       "      <th>items</th>\n",
       "      <th>count</th>\n",
       "      <th>offset</th>\n",
       "      <th>limit</th>\n",
       "      <th>total_count</th>\n",
       "    </tr>\n",
       "  </thead>\n",
       "  <tbody>\n",
       "    <tr>\n",
       "      <th>0</th>\n",
       "      <td>{'edition': 'time-series', 'id': '1009955f-fec...</td>\n",
       "      <td>1</td>\n",
       "      <td>0</td>\n",
       "      <td>20</td>\n",
       "      <td>1</td>\n",
       "    </tr>\n",
       "  </tbody>\n",
       "</table>\n",
       "</div>"
      ],
      "text/plain": [
       "                                               items  count  offset  limit  \\\n",
       "0  {'edition': 'time-series', 'id': '1009955f-fec...      1       0     20   \n",
       "\n",
       "   total_count  \n",
       "0            1  "
      ]
     },
     "execution_count": 10,
     "metadata": {},
     "output_type": "execute_result"
    }
   ],
   "source": [
    "test_href = editions_df[\"href\"].tolist()[0]\n",
    "\n",
    "href_request = requests.get(test_href)\n",
    "href_json = href_request.json()\n",
    "\n",
    "href_df = pd.DataFrame(href_json)\n",
    "href_df.head()"
   ]
  },
  {
   "cell_type": "markdown",
   "id": "c9fa1c49",
   "metadata": {},
   "source": [
    "Again we want `items`"
   ]
  },
  {
   "cell_type": "code",
   "execution_count": 11,
   "id": "69dae845",
   "metadata": {},
   "outputs": [
    {
     "data": {
      "application/vnd.microsoft.datawrangler.viewer.v0+json": {
       "columns": [
        {
         "name": "index",
         "rawType": "int64",
         "type": "integer"
        },
        {
         "name": "edition",
         "rawType": "object",
         "type": "string"
        },
        {
         "name": "id",
         "rawType": "object",
         "type": "string"
        },
        {
         "name": "links",
         "rawType": "object",
         "type": "unknown"
        },
        {
         "name": "state",
         "rawType": "object",
         "type": "string"
        }
       ],
       "ref": "8fa6e130-9dfe-45f8-8f5d-4c8bcce8ef53",
       "rows": [
        [
         "0",
         "time-series",
         "1009955f-feca-4abb-8699-7cb10baecefe",
         "{'dataset': {'href': 'https://api.beta.ons.gov.uk/v1/datasets/ashe-tables-9-and-10', 'id': 'ashe-tables-9-and-10'}, 'latest_version': {'href': 'https://api.beta.ons.gov.uk/v1/datasets/ashe-tables-9-and-10/editions/time-series/versions/7', 'id': '7'}, 'self': {'href': 'https://api.beta.ons.gov.uk/v1/datasets/ashe-tables-9-and-10/editions/time-series'}, 'versions': {'href': 'https://api.beta.ons.gov.uk/v1/datasets/ashe-tables-9-and-10/editions/time-series/versions'}}",
         "published"
        ]
       ],
       "shape": {
        "columns": 4,
        "rows": 1
       }
      },
      "text/html": [
       "<div>\n",
       "<style scoped>\n",
       "    .dataframe tbody tr th:only-of-type {\n",
       "        vertical-align: middle;\n",
       "    }\n",
       "\n",
       "    .dataframe tbody tr th {\n",
       "        vertical-align: top;\n",
       "    }\n",
       "\n",
       "    .dataframe thead th {\n",
       "        text-align: right;\n",
       "    }\n",
       "</style>\n",
       "<table border=\"1\" class=\"dataframe\">\n",
       "  <thead>\n",
       "    <tr style=\"text-align: right;\">\n",
       "      <th></th>\n",
       "      <th>edition</th>\n",
       "      <th>id</th>\n",
       "      <th>links</th>\n",
       "      <th>state</th>\n",
       "    </tr>\n",
       "  </thead>\n",
       "  <tbody>\n",
       "    <tr>\n",
       "      <th>0</th>\n",
       "      <td>time-series</td>\n",
       "      <td>1009955f-feca-4abb-8699-7cb10baecefe</td>\n",
       "      <td>{'dataset': {'href': 'https://api.beta.ons.gov...</td>\n",
       "      <td>published</td>\n",
       "    </tr>\n",
       "  </tbody>\n",
       "</table>\n",
       "</div>"
      ],
      "text/plain": [
       "       edition                                    id  \\\n",
       "0  time-series  1009955f-feca-4abb-8699-7cb10baecefe   \n",
       "\n",
       "                                               links      state  \n",
       "0  {'dataset': {'href': 'https://api.beta.ons.gov...  published  "
      ]
     },
     "execution_count": 11,
     "metadata": {},
     "output_type": "execute_result"
    }
   ],
   "source": [
    "href_df = pd.DataFrame(href_json[\"items\"])\n",
    "href_df.head()"
   ]
  },
  {
   "cell_type": "markdown",
   "id": "da9b328d",
   "metadata": {},
   "source": [
    "...and it seems we now want to extract data from the `links` column again"
   ]
  },
  {
   "cell_type": "code",
   "execution_count": 12,
   "id": "c54c4d04",
   "metadata": {},
   "outputs": [
    {
     "data": {
      "application/vnd.microsoft.datawrangler.viewer.v0+json": {
       "columns": [
        {
         "name": "index",
         "rawType": "int64",
         "type": "integer"
        },
        {
         "name": "edition",
         "rawType": "object",
         "type": "string"
        },
        {
         "name": "id",
         "rawType": "object",
         "type": "string"
        },
        {
         "name": "state",
         "rawType": "object",
         "type": "string"
        },
        {
         "name": "dataset",
         "rawType": "object",
         "type": "unknown"
        },
        {
         "name": "latest_version",
         "rawType": "object",
         "type": "unknown"
        },
        {
         "name": "self",
         "rawType": "object",
         "type": "unknown"
        },
        {
         "name": "versions",
         "rawType": "object",
         "type": "unknown"
        }
       ],
       "ref": "acf1d3cd-7098-467f-9ee7-ea52f17ed5e5",
       "rows": [
        [
         "0",
         "time-series",
         "1009955f-feca-4abb-8699-7cb10baecefe",
         "published",
         "{'href': 'https://api.beta.ons.gov.uk/v1/datasets/ashe-tables-9-and-10', 'id': 'ashe-tables-9-and-10'}",
         "{'href': 'https://api.beta.ons.gov.uk/v1/datasets/ashe-tables-9-and-10/editions/time-series/versions/7', 'id': '7'}",
         "{'href': 'https://api.beta.ons.gov.uk/v1/datasets/ashe-tables-9-and-10/editions/time-series'}",
         "{'href': 'https://api.beta.ons.gov.uk/v1/datasets/ashe-tables-9-and-10/editions/time-series/versions'}"
        ]
       ],
       "shape": {
        "columns": 7,
        "rows": 1
       }
      },
      "text/html": [
       "<div>\n",
       "<style scoped>\n",
       "    .dataframe tbody tr th:only-of-type {\n",
       "        vertical-align: middle;\n",
       "    }\n",
       "\n",
       "    .dataframe tbody tr th {\n",
       "        vertical-align: top;\n",
       "    }\n",
       "\n",
       "    .dataframe thead th {\n",
       "        text-align: right;\n",
       "    }\n",
       "</style>\n",
       "<table border=\"1\" class=\"dataframe\">\n",
       "  <thead>\n",
       "    <tr style=\"text-align: right;\">\n",
       "      <th></th>\n",
       "      <th>edition</th>\n",
       "      <th>id</th>\n",
       "      <th>state</th>\n",
       "      <th>dataset</th>\n",
       "      <th>latest_version</th>\n",
       "      <th>self</th>\n",
       "      <th>versions</th>\n",
       "    </tr>\n",
       "  </thead>\n",
       "  <tbody>\n",
       "    <tr>\n",
       "      <th>0</th>\n",
       "      <td>time-series</td>\n",
       "      <td>1009955f-feca-4abb-8699-7cb10baecefe</td>\n",
       "      <td>published</td>\n",
       "      <td>{'href': 'https://api.beta.ons.gov.uk/v1/datas...</td>\n",
       "      <td>{'href': 'https://api.beta.ons.gov.uk/v1/datas...</td>\n",
       "      <td>{'href': 'https://api.beta.ons.gov.uk/v1/datas...</td>\n",
       "      <td>{'href': 'https://api.beta.ons.gov.uk/v1/datas...</td>\n",
       "    </tr>\n",
       "  </tbody>\n",
       "</table>\n",
       "</div>"
      ],
      "text/plain": [
       "       edition                                    id      state  \\\n",
       "0  time-series  1009955f-feca-4abb-8699-7cb10baecefe  published   \n",
       "\n",
       "                                             dataset  \\\n",
       "0  {'href': 'https://api.beta.ons.gov.uk/v1/datas...   \n",
       "\n",
       "                                      latest_version  \\\n",
       "0  {'href': 'https://api.beta.ons.gov.uk/v1/datas...   \n",
       "\n",
       "                                                self  \\\n",
       "0  {'href': 'https://api.beta.ons.gov.uk/v1/datas...   \n",
       "\n",
       "                                            versions  \n",
       "0  {'href': 'https://api.beta.ons.gov.uk/v1/datas...  "
      ]
     },
     "execution_count": 12,
     "metadata": {},
     "output_type": "execute_result"
    }
   ],
   "source": [
    "links = href_df[\"links\"].apply(pd.Series)\n",
    "\n",
    "links_df = pd.concat([href_df.drop(columns = \"links\"), links], axis = 1)\n",
    "\n",
    "links_df.head()"
   ]
  },
  {
   "cell_type": "markdown",
   "id": "0b3947ef",
   "metadata": {},
   "source": [
    "we want a history, so probably want to access the `versions`"
   ]
  },
  {
   "cell_type": "code",
   "execution_count": 13,
   "id": "977954d0",
   "metadata": {},
   "outputs": [
    {
     "data": {
      "application/vnd.microsoft.datawrangler.viewer.v0+json": {
       "columns": [
        {
         "name": "index",
         "rawType": "int64",
         "type": "integer"
        },
        {
         "name": "edition",
         "rawType": "object",
         "type": "string"
        },
        {
         "name": "id",
         "rawType": "object",
         "type": "string"
        },
        {
         "name": "state",
         "rawType": "object",
         "type": "string"
        },
        {
         "name": "dataset",
         "rawType": "object",
         "type": "unknown"
        },
        {
         "name": "latest_version",
         "rawType": "object",
         "type": "unknown"
        },
        {
         "name": "self",
         "rawType": "object",
         "type": "unknown"
        },
        {
         "name": "href",
         "rawType": "object",
         "type": "string"
        }
       ],
       "ref": "196c7e67-4f8c-44a5-9f78-1d7b9ffe1bc4",
       "rows": [
        [
         "0",
         "time-series",
         "1009955f-feca-4abb-8699-7cb10baecefe",
         "published",
         "{'href': 'https://api.beta.ons.gov.uk/v1/datasets/ashe-tables-9-and-10', 'id': 'ashe-tables-9-and-10'}",
         "{'href': 'https://api.beta.ons.gov.uk/v1/datasets/ashe-tables-9-and-10/editions/time-series/versions/7', 'id': '7'}",
         "{'href': 'https://api.beta.ons.gov.uk/v1/datasets/ashe-tables-9-and-10/editions/time-series'}",
         "https://api.beta.ons.gov.uk/v1/datasets/ashe-tables-9-and-10/editions/time-series/versions"
        ]
       ],
       "shape": {
        "columns": 7,
        "rows": 1
       }
      },
      "text/html": [
       "<div>\n",
       "<style scoped>\n",
       "    .dataframe tbody tr th:only-of-type {\n",
       "        vertical-align: middle;\n",
       "    }\n",
       "\n",
       "    .dataframe tbody tr th {\n",
       "        vertical-align: top;\n",
       "    }\n",
       "\n",
       "    .dataframe thead th {\n",
       "        text-align: right;\n",
       "    }\n",
       "</style>\n",
       "<table border=\"1\" class=\"dataframe\">\n",
       "  <thead>\n",
       "    <tr style=\"text-align: right;\">\n",
       "      <th></th>\n",
       "      <th>edition</th>\n",
       "      <th>id</th>\n",
       "      <th>state</th>\n",
       "      <th>dataset</th>\n",
       "      <th>latest_version</th>\n",
       "      <th>self</th>\n",
       "      <th>href</th>\n",
       "    </tr>\n",
       "  </thead>\n",
       "  <tbody>\n",
       "    <tr>\n",
       "      <th>0</th>\n",
       "      <td>time-series</td>\n",
       "      <td>1009955f-feca-4abb-8699-7cb10baecefe</td>\n",
       "      <td>published</td>\n",
       "      <td>{'href': 'https://api.beta.ons.gov.uk/v1/datas...</td>\n",
       "      <td>{'href': 'https://api.beta.ons.gov.uk/v1/datas...</td>\n",
       "      <td>{'href': 'https://api.beta.ons.gov.uk/v1/datas...</td>\n",
       "      <td>https://api.beta.ons.gov.uk/v1/datasets/ashe-t...</td>\n",
       "    </tr>\n",
       "  </tbody>\n",
       "</table>\n",
       "</div>"
      ],
      "text/plain": [
       "       edition                                    id      state  \\\n",
       "0  time-series  1009955f-feca-4abb-8699-7cb10baecefe  published   \n",
       "\n",
       "                                             dataset  \\\n",
       "0  {'href': 'https://api.beta.ons.gov.uk/v1/datas...   \n",
       "\n",
       "                                      latest_version  \\\n",
       "0  {'href': 'https://api.beta.ons.gov.uk/v1/datas...   \n",
       "\n",
       "                                                self  \\\n",
       "0  {'href': 'https://api.beta.ons.gov.uk/v1/datas...   \n",
       "\n",
       "                                                href  \n",
       "0  https://api.beta.ons.gov.uk/v1/datasets/ashe-t...  "
      ]
     },
     "execution_count": 13,
     "metadata": {},
     "output_type": "execute_result"
    }
   ],
   "source": [
    "versions = links_df[\"versions\"].apply(pd.Series)\n",
    "\n",
    "versions_df = pd.concat([links_df.drop(columns = \"versions\"), versions], axis = 1)\n",
    "versions_df.head()"
   ]
  },
  {
   "cell_type": "markdown",
   "id": "f5bf2357",
   "metadata": {},
   "source": [
    "and we've got another link to follow - let's make a request to it."
   ]
  },
  {
   "cell_type": "code",
   "execution_count": 14,
   "id": "c2747f3f",
   "metadata": {},
   "outputs": [
    {
     "data": {
      "application/vnd.microsoft.datawrangler.viewer.v0+json": {
       "columns": [
        {
         "name": "index",
         "rawType": "int64",
         "type": "integer"
        },
        {
         "name": "items",
         "rawType": "object",
         "type": "unknown"
        },
        {
         "name": "count",
         "rawType": "int64",
         "type": "integer"
        },
        {
         "name": "offset",
         "rawType": "int64",
         "type": "integer"
        },
        {
         "name": "limit",
         "rawType": "int64",
         "type": "integer"
        },
        {
         "name": "total_count",
         "rawType": "int64",
         "type": "integer"
        }
       ],
       "ref": "fc4b08e6-3c45-48e1-b812-3c9ff6abe6c4",
       "rows": [
        [
         "0",
         "{'alerts': [], 'collection_id': 'cmdashetables9and10-1e517c5ad8ea697cdbe71c94b5d47eaf3f1d16b86174dd85f0c2dc295a82fc64', 'dataset_id': 'ashe-tables-9-and-10', 'dimensions': [{'label': 'Time', 'links': {'code_list': {}, 'options': {}, 'version': {}}, 'href': 'https://api.beta.ons.gov.uk/v1/code-lists/calendar-years', 'id': 'calendar-years', 'name': 'time'}, {'label': 'Geography', 'links': {'code_list': {}, 'options': {}, 'version': {}}, 'href': 'https://api.beta.ons.gov.uk/v1/code-lists/parliamentary-constituencies', 'id': 'parliamentary-constituencies', 'name': 'geography'}, {'label': 'Averages and percentiles', 'links': {'code_list': {}, 'options': {}, 'version': {}}, 'href': 'https://api.beta.ons.gov.uk/v1/code-lists/averages-and-percentiles', 'id': 'averages-and-percentiles', 'name': 'averagesandpercentiles'}, {'label': 'Sex', 'links': {'code_list': {}, 'options': {}, 'version': {}}, 'href': 'https://api.beta.ons.gov.uk/v1/code-lists/sex', 'id': 'sex', 'name': 'sex'}, {'label': 'Working pattern', 'links': {'code_list': {}, 'options': {}, 'version': {}}, 'href': 'https://api.beta.ons.gov.uk/v1/code-lists/working-pattern', 'id': 'working-pattern', 'name': 'workingpattern'}, {'label': 'Hours and earnings', 'links': {'code_list': {}, 'options': {}, 'version': {}}, 'href': 'https://api.beta.ons.gov.uk/v1/code-lists/hours-and-earnings', 'id': 'hours-and-earnings', 'name': 'hoursandearnings'}, {'label': 'Workplace or residence', 'links': {'code_list': {}, 'options': {}, 'version': {}}, 'href': 'https://api.beta.ons.gov.uk/v1/code-lists/workplace-or-residence', 'id': 'workplace-or-residence', 'name': 'workplaceorresidence'}], 'downloads': {'csv': {'href': 'https://download.ons.gov.uk/downloads/datasets/ashe-tables-9-and-10/editions/time-series/versions/7.csv', 'size': '2407539932'}, 'csvw': {'href': 'https://download.ons.gov.uk/downloads/datasets/ashe-tables-9-and-10/editions/time-series/versions/7.csv-metadata.json', 'size': '2911'}}, 'edition': 'time-series', 'id': 'a4f2f661-312b-4d39-9d7e-f8ca46bd22af', 'last_updated': '2024-01-25T09:40:05.702Z', 'latest_changes': [], 'links': {'dataset': {'href': 'https://api.beta.ons.gov.uk/v1/datasets/ashe-tables-9-and-10', 'id': 'ashe-tables-9-and-10'}, 'dimensions': {}, 'edition': {'href': 'https://api.beta.ons.gov.uk/v1/datasets/ashe-tables-9-and-10/editions/time-series', 'id': 'time-series'}, 'self': {'href': 'https://api.beta.ons.gov.uk/v1/datasets/ashe-tables-9-and-10/editions/time-series/versions/7'}}, 'release_date': '2024-01-24T00:00:00.000Z', 'state': 'published', 'usage_notes': [], 'version': 7, 'type': 'v4'}",
         "7",
         "0",
         "20",
         "7"
        ],
        [
         "1",
         "{'alerts': [], 'collection_id': 'cmdashetables9and10-d765eb175c07a1121de05a132e7e4f414562b106e97839af2822b3a4b9e9fb57', 'dataset_id': 'ashe-tables-9-and-10', 'dimensions': [{'label': 'Time', 'links': {'code_list': {}, 'options': {}, 'version': {}}, 'href': 'https://api.beta.ons.gov.uk/v1/code-lists/calendar-years', 'id': 'calendar-years', 'name': 'time'}, {'label': 'Geography', 'links': {'code_list': {}, 'options': {}, 'version': {}}, 'href': 'https://api.beta.ons.gov.uk/v1/code-lists/parliamentary-constituencies', 'id': 'parliamentary-constituencies', 'name': 'geography'}, {'label': 'Averages and percentiles', 'links': {'code_list': {}, 'options': {}, 'version': {}}, 'href': 'https://api.beta.ons.gov.uk/v1/code-lists/averages-and-percentiles', 'id': 'averages-and-percentiles', 'name': 'averagesandpercentiles'}, {'label': 'Sex', 'links': {'code_list': {}, 'options': {}, 'version': {}}, 'href': 'https://api.beta.ons.gov.uk/v1/code-lists/sex', 'id': 'sex', 'name': 'sex'}, {'label': 'Working pattern', 'links': {'code_list': {}, 'options': {}, 'version': {}}, 'href': 'https://api.beta.ons.gov.uk/v1/code-lists/working-pattern', 'id': 'working-pattern', 'name': 'workingpattern'}, {'label': 'Hours and earnings', 'links': {'code_list': {}, 'options': {}, 'version': {}}, 'href': 'https://api.beta.ons.gov.uk/v1/code-lists/hours-and-earnings', 'id': 'hours-and-earnings', 'name': 'hoursandearnings'}, {'label': 'Workplace or residence', 'links': {'code_list': {}, 'options': {}, 'version': {}}, 'href': 'https://api.beta.ons.gov.uk/v1/code-lists/workplace-or-residence', 'id': 'workplace-or-residence', 'name': 'workplaceorresidence'}], 'downloads': {'csv': {'href': 'https://download.ons.gov.uk/downloads/datasets/ashe-tables-9-and-10/editions/time-series/versions/6.csv', 'size': '2166944605'}, 'csvw': {'href': 'https://download.ons.gov.uk/downloads/datasets/ashe-tables-9-and-10/editions/time-series/versions/6.csv-metadata.json', 'size': '2911'}}, 'edition': 'time-series', 'id': 'dda31a80-a12d-40cd-a634-04cf827a652e', 'last_updated': '2024-01-23T09:47:13.276Z', 'latest_changes': [], 'links': {'dataset': {'href': 'https://api.beta.ons.gov.uk/v1/datasets/ashe-tables-9-and-10', 'id': 'ashe-tables-9-and-10'}, 'dimensions': {}, 'edition': {'href': 'https://api.beta.ons.gov.uk/v1/datasets/ashe-tables-9-and-10/editions/time-series', 'id': 'time-series'}, 'self': {'href': 'https://api.beta.ons.gov.uk/v1/datasets/ashe-tables-9-and-10/editions/time-series/versions/6'}}, 'release_date': '2024-01-22T00:00:00.000Z', 'state': 'published', 'usage_notes': [], 'version': 6, 'type': 'v4'}",
         "7",
         "0",
         "20",
         "7"
        ],
        [
         "2",
         "{'alerts': [], 'collection_id': 'cmdashetables9and10-052b867dcc51c294df33e92a8abb8a78b042a8061ca4f4f438976ced9718298c', 'dataset_id': 'ashe-tables-9-and-10', 'dimensions': [{'label': 'Time', 'links': {'code_list': {}, 'options': {}, 'version': {}}, 'href': 'https://api.beta.ons.gov.uk/v1/code-lists/calendar-years', 'id': 'calendar-years', 'name': 'time'}, {'label': 'Geography', 'links': {'code_list': {}, 'options': {}, 'version': {}}, 'href': 'https://api.beta.ons.gov.uk/v1/code-lists/parliamentary-constituencies', 'id': 'parliamentary-constituencies', 'name': 'geography'}, {'label': 'Averages and percentiles', 'links': {'code_list': {}, 'options': {}, 'version': {}}, 'href': 'https://api.beta.ons.gov.uk/v1/code-lists/averages-and-percentiles', 'id': 'averages-and-percentiles', 'name': 'averagesandpercentiles'}, {'label': 'Sex', 'links': {'code_list': {}, 'options': {}, 'version': {}}, 'href': 'https://api.beta.ons.gov.uk/v1/code-lists/sex', 'id': 'sex', 'name': 'sex'}, {'label': 'Working pattern', 'links': {'code_list': {}, 'options': {}, 'version': {}}, 'href': 'https://api.beta.ons.gov.uk/v1/code-lists/working-pattern', 'id': 'working-pattern', 'name': 'workingpattern'}, {'label': 'Hours and earnings', 'links': {'code_list': {}, 'options': {}, 'version': {}}, 'href': 'https://api.beta.ons.gov.uk/v1/code-lists/hours-and-earnings', 'id': 'hours-and-earnings', 'name': 'hoursandearnings'}, {'label': 'Workplace or residence', 'links': {'code_list': {}, 'options': {}, 'version': {}}, 'href': 'https://api.beta.ons.gov.uk/v1/code-lists/workplace-or-residence', 'id': 'workplace-or-residence', 'name': 'workplaceorresidence'}], 'downloads': {}, 'edition': 'time-series', 'id': '3a58a7e1-4e69-4686-8ee7-542a36195163', 'last_updated': '2023-09-04T09:19:41.298Z', 'latest_changes': [], 'links': {'dataset': {'href': 'https://api.beta.ons.gov.uk/v1/datasets/ashe-tables-9-and-10', 'id': 'ashe-tables-9-and-10'}, 'dimensions': {}, 'edition': {'href': 'https://api.beta.ons.gov.uk/v1/datasets/ashe-tables-9-and-10/editions/time-series', 'id': 'time-series'}, 'self': {'href': 'https://api.beta.ons.gov.uk/v1/datasets/ashe-tables-9-and-10/editions/time-series/versions/5'}}, 'release_date': '2023-09-04T00:00:00.000Z', 'state': 'published', 'usage_notes': [], 'version': 5, 'type': 'v4'}",
         "7",
         "0",
         "20",
         "7"
        ],
        [
         "3",
         "{'alerts': [], 'collection_id': 'cmdashe9and10-f07ea6865e08883c405bd348a11124e851ffd61a62e8074457d96ba31f5d6d5c', 'dataset_id': 'ashe-tables-9-and-10', 'dimensions': [{'description': 'The latest year has provisional data. All other years have revised data.', 'label': 'Year', 'links': {'code_list': {}, 'options': {}, 'version': {}}, 'href': 'https://api.beta.ons.gov.uk/v1/code-lists/calendar-years', 'id': 'calendar-years', 'name': 'time'}, {'label': 'Geography', 'links': {'code_list': {}, 'options': {}, 'version': {}}, 'href': 'https://api.beta.ons.gov.uk/v1/code-lists/parliamentary-constituencies', 'id': 'parliamentary-constituencies', 'name': 'geography'}, {'label': 'Statistics', 'links': {'code_list': {}, 'options': {}, 'version': {}}, 'href': 'https://api.beta.ons.gov.uk/v1/code-lists/averages-and-percentiles', 'id': 'averages-and-percentiles', 'name': 'averagesandpercentiles'}, {'label': 'Sex', 'links': {'code_list': {}, 'options': {}, 'version': {}}, 'href': 'https://api.beta.ons.gov.uk/v1/code-lists/sex', 'id': 'sex', 'name': 'sex'}, {'label': 'Working pattern', 'links': {'code_list': {}, 'options': {}, 'version': {}}, 'href': 'https://api.beta.ons.gov.uk/v1/code-lists/working-pattern', 'id': 'working-pattern', 'name': 'workingpattern'}, {'label': 'Hours and earnings', 'links': {'code_list': {}, 'options': {}, 'version': {}}, 'href': 'https://api.beta.ons.gov.uk/v1/code-lists/hours-and-earnings', 'id': 'hours-and-earnings', 'name': 'hoursandearnings'}, {'label': 'Workplace or residence', 'links': {'code_list': {}, 'options': {}, 'version': {}}, 'href': 'https://api.beta.ons.gov.uk/v1/code-lists/workplace-or-residence', 'id': 'workplace-or-residence', 'name': 'workplaceorresidence'}], 'edition': 'time-series', 'id': '9070e83e-6bb5-4407-8866-78f869d4316b', 'last_updated': '2022-11-16T10:10:01.433Z', 'latest_changes': [], 'links': {'dataset': {'href': 'https://api.beta.ons.gov.uk/v1/datasets/ashe-tables-9-and-10', 'id': 'ashe-tables-9-and-10'}, 'dimensions': {}, 'edition': {'href': 'https://api.beta.ons.gov.uk/v1/datasets/ashe-tables-9-and-10/editions/time-series', 'id': 'time-series'}, 'self': {'href': 'https://api.beta.ons.gov.uk/v1/datasets/ashe-tables-9-and-10/editions/time-series/versions/4'}}, 'release_date': '2022-11-07T00:00:00.000Z', 'state': 'published', 'usage_notes': [], 'version': 4, 'type': 'v4'}",
         "7",
         "0",
         "20",
         "7"
        ],
        [
         "4",
         "{'alerts': [], 'collection_id': 'cmdashetables9and10-bb6c38abc7dd2247e14913a16bd1764e2cb871b7836b19a5ebd8aaa04daf0681', 'dataset_id': 'ashe-tables-9-and-10', 'dimensions': [{'description': 'The latest year has provisional data. All other years have revised data.', 'label': 'Year', 'links': {'code_list': {}, 'options': {}, 'version': {}}, 'href': 'https://api.beta.ons.gov.uk/v1/code-lists/calendar-years', 'id': 'calendar-years', 'name': 'time'}, {'label': 'Geography', 'links': {'code_list': {}, 'options': {}, 'version': {}}, 'href': 'https://api.beta.ons.gov.uk/v1/code-lists/parliamentary-constituencies', 'id': 'parliamentary-constituencies', 'name': 'geography'}, {'label': 'Statistics', 'links': {'code_list': {}, 'options': {}, 'version': {}}, 'href': 'https://api.beta.ons.gov.uk/v1/code-lists/averages-and-percentiles', 'id': 'averages-and-percentiles', 'name': 'averagesandpercentiles'}, {'label': 'Sex', 'links': {'code_list': {}, 'options': {}, 'version': {}}, 'href': 'https://api.beta.ons.gov.uk/v1/code-lists/sex', 'id': 'sex', 'name': 'sex'}, {'label': 'Working pattern', 'links': {'code_list': {}, 'options': {}, 'version': {}}, 'href': 'https://api.beta.ons.gov.uk/v1/code-lists/working-pattern', 'id': 'working-pattern', 'name': 'workingpattern'}, {'label': 'Hours and earnings', 'links': {'code_list': {}, 'options': {}, 'version': {}}, 'href': 'https://api.beta.ons.gov.uk/v1/code-lists/hours-and-earnings', 'id': 'hours-and-earnings', 'name': 'hoursandearnings'}, {'label': 'Workplace or residence', 'links': {'code_list': {}, 'options': {}, 'version': {}}, 'href': 'https://api.beta.ons.gov.uk/v1/code-lists/workplace-or-residence', 'id': 'workplace-or-residence', 'name': 'workplaceorresidence'}], 'downloads': {'csv': {'href': 'https://download.ons.gov.uk/downloads/datasets/ashe-tables-9-and-10/editions/time-series/versions/3.csv', 'size': '1926321034'}, 'csvw': {'href': 'https://download.ons.gov.uk/downloads/datasets/ashe-tables-9-and-10/editions/time-series/versions/3.csv-metadata.json', 'size': '4400'}}, 'edition': 'time-series', 'id': '6c86d122-1cc8-46c2-af15-c39aa2518baa', 'last_updated': '2021-11-26T10:29:23.34Z', 'links': {'dataset': {'href': 'https://api.beta.ons.gov.uk/v1/datasets/ashe-tables-9-and-10', 'id': 'ashe-tables-9-and-10'}, 'dimensions': {}, 'edition': {'href': 'https://api.beta.ons.gov.uk/v1/datasets/ashe-tables-9-and-10/editions/time-series', 'id': 'time-series'}, 'self': {'href': 'https://api.beta.ons.gov.uk/v1/datasets/ashe-tables-9-and-10/editions/time-series/versions/3'}}, 'release_date': '2021-11-01T00:00:00.000Z', 'state': 'published', 'usage_notes': [{'title': 'ASHE covers employee jobs in the United Kingdom. It does not cover the self-employed, nor does it cover employees not paid during the reference period.'}, {'title': 'Hourly and weekly estimates are provided for the pay period that included a specified date in April. They relate to employees on adult rates of pay, whose earnings for the survey pay period were not affected by absence. Estimates for 2020 include employees who have been furloughed under the Coronavirus Job Retention Scheme (CJRS). Annual estimates are provided for the tax year that ended on 5th April in the reference year. They relate to employees on adult rates of pay who have been in the same job for more than a year.'}, {'title': \"ASHE is based on a 1% sample of jobs taken from HM Revenue and Customs' Pay As You Earn (PAYE) records. Consequently, individuals with more than one job may appear in the sample more than once.\"}, {'title': 'Indicative counts for the number of jobs are provided alongside all estimates. These are intended to provide a broad idea of the numbers of employee jobs but they should not be considered accurate estimates. Caution should be applied when using these numbers.'}, {'title': 'Estimates with a CV greater than 20% are suppressed from publication on quality grounds, along with those for which there is a risk of disclosure of individual employees or employers.'}], 'version': 3, 'type': 'v4'}",
         "7",
         "0",
         "20",
         "7"
        ]
       ],
       "shape": {
        "columns": 5,
        "rows": 5
       }
      },
      "text/html": [
       "<div>\n",
       "<style scoped>\n",
       "    .dataframe tbody tr th:only-of-type {\n",
       "        vertical-align: middle;\n",
       "    }\n",
       "\n",
       "    .dataframe tbody tr th {\n",
       "        vertical-align: top;\n",
       "    }\n",
       "\n",
       "    .dataframe thead th {\n",
       "        text-align: right;\n",
       "    }\n",
       "</style>\n",
       "<table border=\"1\" class=\"dataframe\">\n",
       "  <thead>\n",
       "    <tr style=\"text-align: right;\">\n",
       "      <th></th>\n",
       "      <th>items</th>\n",
       "      <th>count</th>\n",
       "      <th>offset</th>\n",
       "      <th>limit</th>\n",
       "      <th>total_count</th>\n",
       "    </tr>\n",
       "  </thead>\n",
       "  <tbody>\n",
       "    <tr>\n",
       "      <th>0</th>\n",
       "      <td>{'alerts': [], 'collection_id': 'cmdashetables...</td>\n",
       "      <td>7</td>\n",
       "      <td>0</td>\n",
       "      <td>20</td>\n",
       "      <td>7</td>\n",
       "    </tr>\n",
       "    <tr>\n",
       "      <th>1</th>\n",
       "      <td>{'alerts': [], 'collection_id': 'cmdashetables...</td>\n",
       "      <td>7</td>\n",
       "      <td>0</td>\n",
       "      <td>20</td>\n",
       "      <td>7</td>\n",
       "    </tr>\n",
       "    <tr>\n",
       "      <th>2</th>\n",
       "      <td>{'alerts': [], 'collection_id': 'cmdashetables...</td>\n",
       "      <td>7</td>\n",
       "      <td>0</td>\n",
       "      <td>20</td>\n",
       "      <td>7</td>\n",
       "    </tr>\n",
       "    <tr>\n",
       "      <th>3</th>\n",
       "      <td>{'alerts': [], 'collection_id': 'cmdashe9and10...</td>\n",
       "      <td>7</td>\n",
       "      <td>0</td>\n",
       "      <td>20</td>\n",
       "      <td>7</td>\n",
       "    </tr>\n",
       "    <tr>\n",
       "      <th>4</th>\n",
       "      <td>{'alerts': [], 'collection_id': 'cmdashetables...</td>\n",
       "      <td>7</td>\n",
       "      <td>0</td>\n",
       "      <td>20</td>\n",
       "      <td>7</td>\n",
       "    </tr>\n",
       "  </tbody>\n",
       "</table>\n",
       "</div>"
      ],
      "text/plain": [
       "                                               items  count  offset  limit  \\\n",
       "0  {'alerts': [], 'collection_id': 'cmdashetables...      7       0     20   \n",
       "1  {'alerts': [], 'collection_id': 'cmdashetables...      7       0     20   \n",
       "2  {'alerts': [], 'collection_id': 'cmdashetables...      7       0     20   \n",
       "3  {'alerts': [], 'collection_id': 'cmdashe9and10...      7       0     20   \n",
       "4  {'alerts': [], 'collection_id': 'cmdashetables...      7       0     20   \n",
       "\n",
       "   total_count  \n",
       "0            7  \n",
       "1            7  \n",
       "2            7  \n",
       "3            7  \n",
       "4            7  "
      ]
     },
     "execution_count": 14,
     "metadata": {},
     "output_type": "execute_result"
    }
   ],
   "source": [
    "test_href = versions_df[\"href\"].tolist()[0]\n",
    "\n",
    "href_request = requests.get(test_href)\n",
    "href_json = href_request.json()\n",
    "\n",
    "href_df = pd.DataFrame(href_json)\n",
    "href_df.head()"
   ]
  },
  {
   "cell_type": "markdown",
   "id": "e5973273",
   "metadata": {},
   "source": [
    "and we want items again"
   ]
  },
  {
   "cell_type": "code",
   "execution_count": 15,
   "id": "f358a40a",
   "metadata": {},
   "outputs": [
    {
     "data": {
      "application/vnd.microsoft.datawrangler.viewer.v0+json": {
       "columns": [
        {
         "name": "index",
         "rawType": "int64",
         "type": "integer"
        },
        {
         "name": "alerts",
         "rawType": "object",
         "type": "unknown"
        },
        {
         "name": "collection_id",
         "rawType": "object",
         "type": "string"
        },
        {
         "name": "dataset_id",
         "rawType": "object",
         "type": "string"
        },
        {
         "name": "dimensions",
         "rawType": "object",
         "type": "unknown"
        },
        {
         "name": "downloads",
         "rawType": "object",
         "type": "unknown"
        },
        {
         "name": "edition",
         "rawType": "object",
         "type": "string"
        },
        {
         "name": "id",
         "rawType": "object",
         "type": "string"
        },
        {
         "name": "last_updated",
         "rawType": "object",
         "type": "string"
        },
        {
         "name": "latest_changes",
         "rawType": "object",
         "type": "unknown"
        },
        {
         "name": "links",
         "rawType": "object",
         "type": "unknown"
        },
        {
         "name": "release_date",
         "rawType": "object",
         "type": "string"
        },
        {
         "name": "state",
         "rawType": "object",
         "type": "string"
        },
        {
         "name": "usage_notes",
         "rawType": "object",
         "type": "unknown"
        },
        {
         "name": "version",
         "rawType": "int64",
         "type": "integer"
        },
        {
         "name": "type",
         "rawType": "object",
         "type": "string"
        }
       ],
       "ref": "5c3103b2-0d03-49d4-b903-49a05c22bec1",
       "rows": [
        [
         "0",
         "[]",
         "cmdashetables9and10-1e517c5ad8ea697cdbe71c94b5d47eaf3f1d16b86174dd85f0c2dc295a82fc64",
         "ashe-tables-9-and-10",
         "[{'label': 'Time', 'links': {'code_list': {}, 'options': {}, 'version': {}}, 'href': 'https://api.beta.ons.gov.uk/v1/code-lists/calendar-years', 'id': 'calendar-years', 'name': 'time'}, {'label': 'Geography', 'links': {'code_list': {}, 'options': {}, 'version': {}}, 'href': 'https://api.beta.ons.gov.uk/v1/code-lists/parliamentary-constituencies', 'id': 'parliamentary-constituencies', 'name': 'geography'}, {'label': 'Averages and percentiles', 'links': {'code_list': {}, 'options': {}, 'version': {}}, 'href': 'https://api.beta.ons.gov.uk/v1/code-lists/averages-and-percentiles', 'id': 'averages-and-percentiles', 'name': 'averagesandpercentiles'}, {'label': 'Sex', 'links': {'code_list': {}, 'options': {}, 'version': {}}, 'href': 'https://api.beta.ons.gov.uk/v1/code-lists/sex', 'id': 'sex', 'name': 'sex'}, {'label': 'Working pattern', 'links': {'code_list': {}, 'options': {}, 'version': {}}, 'href': 'https://api.beta.ons.gov.uk/v1/code-lists/working-pattern', 'id': 'working-pattern', 'name': 'workingpattern'}, {'label': 'Hours and earnings', 'links': {'code_list': {}, 'options': {}, 'version': {}}, 'href': 'https://api.beta.ons.gov.uk/v1/code-lists/hours-and-earnings', 'id': 'hours-and-earnings', 'name': 'hoursandearnings'}, {'label': 'Workplace or residence', 'links': {'code_list': {}, 'options': {}, 'version': {}}, 'href': 'https://api.beta.ons.gov.uk/v1/code-lists/workplace-or-residence', 'id': 'workplace-or-residence', 'name': 'workplaceorresidence'}]",
         "{'csv': {'href': 'https://download.ons.gov.uk/downloads/datasets/ashe-tables-9-and-10/editions/time-series/versions/7.csv', 'size': '2407539932'}, 'csvw': {'href': 'https://download.ons.gov.uk/downloads/datasets/ashe-tables-9-and-10/editions/time-series/versions/7.csv-metadata.json', 'size': '2911'}}",
         "time-series",
         "a4f2f661-312b-4d39-9d7e-f8ca46bd22af",
         "2024-01-25T09:40:05.702Z",
         "[]",
         "{'dataset': {'href': 'https://api.beta.ons.gov.uk/v1/datasets/ashe-tables-9-and-10', 'id': 'ashe-tables-9-and-10'}, 'dimensions': {}, 'edition': {'href': 'https://api.beta.ons.gov.uk/v1/datasets/ashe-tables-9-and-10/editions/time-series', 'id': 'time-series'}, 'self': {'href': 'https://api.beta.ons.gov.uk/v1/datasets/ashe-tables-9-and-10/editions/time-series/versions/7'}}",
         "2024-01-24T00:00:00.000Z",
         "published",
         "[]",
         "7",
         "v4"
        ],
        [
         "1",
         "[]",
         "cmdashetables9and10-d765eb175c07a1121de05a132e7e4f414562b106e97839af2822b3a4b9e9fb57",
         "ashe-tables-9-and-10",
         "[{'label': 'Time', 'links': {'code_list': {}, 'options': {}, 'version': {}}, 'href': 'https://api.beta.ons.gov.uk/v1/code-lists/calendar-years', 'id': 'calendar-years', 'name': 'time'}, {'label': 'Geography', 'links': {'code_list': {}, 'options': {}, 'version': {}}, 'href': 'https://api.beta.ons.gov.uk/v1/code-lists/parliamentary-constituencies', 'id': 'parliamentary-constituencies', 'name': 'geography'}, {'label': 'Averages and percentiles', 'links': {'code_list': {}, 'options': {}, 'version': {}}, 'href': 'https://api.beta.ons.gov.uk/v1/code-lists/averages-and-percentiles', 'id': 'averages-and-percentiles', 'name': 'averagesandpercentiles'}, {'label': 'Sex', 'links': {'code_list': {}, 'options': {}, 'version': {}}, 'href': 'https://api.beta.ons.gov.uk/v1/code-lists/sex', 'id': 'sex', 'name': 'sex'}, {'label': 'Working pattern', 'links': {'code_list': {}, 'options': {}, 'version': {}}, 'href': 'https://api.beta.ons.gov.uk/v1/code-lists/working-pattern', 'id': 'working-pattern', 'name': 'workingpattern'}, {'label': 'Hours and earnings', 'links': {'code_list': {}, 'options': {}, 'version': {}}, 'href': 'https://api.beta.ons.gov.uk/v1/code-lists/hours-and-earnings', 'id': 'hours-and-earnings', 'name': 'hoursandearnings'}, {'label': 'Workplace or residence', 'links': {'code_list': {}, 'options': {}, 'version': {}}, 'href': 'https://api.beta.ons.gov.uk/v1/code-lists/workplace-or-residence', 'id': 'workplace-or-residence', 'name': 'workplaceorresidence'}]",
         "{'csv': {'href': 'https://download.ons.gov.uk/downloads/datasets/ashe-tables-9-and-10/editions/time-series/versions/6.csv', 'size': '2166944605'}, 'csvw': {'href': 'https://download.ons.gov.uk/downloads/datasets/ashe-tables-9-and-10/editions/time-series/versions/6.csv-metadata.json', 'size': '2911'}}",
         "time-series",
         "dda31a80-a12d-40cd-a634-04cf827a652e",
         "2024-01-23T09:47:13.276Z",
         "[]",
         "{'dataset': {'href': 'https://api.beta.ons.gov.uk/v1/datasets/ashe-tables-9-and-10', 'id': 'ashe-tables-9-and-10'}, 'dimensions': {}, 'edition': {'href': 'https://api.beta.ons.gov.uk/v1/datasets/ashe-tables-9-and-10/editions/time-series', 'id': 'time-series'}, 'self': {'href': 'https://api.beta.ons.gov.uk/v1/datasets/ashe-tables-9-and-10/editions/time-series/versions/6'}}",
         "2024-01-22T00:00:00.000Z",
         "published",
         "[]",
         "6",
         "v4"
        ],
        [
         "2",
         "[]",
         "cmdashetables9and10-052b867dcc51c294df33e92a8abb8a78b042a8061ca4f4f438976ced9718298c",
         "ashe-tables-9-and-10",
         "[{'label': 'Time', 'links': {'code_list': {}, 'options': {}, 'version': {}}, 'href': 'https://api.beta.ons.gov.uk/v1/code-lists/calendar-years', 'id': 'calendar-years', 'name': 'time'}, {'label': 'Geography', 'links': {'code_list': {}, 'options': {}, 'version': {}}, 'href': 'https://api.beta.ons.gov.uk/v1/code-lists/parliamentary-constituencies', 'id': 'parliamentary-constituencies', 'name': 'geography'}, {'label': 'Averages and percentiles', 'links': {'code_list': {}, 'options': {}, 'version': {}}, 'href': 'https://api.beta.ons.gov.uk/v1/code-lists/averages-and-percentiles', 'id': 'averages-and-percentiles', 'name': 'averagesandpercentiles'}, {'label': 'Sex', 'links': {'code_list': {}, 'options': {}, 'version': {}}, 'href': 'https://api.beta.ons.gov.uk/v1/code-lists/sex', 'id': 'sex', 'name': 'sex'}, {'label': 'Working pattern', 'links': {'code_list': {}, 'options': {}, 'version': {}}, 'href': 'https://api.beta.ons.gov.uk/v1/code-lists/working-pattern', 'id': 'working-pattern', 'name': 'workingpattern'}, {'label': 'Hours and earnings', 'links': {'code_list': {}, 'options': {}, 'version': {}}, 'href': 'https://api.beta.ons.gov.uk/v1/code-lists/hours-and-earnings', 'id': 'hours-and-earnings', 'name': 'hoursandearnings'}, {'label': 'Workplace or residence', 'links': {'code_list': {}, 'options': {}, 'version': {}}, 'href': 'https://api.beta.ons.gov.uk/v1/code-lists/workplace-or-residence', 'id': 'workplace-or-residence', 'name': 'workplaceorresidence'}]",
         "{}",
         "time-series",
         "3a58a7e1-4e69-4686-8ee7-542a36195163",
         "2023-09-04T09:19:41.298Z",
         "[]",
         "{'dataset': {'href': 'https://api.beta.ons.gov.uk/v1/datasets/ashe-tables-9-and-10', 'id': 'ashe-tables-9-and-10'}, 'dimensions': {}, 'edition': {'href': 'https://api.beta.ons.gov.uk/v1/datasets/ashe-tables-9-and-10/editions/time-series', 'id': 'time-series'}, 'self': {'href': 'https://api.beta.ons.gov.uk/v1/datasets/ashe-tables-9-and-10/editions/time-series/versions/5'}}",
         "2023-09-04T00:00:00.000Z",
         "published",
         "[]",
         "5",
         "v4"
        ],
        [
         "3",
         "[]",
         "cmdashe9and10-f07ea6865e08883c405bd348a11124e851ffd61a62e8074457d96ba31f5d6d5c",
         "ashe-tables-9-and-10",
         "[{'description': 'The latest year has provisional data. All other years have revised data.', 'label': 'Year', 'links': {'code_list': {}, 'options': {}, 'version': {}}, 'href': 'https://api.beta.ons.gov.uk/v1/code-lists/calendar-years', 'id': 'calendar-years', 'name': 'time'}, {'label': 'Geography', 'links': {'code_list': {}, 'options': {}, 'version': {}}, 'href': 'https://api.beta.ons.gov.uk/v1/code-lists/parliamentary-constituencies', 'id': 'parliamentary-constituencies', 'name': 'geography'}, {'label': 'Statistics', 'links': {'code_list': {}, 'options': {}, 'version': {}}, 'href': 'https://api.beta.ons.gov.uk/v1/code-lists/averages-and-percentiles', 'id': 'averages-and-percentiles', 'name': 'averagesandpercentiles'}, {'label': 'Sex', 'links': {'code_list': {}, 'options': {}, 'version': {}}, 'href': 'https://api.beta.ons.gov.uk/v1/code-lists/sex', 'id': 'sex', 'name': 'sex'}, {'label': 'Working pattern', 'links': {'code_list': {}, 'options': {}, 'version': {}}, 'href': 'https://api.beta.ons.gov.uk/v1/code-lists/working-pattern', 'id': 'working-pattern', 'name': 'workingpattern'}, {'label': 'Hours and earnings', 'links': {'code_list': {}, 'options': {}, 'version': {}}, 'href': 'https://api.beta.ons.gov.uk/v1/code-lists/hours-and-earnings', 'id': 'hours-and-earnings', 'name': 'hoursandearnings'}, {'label': 'Workplace or residence', 'links': {'code_list': {}, 'options': {}, 'version': {}}, 'href': 'https://api.beta.ons.gov.uk/v1/code-lists/workplace-or-residence', 'id': 'workplace-or-residence', 'name': 'workplaceorresidence'}]",
         null,
         "time-series",
         "9070e83e-6bb5-4407-8866-78f869d4316b",
         "2022-11-16T10:10:01.433Z",
         "[]",
         "{'dataset': {'href': 'https://api.beta.ons.gov.uk/v1/datasets/ashe-tables-9-and-10', 'id': 'ashe-tables-9-and-10'}, 'dimensions': {}, 'edition': {'href': 'https://api.beta.ons.gov.uk/v1/datasets/ashe-tables-9-and-10/editions/time-series', 'id': 'time-series'}, 'self': {'href': 'https://api.beta.ons.gov.uk/v1/datasets/ashe-tables-9-and-10/editions/time-series/versions/4'}}",
         "2022-11-07T00:00:00.000Z",
         "published",
         "[]",
         "4",
         "v4"
        ],
        [
         "4",
         "[]",
         "cmdashetables9and10-bb6c38abc7dd2247e14913a16bd1764e2cb871b7836b19a5ebd8aaa04daf0681",
         "ashe-tables-9-and-10",
         "[{'description': 'The latest year has provisional data. All other years have revised data.', 'label': 'Year', 'links': {'code_list': {}, 'options': {}, 'version': {}}, 'href': 'https://api.beta.ons.gov.uk/v1/code-lists/calendar-years', 'id': 'calendar-years', 'name': 'time'}, {'label': 'Geography', 'links': {'code_list': {}, 'options': {}, 'version': {}}, 'href': 'https://api.beta.ons.gov.uk/v1/code-lists/parliamentary-constituencies', 'id': 'parliamentary-constituencies', 'name': 'geography'}, {'label': 'Statistics', 'links': {'code_list': {}, 'options': {}, 'version': {}}, 'href': 'https://api.beta.ons.gov.uk/v1/code-lists/averages-and-percentiles', 'id': 'averages-and-percentiles', 'name': 'averagesandpercentiles'}, {'label': 'Sex', 'links': {'code_list': {}, 'options': {}, 'version': {}}, 'href': 'https://api.beta.ons.gov.uk/v1/code-lists/sex', 'id': 'sex', 'name': 'sex'}, {'label': 'Working pattern', 'links': {'code_list': {}, 'options': {}, 'version': {}}, 'href': 'https://api.beta.ons.gov.uk/v1/code-lists/working-pattern', 'id': 'working-pattern', 'name': 'workingpattern'}, {'label': 'Hours and earnings', 'links': {'code_list': {}, 'options': {}, 'version': {}}, 'href': 'https://api.beta.ons.gov.uk/v1/code-lists/hours-and-earnings', 'id': 'hours-and-earnings', 'name': 'hoursandearnings'}, {'label': 'Workplace or residence', 'links': {'code_list': {}, 'options': {}, 'version': {}}, 'href': 'https://api.beta.ons.gov.uk/v1/code-lists/workplace-or-residence', 'id': 'workplace-or-residence', 'name': 'workplaceorresidence'}]",
         "{'csv': {'href': 'https://download.ons.gov.uk/downloads/datasets/ashe-tables-9-and-10/editions/time-series/versions/3.csv', 'size': '1926321034'}, 'csvw': {'href': 'https://download.ons.gov.uk/downloads/datasets/ashe-tables-9-and-10/editions/time-series/versions/3.csv-metadata.json', 'size': '4400'}}",
         "time-series",
         "6c86d122-1cc8-46c2-af15-c39aa2518baa",
         "2021-11-26T10:29:23.34Z",
         null,
         "{'dataset': {'href': 'https://api.beta.ons.gov.uk/v1/datasets/ashe-tables-9-and-10', 'id': 'ashe-tables-9-and-10'}, 'dimensions': {}, 'edition': {'href': 'https://api.beta.ons.gov.uk/v1/datasets/ashe-tables-9-and-10/editions/time-series', 'id': 'time-series'}, 'self': {'href': 'https://api.beta.ons.gov.uk/v1/datasets/ashe-tables-9-and-10/editions/time-series/versions/3'}}",
         "2021-11-01T00:00:00.000Z",
         "published",
         "[{'title': 'ASHE covers employee jobs in the United Kingdom. It does not cover the self-employed, nor does it cover employees not paid during the reference period.'}, {'title': 'Hourly and weekly estimates are provided for the pay period that included a specified date in April. They relate to employees on adult rates of pay, whose earnings for the survey pay period were not affected by absence. Estimates for 2020 include employees who have been furloughed under the Coronavirus Job Retention Scheme (CJRS). Annual estimates are provided for the tax year that ended on 5th April in the reference year. They relate to employees on adult rates of pay who have been in the same job for more than a year.'}, {'title': \"ASHE is based on a 1% sample of jobs taken from HM Revenue and Customs' Pay As You Earn (PAYE) records. Consequently, individuals with more than one job may appear in the sample more than once.\"}, {'title': 'Indicative counts for the number of jobs are provided alongside all estimates. These are intended to provide a broad idea of the numbers of employee jobs but they should not be considered accurate estimates. Caution should be applied when using these numbers.'}, {'title': 'Estimates with a CV greater than 20% are suppressed from publication on quality grounds, along with those for which there is a risk of disclosure of individual employees or employers.'}]",
         "3",
         "v4"
        ]
       ],
       "shape": {
        "columns": 15,
        "rows": 5
       }
      },
      "text/html": [
       "<div>\n",
       "<style scoped>\n",
       "    .dataframe tbody tr th:only-of-type {\n",
       "        vertical-align: middle;\n",
       "    }\n",
       "\n",
       "    .dataframe tbody tr th {\n",
       "        vertical-align: top;\n",
       "    }\n",
       "\n",
       "    .dataframe thead th {\n",
       "        text-align: right;\n",
       "    }\n",
       "</style>\n",
       "<table border=\"1\" class=\"dataframe\">\n",
       "  <thead>\n",
       "    <tr style=\"text-align: right;\">\n",
       "      <th></th>\n",
       "      <th>alerts</th>\n",
       "      <th>collection_id</th>\n",
       "      <th>dataset_id</th>\n",
       "      <th>dimensions</th>\n",
       "      <th>downloads</th>\n",
       "      <th>edition</th>\n",
       "      <th>id</th>\n",
       "      <th>last_updated</th>\n",
       "      <th>latest_changes</th>\n",
       "      <th>links</th>\n",
       "      <th>release_date</th>\n",
       "      <th>state</th>\n",
       "      <th>usage_notes</th>\n",
       "      <th>version</th>\n",
       "      <th>type</th>\n",
       "    </tr>\n",
       "  </thead>\n",
       "  <tbody>\n",
       "    <tr>\n",
       "      <th>0</th>\n",
       "      <td>[]</td>\n",
       "      <td>cmdashetables9and10-1e517c5ad8ea697cdbe71c94b5...</td>\n",
       "      <td>ashe-tables-9-and-10</td>\n",
       "      <td>[{'label': 'Time', 'links': {'code_list': {}, ...</td>\n",
       "      <td>{'csv': {'href': 'https://download.ons.gov.uk/...</td>\n",
       "      <td>time-series</td>\n",
       "      <td>a4f2f661-312b-4d39-9d7e-f8ca46bd22af</td>\n",
       "      <td>2024-01-25T09:40:05.702Z</td>\n",
       "      <td>[]</td>\n",
       "      <td>{'dataset': {'href': 'https://api.beta.ons.gov...</td>\n",
       "      <td>2024-01-24T00:00:00.000Z</td>\n",
       "      <td>published</td>\n",
       "      <td>[]</td>\n",
       "      <td>7</td>\n",
       "      <td>v4</td>\n",
       "    </tr>\n",
       "    <tr>\n",
       "      <th>1</th>\n",
       "      <td>[]</td>\n",
       "      <td>cmdashetables9and10-d765eb175c07a1121de05a132e...</td>\n",
       "      <td>ashe-tables-9-and-10</td>\n",
       "      <td>[{'label': 'Time', 'links': {'code_list': {}, ...</td>\n",
       "      <td>{'csv': {'href': 'https://download.ons.gov.uk/...</td>\n",
       "      <td>time-series</td>\n",
       "      <td>dda31a80-a12d-40cd-a634-04cf827a652e</td>\n",
       "      <td>2024-01-23T09:47:13.276Z</td>\n",
       "      <td>[]</td>\n",
       "      <td>{'dataset': {'href': 'https://api.beta.ons.gov...</td>\n",
       "      <td>2024-01-22T00:00:00.000Z</td>\n",
       "      <td>published</td>\n",
       "      <td>[]</td>\n",
       "      <td>6</td>\n",
       "      <td>v4</td>\n",
       "    </tr>\n",
       "    <tr>\n",
       "      <th>2</th>\n",
       "      <td>[]</td>\n",
       "      <td>cmdashetables9and10-052b867dcc51c294df33e92a8a...</td>\n",
       "      <td>ashe-tables-9-and-10</td>\n",
       "      <td>[{'label': 'Time', 'links': {'code_list': {}, ...</td>\n",
       "      <td>{}</td>\n",
       "      <td>time-series</td>\n",
       "      <td>3a58a7e1-4e69-4686-8ee7-542a36195163</td>\n",
       "      <td>2023-09-04T09:19:41.298Z</td>\n",
       "      <td>[]</td>\n",
       "      <td>{'dataset': {'href': 'https://api.beta.ons.gov...</td>\n",
       "      <td>2023-09-04T00:00:00.000Z</td>\n",
       "      <td>published</td>\n",
       "      <td>[]</td>\n",
       "      <td>5</td>\n",
       "      <td>v4</td>\n",
       "    </tr>\n",
       "    <tr>\n",
       "      <th>3</th>\n",
       "      <td>[]</td>\n",
       "      <td>cmdashe9and10-f07ea6865e08883c405bd348a11124e8...</td>\n",
       "      <td>ashe-tables-9-and-10</td>\n",
       "      <td>[{'description': 'The latest year has provisio...</td>\n",
       "      <td>NaN</td>\n",
       "      <td>time-series</td>\n",
       "      <td>9070e83e-6bb5-4407-8866-78f869d4316b</td>\n",
       "      <td>2022-11-16T10:10:01.433Z</td>\n",
       "      <td>[]</td>\n",
       "      <td>{'dataset': {'href': 'https://api.beta.ons.gov...</td>\n",
       "      <td>2022-11-07T00:00:00.000Z</td>\n",
       "      <td>published</td>\n",
       "      <td>[]</td>\n",
       "      <td>4</td>\n",
       "      <td>v4</td>\n",
       "    </tr>\n",
       "    <tr>\n",
       "      <th>4</th>\n",
       "      <td>[]</td>\n",
       "      <td>cmdashetables9and10-bb6c38abc7dd2247e14913a16b...</td>\n",
       "      <td>ashe-tables-9-and-10</td>\n",
       "      <td>[{'description': 'The latest year has provisio...</td>\n",
       "      <td>{'csv': {'href': 'https://download.ons.gov.uk/...</td>\n",
       "      <td>time-series</td>\n",
       "      <td>6c86d122-1cc8-46c2-af15-c39aa2518baa</td>\n",
       "      <td>2021-11-26T10:29:23.34Z</td>\n",
       "      <td>NaN</td>\n",
       "      <td>{'dataset': {'href': 'https://api.beta.ons.gov...</td>\n",
       "      <td>2021-11-01T00:00:00.000Z</td>\n",
       "      <td>published</td>\n",
       "      <td>[{'title': 'ASHE covers employee jobs in the U...</td>\n",
       "      <td>3</td>\n",
       "      <td>v4</td>\n",
       "    </tr>\n",
       "  </tbody>\n",
       "</table>\n",
       "</div>"
      ],
      "text/plain": [
       "  alerts                                      collection_id  \\\n",
       "0     []  cmdashetables9and10-1e517c5ad8ea697cdbe71c94b5...   \n",
       "1     []  cmdashetables9and10-d765eb175c07a1121de05a132e...   \n",
       "2     []  cmdashetables9and10-052b867dcc51c294df33e92a8a...   \n",
       "3     []  cmdashe9and10-f07ea6865e08883c405bd348a11124e8...   \n",
       "4     []  cmdashetables9and10-bb6c38abc7dd2247e14913a16b...   \n",
       "\n",
       "             dataset_id                                         dimensions  \\\n",
       "0  ashe-tables-9-and-10  [{'label': 'Time', 'links': {'code_list': {}, ...   \n",
       "1  ashe-tables-9-and-10  [{'label': 'Time', 'links': {'code_list': {}, ...   \n",
       "2  ashe-tables-9-and-10  [{'label': 'Time', 'links': {'code_list': {}, ...   \n",
       "3  ashe-tables-9-and-10  [{'description': 'The latest year has provisio...   \n",
       "4  ashe-tables-9-and-10  [{'description': 'The latest year has provisio...   \n",
       "\n",
       "                                           downloads      edition  \\\n",
       "0  {'csv': {'href': 'https://download.ons.gov.uk/...  time-series   \n",
       "1  {'csv': {'href': 'https://download.ons.gov.uk/...  time-series   \n",
       "2                                                 {}  time-series   \n",
       "3                                                NaN  time-series   \n",
       "4  {'csv': {'href': 'https://download.ons.gov.uk/...  time-series   \n",
       "\n",
       "                                     id              last_updated  \\\n",
       "0  a4f2f661-312b-4d39-9d7e-f8ca46bd22af  2024-01-25T09:40:05.702Z   \n",
       "1  dda31a80-a12d-40cd-a634-04cf827a652e  2024-01-23T09:47:13.276Z   \n",
       "2  3a58a7e1-4e69-4686-8ee7-542a36195163  2023-09-04T09:19:41.298Z   \n",
       "3  9070e83e-6bb5-4407-8866-78f869d4316b  2022-11-16T10:10:01.433Z   \n",
       "4  6c86d122-1cc8-46c2-af15-c39aa2518baa   2021-11-26T10:29:23.34Z   \n",
       "\n",
       "  latest_changes                                              links  \\\n",
       "0             []  {'dataset': {'href': 'https://api.beta.ons.gov...   \n",
       "1             []  {'dataset': {'href': 'https://api.beta.ons.gov...   \n",
       "2             []  {'dataset': {'href': 'https://api.beta.ons.gov...   \n",
       "3             []  {'dataset': {'href': 'https://api.beta.ons.gov...   \n",
       "4            NaN  {'dataset': {'href': 'https://api.beta.ons.gov...   \n",
       "\n",
       "               release_date      state  \\\n",
       "0  2024-01-24T00:00:00.000Z  published   \n",
       "1  2024-01-22T00:00:00.000Z  published   \n",
       "2  2023-09-04T00:00:00.000Z  published   \n",
       "3  2022-11-07T00:00:00.000Z  published   \n",
       "4  2021-11-01T00:00:00.000Z  published   \n",
       "\n",
       "                                         usage_notes  version type  \n",
       "0                                                 []        7   v4  \n",
       "1                                                 []        6   v4  \n",
       "2                                                 []        5   v4  \n",
       "3                                                 []        4   v4  \n",
       "4  [{'title': 'ASHE covers employee jobs in the U...        3   v4  "
      ]
     },
     "execution_count": 15,
     "metadata": {},
     "output_type": "execute_result"
    }
   ],
   "source": [
    "href_df = pd.DataFrame(href_json[\"items\"])\n",
    "href_df.head()"
   ]
  },
  {
   "cell_type": "markdown",
   "id": "d145afeb",
   "metadata": {},
   "source": [
    "## Exploring dimensions\n",
    "\n",
    "we should probably take a look at the `dimensions` column"
   ]
  },
  {
   "cell_type": "code",
   "execution_count": 16,
   "id": "9fabccfe",
   "metadata": {},
   "outputs": [
    {
     "data": {
      "application/vnd.microsoft.datawrangler.viewer.v0+json": {
       "columns": [
        {
         "name": "index",
         "rawType": "int64",
         "type": "integer"
        },
        {
         "name": "alerts",
         "rawType": "object",
         "type": "unknown"
        },
        {
         "name": "collection_id",
         "rawType": "object",
         "type": "string"
        },
        {
         "name": "dataset_id",
         "rawType": "object",
         "type": "string"
        },
        {
         "name": "downloads",
         "rawType": "object",
         "type": "unknown"
        },
        {
         "name": "edition",
         "rawType": "object",
         "type": "string"
        },
        {
         "name": "id",
         "rawType": "object",
         "type": "string"
        },
        {
         "name": "last_updated",
         "rawType": "object",
         "type": "string"
        },
        {
         "name": "latest_changes",
         "rawType": "object",
         "type": "unknown"
        },
        {
         "name": "links",
         "rawType": "object",
         "type": "unknown"
        },
        {
         "name": "release_date",
         "rawType": "object",
         "type": "string"
        },
        {
         "name": "state",
         "rawType": "object",
         "type": "string"
        },
        {
         "name": "usage_notes",
         "rawType": "object",
         "type": "unknown"
        },
        {
         "name": "version",
         "rawType": "int64",
         "type": "integer"
        },
        {
         "name": "type",
         "rawType": "object",
         "type": "string"
        },
        {
         "name": "label",
         "rawType": "object",
         "type": "string"
        },
        {
         "name": "links",
         "rawType": "object",
         "type": "unknown"
        },
        {
         "name": "href",
         "rawType": "object",
         "type": "string"
        },
        {
         "name": "id",
         "rawType": "object",
         "type": "string"
        },
        {
         "name": "name",
         "rawType": "object",
         "type": "string"
        },
        {
         "name": "description",
         "rawType": "object",
         "type": "unknown"
        }
       ],
       "ref": "899ff427-f9c9-48ac-9108-acc5f2db7e64",
       "rows": [
        [
         "0",
         "[]",
         "cmdashetables9and10-1e517c5ad8ea697cdbe71c94b5d47eaf3f1d16b86174dd85f0c2dc295a82fc64",
         "ashe-tables-9-and-10",
         "{'csv': {'href': 'https://download.ons.gov.uk/downloads/datasets/ashe-tables-9-and-10/editions/time-series/versions/7.csv', 'size': '2407539932'}, 'csvw': {'href': 'https://download.ons.gov.uk/downloads/datasets/ashe-tables-9-and-10/editions/time-series/versions/7.csv-metadata.json', 'size': '2911'}}",
         "time-series",
         "a4f2f661-312b-4d39-9d7e-f8ca46bd22af",
         "2024-01-25T09:40:05.702Z",
         "[]",
         "{'dataset': {'href': 'https://api.beta.ons.gov.uk/v1/datasets/ashe-tables-9-and-10', 'id': 'ashe-tables-9-and-10'}, 'dimensions': {}, 'edition': {'href': 'https://api.beta.ons.gov.uk/v1/datasets/ashe-tables-9-and-10/editions/time-series', 'id': 'time-series'}, 'self': {'href': 'https://api.beta.ons.gov.uk/v1/datasets/ashe-tables-9-and-10/editions/time-series/versions/7'}}",
         "2024-01-24T00:00:00.000Z",
         "published",
         "[]",
         "7",
         "v4",
         "Time",
         "{'code_list': {}, 'options': {}, 'version': {}}",
         "https://api.beta.ons.gov.uk/v1/code-lists/calendar-years",
         "calendar-years",
         "time",
         null
        ],
        [
         "0",
         "[]",
         "cmdashetables9and10-1e517c5ad8ea697cdbe71c94b5d47eaf3f1d16b86174dd85f0c2dc295a82fc64",
         "ashe-tables-9-and-10",
         "{'csv': {'href': 'https://download.ons.gov.uk/downloads/datasets/ashe-tables-9-and-10/editions/time-series/versions/7.csv', 'size': '2407539932'}, 'csvw': {'href': 'https://download.ons.gov.uk/downloads/datasets/ashe-tables-9-and-10/editions/time-series/versions/7.csv-metadata.json', 'size': '2911'}}",
         "time-series",
         "a4f2f661-312b-4d39-9d7e-f8ca46bd22af",
         "2024-01-25T09:40:05.702Z",
         "[]",
         "{'dataset': {'href': 'https://api.beta.ons.gov.uk/v1/datasets/ashe-tables-9-and-10', 'id': 'ashe-tables-9-and-10'}, 'dimensions': {}, 'edition': {'href': 'https://api.beta.ons.gov.uk/v1/datasets/ashe-tables-9-and-10/editions/time-series', 'id': 'time-series'}, 'self': {'href': 'https://api.beta.ons.gov.uk/v1/datasets/ashe-tables-9-and-10/editions/time-series/versions/7'}}",
         "2024-01-24T00:00:00.000Z",
         "published",
         "[]",
         "7",
         "v4",
         "Geography",
         "{'code_list': {}, 'options': {}, 'version': {}}",
         "https://api.beta.ons.gov.uk/v1/code-lists/parliamentary-constituencies",
         "parliamentary-constituencies",
         "geography",
         null
        ],
        [
         "0",
         "[]",
         "cmdashetables9and10-1e517c5ad8ea697cdbe71c94b5d47eaf3f1d16b86174dd85f0c2dc295a82fc64",
         "ashe-tables-9-and-10",
         "{'csv': {'href': 'https://download.ons.gov.uk/downloads/datasets/ashe-tables-9-and-10/editions/time-series/versions/7.csv', 'size': '2407539932'}, 'csvw': {'href': 'https://download.ons.gov.uk/downloads/datasets/ashe-tables-9-and-10/editions/time-series/versions/7.csv-metadata.json', 'size': '2911'}}",
         "time-series",
         "a4f2f661-312b-4d39-9d7e-f8ca46bd22af",
         "2024-01-25T09:40:05.702Z",
         "[]",
         "{'dataset': {'href': 'https://api.beta.ons.gov.uk/v1/datasets/ashe-tables-9-and-10', 'id': 'ashe-tables-9-and-10'}, 'dimensions': {}, 'edition': {'href': 'https://api.beta.ons.gov.uk/v1/datasets/ashe-tables-9-and-10/editions/time-series', 'id': 'time-series'}, 'self': {'href': 'https://api.beta.ons.gov.uk/v1/datasets/ashe-tables-9-and-10/editions/time-series/versions/7'}}",
         "2024-01-24T00:00:00.000Z",
         "published",
         "[]",
         "7",
         "v4",
         "Averages and percentiles",
         "{'code_list': {}, 'options': {}, 'version': {}}",
         "https://api.beta.ons.gov.uk/v1/code-lists/averages-and-percentiles",
         "averages-and-percentiles",
         "averagesandpercentiles",
         null
        ],
        [
         "0",
         "[]",
         "cmdashetables9and10-1e517c5ad8ea697cdbe71c94b5d47eaf3f1d16b86174dd85f0c2dc295a82fc64",
         "ashe-tables-9-and-10",
         "{'csv': {'href': 'https://download.ons.gov.uk/downloads/datasets/ashe-tables-9-and-10/editions/time-series/versions/7.csv', 'size': '2407539932'}, 'csvw': {'href': 'https://download.ons.gov.uk/downloads/datasets/ashe-tables-9-and-10/editions/time-series/versions/7.csv-metadata.json', 'size': '2911'}}",
         "time-series",
         "a4f2f661-312b-4d39-9d7e-f8ca46bd22af",
         "2024-01-25T09:40:05.702Z",
         "[]",
         "{'dataset': {'href': 'https://api.beta.ons.gov.uk/v1/datasets/ashe-tables-9-and-10', 'id': 'ashe-tables-9-and-10'}, 'dimensions': {}, 'edition': {'href': 'https://api.beta.ons.gov.uk/v1/datasets/ashe-tables-9-and-10/editions/time-series', 'id': 'time-series'}, 'self': {'href': 'https://api.beta.ons.gov.uk/v1/datasets/ashe-tables-9-and-10/editions/time-series/versions/7'}}",
         "2024-01-24T00:00:00.000Z",
         "published",
         "[]",
         "7",
         "v4",
         "Sex",
         "{'code_list': {}, 'options': {}, 'version': {}}",
         "https://api.beta.ons.gov.uk/v1/code-lists/sex",
         "sex",
         "sex",
         null
        ],
        [
         "0",
         "[]",
         "cmdashetables9and10-1e517c5ad8ea697cdbe71c94b5d47eaf3f1d16b86174dd85f0c2dc295a82fc64",
         "ashe-tables-9-and-10",
         "{'csv': {'href': 'https://download.ons.gov.uk/downloads/datasets/ashe-tables-9-and-10/editions/time-series/versions/7.csv', 'size': '2407539932'}, 'csvw': {'href': 'https://download.ons.gov.uk/downloads/datasets/ashe-tables-9-and-10/editions/time-series/versions/7.csv-metadata.json', 'size': '2911'}}",
         "time-series",
         "a4f2f661-312b-4d39-9d7e-f8ca46bd22af",
         "2024-01-25T09:40:05.702Z",
         "[]",
         "{'dataset': {'href': 'https://api.beta.ons.gov.uk/v1/datasets/ashe-tables-9-and-10', 'id': 'ashe-tables-9-and-10'}, 'dimensions': {}, 'edition': {'href': 'https://api.beta.ons.gov.uk/v1/datasets/ashe-tables-9-and-10/editions/time-series', 'id': 'time-series'}, 'self': {'href': 'https://api.beta.ons.gov.uk/v1/datasets/ashe-tables-9-and-10/editions/time-series/versions/7'}}",
         "2024-01-24T00:00:00.000Z",
         "published",
         "[]",
         "7",
         "v4",
         "Working pattern",
         "{'code_list': {}, 'options': {}, 'version': {}}",
         "https://api.beta.ons.gov.uk/v1/code-lists/working-pattern",
         "working-pattern",
         "workingpattern",
         null
        ]
       ],
       "shape": {
        "columns": 20,
        "rows": 5
       }
      },
      "text/html": [
       "<div>\n",
       "<style scoped>\n",
       "    .dataframe tbody tr th:only-of-type {\n",
       "        vertical-align: middle;\n",
       "    }\n",
       "\n",
       "    .dataframe tbody tr th {\n",
       "        vertical-align: top;\n",
       "    }\n",
       "\n",
       "    .dataframe thead th {\n",
       "        text-align: right;\n",
       "    }\n",
       "</style>\n",
       "<table border=\"1\" class=\"dataframe\">\n",
       "  <thead>\n",
       "    <tr style=\"text-align: right;\">\n",
       "      <th></th>\n",
       "      <th>alerts</th>\n",
       "      <th>collection_id</th>\n",
       "      <th>dataset_id</th>\n",
       "      <th>downloads</th>\n",
       "      <th>edition</th>\n",
       "      <th>id</th>\n",
       "      <th>last_updated</th>\n",
       "      <th>latest_changes</th>\n",
       "      <th>links</th>\n",
       "      <th>release_date</th>\n",
       "      <th>state</th>\n",
       "      <th>usage_notes</th>\n",
       "      <th>version</th>\n",
       "      <th>type</th>\n",
       "      <th>label</th>\n",
       "      <th>links</th>\n",
       "      <th>href</th>\n",
       "      <th>id</th>\n",
       "      <th>name</th>\n",
       "      <th>description</th>\n",
       "    </tr>\n",
       "  </thead>\n",
       "  <tbody>\n",
       "    <tr>\n",
       "      <th>0</th>\n",
       "      <td>[]</td>\n",
       "      <td>cmdashetables9and10-1e517c5ad8ea697cdbe71c94b5...</td>\n",
       "      <td>ashe-tables-9-and-10</td>\n",
       "      <td>{'csv': {'href': 'https://download.ons.gov.uk/...</td>\n",
       "      <td>time-series</td>\n",
       "      <td>a4f2f661-312b-4d39-9d7e-f8ca46bd22af</td>\n",
       "      <td>2024-01-25T09:40:05.702Z</td>\n",
       "      <td>[]</td>\n",
       "      <td>{'dataset': {'href': 'https://api.beta.ons.gov...</td>\n",
       "      <td>2024-01-24T00:00:00.000Z</td>\n",
       "      <td>published</td>\n",
       "      <td>[]</td>\n",
       "      <td>7</td>\n",
       "      <td>v4</td>\n",
       "      <td>Time</td>\n",
       "      <td>{'code_list': {}, 'options': {}, 'version': {}}</td>\n",
       "      <td>https://api.beta.ons.gov.uk/v1/code-lists/cale...</td>\n",
       "      <td>calendar-years</td>\n",
       "      <td>time</td>\n",
       "      <td>NaN</td>\n",
       "    </tr>\n",
       "    <tr>\n",
       "      <th>0</th>\n",
       "      <td>[]</td>\n",
       "      <td>cmdashetables9and10-1e517c5ad8ea697cdbe71c94b5...</td>\n",
       "      <td>ashe-tables-9-and-10</td>\n",
       "      <td>{'csv': {'href': 'https://download.ons.gov.uk/...</td>\n",
       "      <td>time-series</td>\n",
       "      <td>a4f2f661-312b-4d39-9d7e-f8ca46bd22af</td>\n",
       "      <td>2024-01-25T09:40:05.702Z</td>\n",
       "      <td>[]</td>\n",
       "      <td>{'dataset': {'href': 'https://api.beta.ons.gov...</td>\n",
       "      <td>2024-01-24T00:00:00.000Z</td>\n",
       "      <td>published</td>\n",
       "      <td>[]</td>\n",
       "      <td>7</td>\n",
       "      <td>v4</td>\n",
       "      <td>Geography</td>\n",
       "      <td>{'code_list': {}, 'options': {}, 'version': {}}</td>\n",
       "      <td>https://api.beta.ons.gov.uk/v1/code-lists/parl...</td>\n",
       "      <td>parliamentary-constituencies</td>\n",
       "      <td>geography</td>\n",
       "      <td>NaN</td>\n",
       "    </tr>\n",
       "    <tr>\n",
       "      <th>0</th>\n",
       "      <td>[]</td>\n",
       "      <td>cmdashetables9and10-1e517c5ad8ea697cdbe71c94b5...</td>\n",
       "      <td>ashe-tables-9-and-10</td>\n",
       "      <td>{'csv': {'href': 'https://download.ons.gov.uk/...</td>\n",
       "      <td>time-series</td>\n",
       "      <td>a4f2f661-312b-4d39-9d7e-f8ca46bd22af</td>\n",
       "      <td>2024-01-25T09:40:05.702Z</td>\n",
       "      <td>[]</td>\n",
       "      <td>{'dataset': {'href': 'https://api.beta.ons.gov...</td>\n",
       "      <td>2024-01-24T00:00:00.000Z</td>\n",
       "      <td>published</td>\n",
       "      <td>[]</td>\n",
       "      <td>7</td>\n",
       "      <td>v4</td>\n",
       "      <td>Averages and percentiles</td>\n",
       "      <td>{'code_list': {}, 'options': {}, 'version': {}}</td>\n",
       "      <td>https://api.beta.ons.gov.uk/v1/code-lists/aver...</td>\n",
       "      <td>averages-and-percentiles</td>\n",
       "      <td>averagesandpercentiles</td>\n",
       "      <td>NaN</td>\n",
       "    </tr>\n",
       "    <tr>\n",
       "      <th>0</th>\n",
       "      <td>[]</td>\n",
       "      <td>cmdashetables9and10-1e517c5ad8ea697cdbe71c94b5...</td>\n",
       "      <td>ashe-tables-9-and-10</td>\n",
       "      <td>{'csv': {'href': 'https://download.ons.gov.uk/...</td>\n",
       "      <td>time-series</td>\n",
       "      <td>a4f2f661-312b-4d39-9d7e-f8ca46bd22af</td>\n",
       "      <td>2024-01-25T09:40:05.702Z</td>\n",
       "      <td>[]</td>\n",
       "      <td>{'dataset': {'href': 'https://api.beta.ons.gov...</td>\n",
       "      <td>2024-01-24T00:00:00.000Z</td>\n",
       "      <td>published</td>\n",
       "      <td>[]</td>\n",
       "      <td>7</td>\n",
       "      <td>v4</td>\n",
       "      <td>Sex</td>\n",
       "      <td>{'code_list': {}, 'options': {}, 'version': {}}</td>\n",
       "      <td>https://api.beta.ons.gov.uk/v1/code-lists/sex</td>\n",
       "      <td>sex</td>\n",
       "      <td>sex</td>\n",
       "      <td>NaN</td>\n",
       "    </tr>\n",
       "    <tr>\n",
       "      <th>0</th>\n",
       "      <td>[]</td>\n",
       "      <td>cmdashetables9and10-1e517c5ad8ea697cdbe71c94b5...</td>\n",
       "      <td>ashe-tables-9-and-10</td>\n",
       "      <td>{'csv': {'href': 'https://download.ons.gov.uk/...</td>\n",
       "      <td>time-series</td>\n",
       "      <td>a4f2f661-312b-4d39-9d7e-f8ca46bd22af</td>\n",
       "      <td>2024-01-25T09:40:05.702Z</td>\n",
       "      <td>[]</td>\n",
       "      <td>{'dataset': {'href': 'https://api.beta.ons.gov...</td>\n",
       "      <td>2024-01-24T00:00:00.000Z</td>\n",
       "      <td>published</td>\n",
       "      <td>[]</td>\n",
       "      <td>7</td>\n",
       "      <td>v4</td>\n",
       "      <td>Working pattern</td>\n",
       "      <td>{'code_list': {}, 'options': {}, 'version': {}}</td>\n",
       "      <td>https://api.beta.ons.gov.uk/v1/code-lists/work...</td>\n",
       "      <td>working-pattern</td>\n",
       "      <td>workingpattern</td>\n",
       "      <td>NaN</td>\n",
       "    </tr>\n",
       "  </tbody>\n",
       "</table>\n",
       "</div>"
      ],
      "text/plain": [
       "  alerts                                      collection_id  \\\n",
       "0     []  cmdashetables9and10-1e517c5ad8ea697cdbe71c94b5...   \n",
       "0     []  cmdashetables9and10-1e517c5ad8ea697cdbe71c94b5...   \n",
       "0     []  cmdashetables9and10-1e517c5ad8ea697cdbe71c94b5...   \n",
       "0     []  cmdashetables9and10-1e517c5ad8ea697cdbe71c94b5...   \n",
       "0     []  cmdashetables9and10-1e517c5ad8ea697cdbe71c94b5...   \n",
       "\n",
       "             dataset_id                                          downloads  \\\n",
       "0  ashe-tables-9-and-10  {'csv': {'href': 'https://download.ons.gov.uk/...   \n",
       "0  ashe-tables-9-and-10  {'csv': {'href': 'https://download.ons.gov.uk/...   \n",
       "0  ashe-tables-9-and-10  {'csv': {'href': 'https://download.ons.gov.uk/...   \n",
       "0  ashe-tables-9-and-10  {'csv': {'href': 'https://download.ons.gov.uk/...   \n",
       "0  ashe-tables-9-and-10  {'csv': {'href': 'https://download.ons.gov.uk/...   \n",
       "\n",
       "       edition                                    id  \\\n",
       "0  time-series  a4f2f661-312b-4d39-9d7e-f8ca46bd22af   \n",
       "0  time-series  a4f2f661-312b-4d39-9d7e-f8ca46bd22af   \n",
       "0  time-series  a4f2f661-312b-4d39-9d7e-f8ca46bd22af   \n",
       "0  time-series  a4f2f661-312b-4d39-9d7e-f8ca46bd22af   \n",
       "0  time-series  a4f2f661-312b-4d39-9d7e-f8ca46bd22af   \n",
       "\n",
       "               last_updated latest_changes  \\\n",
       "0  2024-01-25T09:40:05.702Z             []   \n",
       "0  2024-01-25T09:40:05.702Z             []   \n",
       "0  2024-01-25T09:40:05.702Z             []   \n",
       "0  2024-01-25T09:40:05.702Z             []   \n",
       "0  2024-01-25T09:40:05.702Z             []   \n",
       "\n",
       "                                               links  \\\n",
       "0  {'dataset': {'href': 'https://api.beta.ons.gov...   \n",
       "0  {'dataset': {'href': 'https://api.beta.ons.gov...   \n",
       "0  {'dataset': {'href': 'https://api.beta.ons.gov...   \n",
       "0  {'dataset': {'href': 'https://api.beta.ons.gov...   \n",
       "0  {'dataset': {'href': 'https://api.beta.ons.gov...   \n",
       "\n",
       "               release_date      state usage_notes  version type  \\\n",
       "0  2024-01-24T00:00:00.000Z  published          []        7   v4   \n",
       "0  2024-01-24T00:00:00.000Z  published          []        7   v4   \n",
       "0  2024-01-24T00:00:00.000Z  published          []        7   v4   \n",
       "0  2024-01-24T00:00:00.000Z  published          []        7   v4   \n",
       "0  2024-01-24T00:00:00.000Z  published          []        7   v4   \n",
       "\n",
       "                      label                                            links  \\\n",
       "0                      Time  {'code_list': {}, 'options': {}, 'version': {}}   \n",
       "0                 Geography  {'code_list': {}, 'options': {}, 'version': {}}   \n",
       "0  Averages and percentiles  {'code_list': {}, 'options': {}, 'version': {}}   \n",
       "0                       Sex  {'code_list': {}, 'options': {}, 'version': {}}   \n",
       "0           Working pattern  {'code_list': {}, 'options': {}, 'version': {}}   \n",
       "\n",
       "                                                href  \\\n",
       "0  https://api.beta.ons.gov.uk/v1/code-lists/cale...   \n",
       "0  https://api.beta.ons.gov.uk/v1/code-lists/parl...   \n",
       "0  https://api.beta.ons.gov.uk/v1/code-lists/aver...   \n",
       "0      https://api.beta.ons.gov.uk/v1/code-lists/sex   \n",
       "0  https://api.beta.ons.gov.uk/v1/code-lists/work...   \n",
       "\n",
       "                             id                    name description  \n",
       "0                calendar-years                    time         NaN  \n",
       "0  parliamentary-constituencies               geography         NaN  \n",
       "0      averages-and-percentiles  averagesandpercentiles         NaN  \n",
       "0                           sex                     sex         NaN  \n",
       "0               working-pattern          workingpattern         NaN  "
      ]
     },
     "execution_count": 16,
     "metadata": {},
     "output_type": "execute_result"
    }
   ],
   "source": [
    "dimensions_df = href_df.explode(\"dimensions\")\n",
    "\n",
    "dimensions = dimensions_df[\"dimensions\"].apply(pd.Series)\n",
    "dimensions_df = pd.concat([dimensions_df.drop(columns = \"dimensions\"), dimensions], axis = 1)\n",
    "\n",
    "dimensions_df.head()"
   ]
  },
  {
   "cell_type": "markdown",
   "id": "aae6cdb9",
   "metadata": {},
   "source": [
    "it looks like we have links to where we can access dimensional tables - this will be useful in addition to the 'core' datasets (which will likely be more like fact tables). Let's explore one."
   ]
  },
  {
   "cell_type": "code",
   "execution_count": 17,
   "id": "d82d08bd",
   "metadata": {},
   "outputs": [
    {
     "data": {
      "application/vnd.microsoft.datawrangler.viewer.v0+json": {
       "columns": [
        {
         "name": "index",
         "rawType": "object",
         "type": "string"
        },
        {
         "name": "links",
         "rawType": "object",
         "type": "unknown"
        }
       ],
       "ref": "4a54ef0b-4c6f-464d-a20b-a2e01ba00505",
       "rows": [
        [
         "self",
         "{'id': 'calendar-years', 'href': 'http://api.beta.ons.gov.uk/v1/code-lists/calendar-years'}"
        ],
        [
         "editions",
         "{'href': 'http://api.beta.ons.gov.uk/v1/code-lists/calendar-years/editions'}"
        ]
       ],
       "shape": {
        "columns": 1,
        "rows": 2
       }
      },
      "text/html": [
       "<div>\n",
       "<style scoped>\n",
       "    .dataframe tbody tr th:only-of-type {\n",
       "        vertical-align: middle;\n",
       "    }\n",
       "\n",
       "    .dataframe tbody tr th {\n",
       "        vertical-align: top;\n",
       "    }\n",
       "\n",
       "    .dataframe thead th {\n",
       "        text-align: right;\n",
       "    }\n",
       "</style>\n",
       "<table border=\"1\" class=\"dataframe\">\n",
       "  <thead>\n",
       "    <tr style=\"text-align: right;\">\n",
       "      <th></th>\n",
       "      <th>links</th>\n",
       "    </tr>\n",
       "  </thead>\n",
       "  <tbody>\n",
       "    <tr>\n",
       "      <th>self</th>\n",
       "      <td>{'id': 'calendar-years', 'href': 'http://api.b...</td>\n",
       "    </tr>\n",
       "    <tr>\n",
       "      <th>editions</th>\n",
       "      <td>{'href': 'http://api.beta.ons.gov.uk/v1/code-l...</td>\n",
       "    </tr>\n",
       "  </tbody>\n",
       "</table>\n",
       "</div>"
      ],
      "text/plain": [
       "                                                      links\n",
       "self      {'id': 'calendar-years', 'href': 'http://api.b...\n",
       "editions  {'href': 'http://api.beta.ons.gov.uk/v1/code-l..."
      ]
     },
     "execution_count": 17,
     "metadata": {},
     "output_type": "execute_result"
    }
   ],
   "source": [
    "test_dimension = dimensions_df[\"href\"].tolist()[0] #we know this one is time from above\n",
    "\n",
    "time_request = requests.get(test_dimension)\n",
    "time_json = time_request.json()\n",
    "\n",
    "time_df = pd.DataFrame(time_json)\n",
    "time_df.head()"
   ]
  },
  {
   "cell_type": "markdown",
   "id": "1997339e",
   "metadata": {},
   "source": [
    "I thought we'd just want the details in `self` initially, but actually seems we want what's in `editions`..."
   ]
  },
  {
   "cell_type": "code",
   "execution_count": 18,
   "id": "ebc52d6b",
   "metadata": {},
   "outputs": [
    {
     "data": {
      "application/vnd.microsoft.datawrangler.viewer.v0+json": {
       "columns": [
        {
         "name": "index",
         "rawType": "object",
         "type": "string"
        },
        {
         "name": "href",
         "rawType": "object",
         "type": "string"
        }
       ],
       "ref": "7724ffe2-2803-4b23-8839-90772bf663f7",
       "rows": [
        [
         "editions",
         "http://api.beta.ons.gov.uk/v1/code-lists/calendar-years/editions"
        ]
       ],
       "shape": {
        "columns": 1,
        "rows": 1
       }
      },
      "text/html": [
       "<div>\n",
       "<style scoped>\n",
       "    .dataframe tbody tr th:only-of-type {\n",
       "        vertical-align: middle;\n",
       "    }\n",
       "\n",
       "    .dataframe tbody tr th {\n",
       "        vertical-align: top;\n",
       "    }\n",
       "\n",
       "    .dataframe thead th {\n",
       "        text-align: right;\n",
       "    }\n",
       "</style>\n",
       "<table border=\"1\" class=\"dataframe\">\n",
       "  <thead>\n",
       "    <tr style=\"text-align: right;\">\n",
       "      <th></th>\n",
       "      <th>href</th>\n",
       "    </tr>\n",
       "  </thead>\n",
       "  <tbody>\n",
       "    <tr>\n",
       "      <th>editions</th>\n",
       "      <td>http://api.beta.ons.gov.uk/v1/code-lists/calen...</td>\n",
       "    </tr>\n",
       "  </tbody>\n",
       "</table>\n",
       "</div>"
      ],
      "text/plain": [
       "                                                       href\n",
       "editions  http://api.beta.ons.gov.uk/v1/code-lists/calen..."
      ]
     },
     "execution_count": 18,
     "metadata": {},
     "output_type": "execute_result"
    }
   ],
   "source": [
    "editions_df = time_df.loc[[\"editions\"]]\n",
    "\n",
    "links = editions_df[\"links\"].apply(pd.Series)\n",
    "editions_df = pd.concat([editions_df.drop(columns = \"links\"), links], axis = 1)\n",
    "editions_df"
   ]
  },
  {
   "cell_type": "code",
   "execution_count": 19,
   "id": "2b5cad3b",
   "metadata": {},
   "outputs": [
    {
     "data": {
      "application/vnd.microsoft.datawrangler.viewer.v0+json": {
       "columns": [
        {
         "name": "index",
         "rawType": "int64",
         "type": "integer"
        },
        {
         "name": "edition",
         "rawType": "object",
         "type": "string"
        },
        {
         "name": "label",
         "rawType": "object",
         "type": "string"
        },
        {
         "name": "links",
         "rawType": "object",
         "type": "unknown"
        }
       ],
       "ref": "29510004-433e-44ee-956f-e8b620bd0967",
       "rows": [
        [
         "0",
         "one-off",
         "",
         "{'self': {'id': 'one-off', 'href': 'http://api.beta.ons.gov.uk/v1/code-lists/calendar-years/editions/one-off'}, 'editions': {'href': 'http://api.beta.ons.gov.uk/v1/code-lists/calendar-years/editions'}, 'codes': {'href': 'http://api.beta.ons.gov.uk/v1/code-lists/calendar-years/editions/one-off/codes'}}"
        ]
       ],
       "shape": {
        "columns": 3,
        "rows": 1
       }
      },
      "text/html": [
       "<div>\n",
       "<style scoped>\n",
       "    .dataframe tbody tr th:only-of-type {\n",
       "        vertical-align: middle;\n",
       "    }\n",
       "\n",
       "    .dataframe tbody tr th {\n",
       "        vertical-align: top;\n",
       "    }\n",
       "\n",
       "    .dataframe thead th {\n",
       "        text-align: right;\n",
       "    }\n",
       "</style>\n",
       "<table border=\"1\" class=\"dataframe\">\n",
       "  <thead>\n",
       "    <tr style=\"text-align: right;\">\n",
       "      <th></th>\n",
       "      <th>edition</th>\n",
       "      <th>label</th>\n",
       "      <th>links</th>\n",
       "    </tr>\n",
       "  </thead>\n",
       "  <tbody>\n",
       "    <tr>\n",
       "      <th>0</th>\n",
       "      <td>one-off</td>\n",
       "      <td></td>\n",
       "      <td>{'self': {'id': 'one-off', 'href': 'http://api...</td>\n",
       "    </tr>\n",
       "  </tbody>\n",
       "</table>\n",
       "</div>"
      ],
      "text/plain": [
       "   edition label                                              links\n",
       "0  one-off        {'self': {'id': 'one-off', 'href': 'http://api..."
      ]
     },
     "execution_count": 19,
     "metadata": {},
     "output_type": "execute_result"
    }
   ],
   "source": [
    "year_href = editions_df[\"href\"].tolist()[0] #we know this one is time from above\n",
    "\n",
    "year_request = requests.get(year_href)\n",
    "year_json = year_request.json()\n",
    "\n",
    "year_df = pd.DataFrame(year_json[\"items\"]) # of course we want items\n",
    "year_df.head()"
   ]
  },
  {
   "cell_type": "code",
   "execution_count": 20,
   "id": "f9f44040",
   "metadata": {},
   "outputs": [
    {
     "data": {
      "text/plain": [
       "{'self': {'id': 'one-off',\n",
       "  'href': 'http://api.beta.ons.gov.uk/v1/code-lists/calendar-years/editions/one-off'},\n",
       " 'editions': {'href': 'http://api.beta.ons.gov.uk/v1/code-lists/calendar-years/editions'},\n",
       " 'codes': {'href': 'http://api.beta.ons.gov.uk/v1/code-lists/calendar-years/editions/one-off/codes'}}"
      ]
     },
     "execution_count": 20,
     "metadata": {},
     "output_type": "execute_result"
    }
   ],
   "source": [
    "year_df[\"links\"][0]"
   ]
  },
  {
   "cell_type": "code",
   "execution_count": 21,
   "id": "1ce5cff2",
   "metadata": {},
   "outputs": [],
   "source": [
    "year_codes = year_df[\"links\"][0][\"codes\"][\"href\"]"
   ]
  },
  {
   "cell_type": "code",
   "execution_count": 22,
   "id": "b92a8552",
   "metadata": {},
   "outputs": [
    {
     "data": {
      "application/vnd.microsoft.datawrangler.viewer.v0+json": {
       "columns": [
        {
         "name": "index",
         "rawType": "int64",
         "type": "integer"
        },
        {
         "name": "items",
         "rawType": "object",
         "type": "unknown"
        },
        {
         "name": "count",
         "rawType": "int64",
         "type": "integer"
        },
        {
         "name": "offset",
         "rawType": "int64",
         "type": "integer"
        },
        {
         "name": "limit",
         "rawType": "int64",
         "type": "integer"
        },
        {
         "name": "total_count",
         "rawType": "int64",
         "type": "integer"
        }
       ],
       "ref": "f4dfe544-f43c-4c58-b146-81da173e6fb7",
       "rows": [
        [
         "0",
         "{'code': '2150', 'label': '2150', 'links': {'code_list': {'href': 'http://api.beta.ons.gov.uk/v1/code-lists/calendar-years'}, 'datasets': {'href': 'http://api.beta.ons.gov.uk/v1/code-lists/calendar-years/editions/one-off/codes/2150/datasets'}, 'self': {'id': '2150', 'href': 'http://api.beta.ons.gov.uk/v1/code-lists/calendar-years/editions/one-off/codes/2150'}}}",
         "20",
         "0",
         "20",
         "201"
        ],
        [
         "1",
         "{'code': '2149', 'label': '2149', 'links': {'code_list': {'href': 'http://api.beta.ons.gov.uk/v1/code-lists/calendar-years'}, 'datasets': {'href': 'http://api.beta.ons.gov.uk/v1/code-lists/calendar-years/editions/one-off/codes/2149/datasets'}, 'self': {'id': '2149', 'href': 'http://api.beta.ons.gov.uk/v1/code-lists/calendar-years/editions/one-off/codes/2149'}}}",
         "20",
         "0",
         "20",
         "201"
        ],
        [
         "2",
         "{'code': '2148', 'label': '2148', 'links': {'code_list': {'href': 'http://api.beta.ons.gov.uk/v1/code-lists/calendar-years'}, 'datasets': {'href': 'http://api.beta.ons.gov.uk/v1/code-lists/calendar-years/editions/one-off/codes/2148/datasets'}, 'self': {'id': '2148', 'href': 'http://api.beta.ons.gov.uk/v1/code-lists/calendar-years/editions/one-off/codes/2148'}}}",
         "20",
         "0",
         "20",
         "201"
        ],
        [
         "3",
         "{'code': '2147', 'label': '2147', 'links': {'code_list': {'href': 'http://api.beta.ons.gov.uk/v1/code-lists/calendar-years'}, 'datasets': {'href': 'http://api.beta.ons.gov.uk/v1/code-lists/calendar-years/editions/one-off/codes/2147/datasets'}, 'self': {'id': '2147', 'href': 'http://api.beta.ons.gov.uk/v1/code-lists/calendar-years/editions/one-off/codes/2147'}}}",
         "20",
         "0",
         "20",
         "201"
        ],
        [
         "4",
         "{'code': '2146', 'label': '2146', 'links': {'code_list': {'href': 'http://api.beta.ons.gov.uk/v1/code-lists/calendar-years'}, 'datasets': {'href': 'http://api.beta.ons.gov.uk/v1/code-lists/calendar-years/editions/one-off/codes/2146/datasets'}, 'self': {'id': '2146', 'href': 'http://api.beta.ons.gov.uk/v1/code-lists/calendar-years/editions/one-off/codes/2146'}}}",
         "20",
         "0",
         "20",
         "201"
        ]
       ],
       "shape": {
        "columns": 5,
        "rows": 5
       }
      },
      "text/html": [
       "<div>\n",
       "<style scoped>\n",
       "    .dataframe tbody tr th:only-of-type {\n",
       "        vertical-align: middle;\n",
       "    }\n",
       "\n",
       "    .dataframe tbody tr th {\n",
       "        vertical-align: top;\n",
       "    }\n",
       "\n",
       "    .dataframe thead th {\n",
       "        text-align: right;\n",
       "    }\n",
       "</style>\n",
       "<table border=\"1\" class=\"dataframe\">\n",
       "  <thead>\n",
       "    <tr style=\"text-align: right;\">\n",
       "      <th></th>\n",
       "      <th>items</th>\n",
       "      <th>count</th>\n",
       "      <th>offset</th>\n",
       "      <th>limit</th>\n",
       "      <th>total_count</th>\n",
       "    </tr>\n",
       "  </thead>\n",
       "  <tbody>\n",
       "    <tr>\n",
       "      <th>0</th>\n",
       "      <td>{'code': '2150', 'label': '2150', 'links': {'c...</td>\n",
       "      <td>20</td>\n",
       "      <td>0</td>\n",
       "      <td>20</td>\n",
       "      <td>201</td>\n",
       "    </tr>\n",
       "    <tr>\n",
       "      <th>1</th>\n",
       "      <td>{'code': '2149', 'label': '2149', 'links': {'c...</td>\n",
       "      <td>20</td>\n",
       "      <td>0</td>\n",
       "      <td>20</td>\n",
       "      <td>201</td>\n",
       "    </tr>\n",
       "    <tr>\n",
       "      <th>2</th>\n",
       "      <td>{'code': '2148', 'label': '2148', 'links': {'c...</td>\n",
       "      <td>20</td>\n",
       "      <td>0</td>\n",
       "      <td>20</td>\n",
       "      <td>201</td>\n",
       "    </tr>\n",
       "    <tr>\n",
       "      <th>3</th>\n",
       "      <td>{'code': '2147', 'label': '2147', 'links': {'c...</td>\n",
       "      <td>20</td>\n",
       "      <td>0</td>\n",
       "      <td>20</td>\n",
       "      <td>201</td>\n",
       "    </tr>\n",
       "    <tr>\n",
       "      <th>4</th>\n",
       "      <td>{'code': '2146', 'label': '2146', 'links': {'c...</td>\n",
       "      <td>20</td>\n",
       "      <td>0</td>\n",
       "      <td>20</td>\n",
       "      <td>201</td>\n",
       "    </tr>\n",
       "  </tbody>\n",
       "</table>\n",
       "</div>"
      ],
      "text/plain": [
       "                                               items  count  offset  limit  \\\n",
       "0  {'code': '2150', 'label': '2150', 'links': {'c...     20       0     20   \n",
       "1  {'code': '2149', 'label': '2149', 'links': {'c...     20       0     20   \n",
       "2  {'code': '2148', 'label': '2148', 'links': {'c...     20       0     20   \n",
       "3  {'code': '2147', 'label': '2147', 'links': {'c...     20       0     20   \n",
       "4  {'code': '2146', 'label': '2146', 'links': {'c...     20       0     20   \n",
       "\n",
       "   total_count  \n",
       "0          201  \n",
       "1          201  \n",
       "2          201  \n",
       "3          201  \n",
       "4          201  "
      ]
     },
     "execution_count": 22,
     "metadata": {},
     "output_type": "execute_result"
    }
   ],
   "source": [
    "codes_request = requests.get(year_codes)\n",
    "codes_json = codes_request.json()\n",
    "\n",
    "codes_df = pd.DataFrame(codes_json)\n",
    "codes_df.head()"
   ]
  },
  {
   "cell_type": "code",
   "execution_count": 23,
   "id": "cdd1eb6b",
   "metadata": {},
   "outputs": [
    {
     "data": {
      "application/vnd.microsoft.datawrangler.viewer.v0+json": {
       "columns": [
        {
         "name": "index",
         "rawType": "int64",
         "type": "integer"
        },
        {
         "name": "code",
         "rawType": "object",
         "type": "string"
        },
        {
         "name": "label",
         "rawType": "object",
         "type": "string"
        },
        {
         "name": "links",
         "rawType": "object",
         "type": "unknown"
        }
       ],
       "ref": "878bd857-8d2c-4b52-86be-0735e7066696",
       "rows": [
        [
         "0",
         "2150",
         "2150",
         "{'code_list': {'href': 'http://api.beta.ons.gov.uk/v1/code-lists/calendar-years'}, 'datasets': {'href': 'http://api.beta.ons.gov.uk/v1/code-lists/calendar-years/editions/one-off/codes/2150/datasets'}, 'self': {'id': '2150', 'href': 'http://api.beta.ons.gov.uk/v1/code-lists/calendar-years/editions/one-off/codes/2150'}}"
        ],
        [
         "1",
         "2149",
         "2149",
         "{'code_list': {'href': 'http://api.beta.ons.gov.uk/v1/code-lists/calendar-years'}, 'datasets': {'href': 'http://api.beta.ons.gov.uk/v1/code-lists/calendar-years/editions/one-off/codes/2149/datasets'}, 'self': {'id': '2149', 'href': 'http://api.beta.ons.gov.uk/v1/code-lists/calendar-years/editions/one-off/codes/2149'}}"
        ],
        [
         "2",
         "2148",
         "2148",
         "{'code_list': {'href': 'http://api.beta.ons.gov.uk/v1/code-lists/calendar-years'}, 'datasets': {'href': 'http://api.beta.ons.gov.uk/v1/code-lists/calendar-years/editions/one-off/codes/2148/datasets'}, 'self': {'id': '2148', 'href': 'http://api.beta.ons.gov.uk/v1/code-lists/calendar-years/editions/one-off/codes/2148'}}"
        ],
        [
         "3",
         "2147",
         "2147",
         "{'code_list': {'href': 'http://api.beta.ons.gov.uk/v1/code-lists/calendar-years'}, 'datasets': {'href': 'http://api.beta.ons.gov.uk/v1/code-lists/calendar-years/editions/one-off/codes/2147/datasets'}, 'self': {'id': '2147', 'href': 'http://api.beta.ons.gov.uk/v1/code-lists/calendar-years/editions/one-off/codes/2147'}}"
        ],
        [
         "4",
         "2146",
         "2146",
         "{'code_list': {'href': 'http://api.beta.ons.gov.uk/v1/code-lists/calendar-years'}, 'datasets': {'href': 'http://api.beta.ons.gov.uk/v1/code-lists/calendar-years/editions/one-off/codes/2146/datasets'}, 'self': {'id': '2146', 'href': 'http://api.beta.ons.gov.uk/v1/code-lists/calendar-years/editions/one-off/codes/2146'}}"
        ],
        [
         "5",
         "2145",
         "2145",
         "{'code_list': {'href': 'http://api.beta.ons.gov.uk/v1/code-lists/calendar-years'}, 'datasets': {'href': 'http://api.beta.ons.gov.uk/v1/code-lists/calendar-years/editions/one-off/codes/2145/datasets'}, 'self': {'id': '2145', 'href': 'http://api.beta.ons.gov.uk/v1/code-lists/calendar-years/editions/one-off/codes/2145'}}"
        ],
        [
         "6",
         "2144",
         "2144",
         "{'code_list': {'href': 'http://api.beta.ons.gov.uk/v1/code-lists/calendar-years'}, 'datasets': {'href': 'http://api.beta.ons.gov.uk/v1/code-lists/calendar-years/editions/one-off/codes/2144/datasets'}, 'self': {'id': '2144', 'href': 'http://api.beta.ons.gov.uk/v1/code-lists/calendar-years/editions/one-off/codes/2144'}}"
        ],
        [
         "7",
         "2143",
         "2143",
         "{'code_list': {'href': 'http://api.beta.ons.gov.uk/v1/code-lists/calendar-years'}, 'datasets': {'href': 'http://api.beta.ons.gov.uk/v1/code-lists/calendar-years/editions/one-off/codes/2143/datasets'}, 'self': {'id': '2143', 'href': 'http://api.beta.ons.gov.uk/v1/code-lists/calendar-years/editions/one-off/codes/2143'}}"
        ],
        [
         "8",
         "2142",
         "2142",
         "{'code_list': {'href': 'http://api.beta.ons.gov.uk/v1/code-lists/calendar-years'}, 'datasets': {'href': 'http://api.beta.ons.gov.uk/v1/code-lists/calendar-years/editions/one-off/codes/2142/datasets'}, 'self': {'id': '2142', 'href': 'http://api.beta.ons.gov.uk/v1/code-lists/calendar-years/editions/one-off/codes/2142'}}"
        ],
        [
         "9",
         "2141",
         "2141",
         "{'code_list': {'href': 'http://api.beta.ons.gov.uk/v1/code-lists/calendar-years'}, 'datasets': {'href': 'http://api.beta.ons.gov.uk/v1/code-lists/calendar-years/editions/one-off/codes/2141/datasets'}, 'self': {'id': '2141', 'href': 'http://api.beta.ons.gov.uk/v1/code-lists/calendar-years/editions/one-off/codes/2141'}}"
        ],
        [
         "10",
         "2140",
         "2140",
         "{'code_list': {'href': 'http://api.beta.ons.gov.uk/v1/code-lists/calendar-years'}, 'datasets': {'href': 'http://api.beta.ons.gov.uk/v1/code-lists/calendar-years/editions/one-off/codes/2140/datasets'}, 'self': {'id': '2140', 'href': 'http://api.beta.ons.gov.uk/v1/code-lists/calendar-years/editions/one-off/codes/2140'}}"
        ],
        [
         "11",
         "2139",
         "2139",
         "{'code_list': {'href': 'http://api.beta.ons.gov.uk/v1/code-lists/calendar-years'}, 'datasets': {'href': 'http://api.beta.ons.gov.uk/v1/code-lists/calendar-years/editions/one-off/codes/2139/datasets'}, 'self': {'id': '2139', 'href': 'http://api.beta.ons.gov.uk/v1/code-lists/calendar-years/editions/one-off/codes/2139'}}"
        ],
        [
         "12",
         "2138",
         "2138",
         "{'code_list': {'href': 'http://api.beta.ons.gov.uk/v1/code-lists/calendar-years'}, 'datasets': {'href': 'http://api.beta.ons.gov.uk/v1/code-lists/calendar-years/editions/one-off/codes/2138/datasets'}, 'self': {'id': '2138', 'href': 'http://api.beta.ons.gov.uk/v1/code-lists/calendar-years/editions/one-off/codes/2138'}}"
        ],
        [
         "13",
         "2137",
         "2137",
         "{'code_list': {'href': 'http://api.beta.ons.gov.uk/v1/code-lists/calendar-years'}, 'datasets': {'href': 'http://api.beta.ons.gov.uk/v1/code-lists/calendar-years/editions/one-off/codes/2137/datasets'}, 'self': {'id': '2137', 'href': 'http://api.beta.ons.gov.uk/v1/code-lists/calendar-years/editions/one-off/codes/2137'}}"
        ],
        [
         "14",
         "2136",
         "2136",
         "{'code_list': {'href': 'http://api.beta.ons.gov.uk/v1/code-lists/calendar-years'}, 'datasets': {'href': 'http://api.beta.ons.gov.uk/v1/code-lists/calendar-years/editions/one-off/codes/2136/datasets'}, 'self': {'id': '2136', 'href': 'http://api.beta.ons.gov.uk/v1/code-lists/calendar-years/editions/one-off/codes/2136'}}"
        ],
        [
         "15",
         "2135",
         "2135",
         "{'code_list': {'href': 'http://api.beta.ons.gov.uk/v1/code-lists/calendar-years'}, 'datasets': {'href': 'http://api.beta.ons.gov.uk/v1/code-lists/calendar-years/editions/one-off/codes/2135/datasets'}, 'self': {'id': '2135', 'href': 'http://api.beta.ons.gov.uk/v1/code-lists/calendar-years/editions/one-off/codes/2135'}}"
        ],
        [
         "16",
         "2134",
         "2134",
         "{'code_list': {'href': 'http://api.beta.ons.gov.uk/v1/code-lists/calendar-years'}, 'datasets': {'href': 'http://api.beta.ons.gov.uk/v1/code-lists/calendar-years/editions/one-off/codes/2134/datasets'}, 'self': {'id': '2134', 'href': 'http://api.beta.ons.gov.uk/v1/code-lists/calendar-years/editions/one-off/codes/2134'}}"
        ],
        [
         "17",
         "2133",
         "2133",
         "{'code_list': {'href': 'http://api.beta.ons.gov.uk/v1/code-lists/calendar-years'}, 'datasets': {'href': 'http://api.beta.ons.gov.uk/v1/code-lists/calendar-years/editions/one-off/codes/2133/datasets'}, 'self': {'id': '2133', 'href': 'http://api.beta.ons.gov.uk/v1/code-lists/calendar-years/editions/one-off/codes/2133'}}"
        ],
        [
         "18",
         "2132",
         "2132",
         "{'code_list': {'href': 'http://api.beta.ons.gov.uk/v1/code-lists/calendar-years'}, 'datasets': {'href': 'http://api.beta.ons.gov.uk/v1/code-lists/calendar-years/editions/one-off/codes/2132/datasets'}, 'self': {'id': '2132', 'href': 'http://api.beta.ons.gov.uk/v1/code-lists/calendar-years/editions/one-off/codes/2132'}}"
        ],
        [
         "19",
         "2131",
         "2131",
         "{'code_list': {'href': 'http://api.beta.ons.gov.uk/v1/code-lists/calendar-years'}, 'datasets': {'href': 'http://api.beta.ons.gov.uk/v1/code-lists/calendar-years/editions/one-off/codes/2131/datasets'}, 'self': {'id': '2131', 'href': 'http://api.beta.ons.gov.uk/v1/code-lists/calendar-years/editions/one-off/codes/2131'}}"
        ],
        [
         "20",
         "2130",
         "2130",
         "{'code_list': {'href': 'http://api.beta.ons.gov.uk/v1/code-lists/calendar-years'}, 'datasets': {'href': 'http://api.beta.ons.gov.uk/v1/code-lists/calendar-years/editions/one-off/codes/2130/datasets'}, 'self': {'id': '2130', 'href': 'http://api.beta.ons.gov.uk/v1/code-lists/calendar-years/editions/one-off/codes/2130'}}"
        ],
        [
         "21",
         "2129",
         "2129",
         "{'code_list': {'href': 'http://api.beta.ons.gov.uk/v1/code-lists/calendar-years'}, 'datasets': {'href': 'http://api.beta.ons.gov.uk/v1/code-lists/calendar-years/editions/one-off/codes/2129/datasets'}, 'self': {'id': '2129', 'href': 'http://api.beta.ons.gov.uk/v1/code-lists/calendar-years/editions/one-off/codes/2129'}}"
        ],
        [
         "22",
         "2128",
         "2128",
         "{'code_list': {'href': 'http://api.beta.ons.gov.uk/v1/code-lists/calendar-years'}, 'datasets': {'href': 'http://api.beta.ons.gov.uk/v1/code-lists/calendar-years/editions/one-off/codes/2128/datasets'}, 'self': {'id': '2128', 'href': 'http://api.beta.ons.gov.uk/v1/code-lists/calendar-years/editions/one-off/codes/2128'}}"
        ],
        [
         "23",
         "2127",
         "2127",
         "{'code_list': {'href': 'http://api.beta.ons.gov.uk/v1/code-lists/calendar-years'}, 'datasets': {'href': 'http://api.beta.ons.gov.uk/v1/code-lists/calendar-years/editions/one-off/codes/2127/datasets'}, 'self': {'id': '2127', 'href': 'http://api.beta.ons.gov.uk/v1/code-lists/calendar-years/editions/one-off/codes/2127'}}"
        ],
        [
         "24",
         "2126",
         "2126",
         "{'code_list': {'href': 'http://api.beta.ons.gov.uk/v1/code-lists/calendar-years'}, 'datasets': {'href': 'http://api.beta.ons.gov.uk/v1/code-lists/calendar-years/editions/one-off/codes/2126/datasets'}, 'self': {'id': '2126', 'href': 'http://api.beta.ons.gov.uk/v1/code-lists/calendar-years/editions/one-off/codes/2126'}}"
        ],
        [
         "25",
         "2125",
         "2125",
         "{'code_list': {'href': 'http://api.beta.ons.gov.uk/v1/code-lists/calendar-years'}, 'datasets': {'href': 'http://api.beta.ons.gov.uk/v1/code-lists/calendar-years/editions/one-off/codes/2125/datasets'}, 'self': {'id': '2125', 'href': 'http://api.beta.ons.gov.uk/v1/code-lists/calendar-years/editions/one-off/codes/2125'}}"
        ],
        [
         "26",
         "2124",
         "2124",
         "{'code_list': {'href': 'http://api.beta.ons.gov.uk/v1/code-lists/calendar-years'}, 'datasets': {'href': 'http://api.beta.ons.gov.uk/v1/code-lists/calendar-years/editions/one-off/codes/2124/datasets'}, 'self': {'id': '2124', 'href': 'http://api.beta.ons.gov.uk/v1/code-lists/calendar-years/editions/one-off/codes/2124'}}"
        ],
        [
         "27",
         "2123",
         "2123",
         "{'code_list': {'href': 'http://api.beta.ons.gov.uk/v1/code-lists/calendar-years'}, 'datasets': {'href': 'http://api.beta.ons.gov.uk/v1/code-lists/calendar-years/editions/one-off/codes/2123/datasets'}, 'self': {'id': '2123', 'href': 'http://api.beta.ons.gov.uk/v1/code-lists/calendar-years/editions/one-off/codes/2123'}}"
        ],
        [
         "28",
         "2122",
         "2122",
         "{'code_list': {'href': 'http://api.beta.ons.gov.uk/v1/code-lists/calendar-years'}, 'datasets': {'href': 'http://api.beta.ons.gov.uk/v1/code-lists/calendar-years/editions/one-off/codes/2122/datasets'}, 'self': {'id': '2122', 'href': 'http://api.beta.ons.gov.uk/v1/code-lists/calendar-years/editions/one-off/codes/2122'}}"
        ],
        [
         "29",
         "2121",
         "2121",
         "{'code_list': {'href': 'http://api.beta.ons.gov.uk/v1/code-lists/calendar-years'}, 'datasets': {'href': 'http://api.beta.ons.gov.uk/v1/code-lists/calendar-years/editions/one-off/codes/2121/datasets'}, 'self': {'id': '2121', 'href': 'http://api.beta.ons.gov.uk/v1/code-lists/calendar-years/editions/one-off/codes/2121'}}"
        ],
        [
         "30",
         "2120",
         "2120",
         "{'code_list': {'href': 'http://api.beta.ons.gov.uk/v1/code-lists/calendar-years'}, 'datasets': {'href': 'http://api.beta.ons.gov.uk/v1/code-lists/calendar-years/editions/one-off/codes/2120/datasets'}, 'self': {'id': '2120', 'href': 'http://api.beta.ons.gov.uk/v1/code-lists/calendar-years/editions/one-off/codes/2120'}}"
        ],
        [
         "31",
         "2119",
         "2119",
         "{'code_list': {'href': 'http://api.beta.ons.gov.uk/v1/code-lists/calendar-years'}, 'datasets': {'href': 'http://api.beta.ons.gov.uk/v1/code-lists/calendar-years/editions/one-off/codes/2119/datasets'}, 'self': {'id': '2119', 'href': 'http://api.beta.ons.gov.uk/v1/code-lists/calendar-years/editions/one-off/codes/2119'}}"
        ],
        [
         "32",
         "2118",
         "2118",
         "{'code_list': {'href': 'http://api.beta.ons.gov.uk/v1/code-lists/calendar-years'}, 'datasets': {'href': 'http://api.beta.ons.gov.uk/v1/code-lists/calendar-years/editions/one-off/codes/2118/datasets'}, 'self': {'id': '2118', 'href': 'http://api.beta.ons.gov.uk/v1/code-lists/calendar-years/editions/one-off/codes/2118'}}"
        ],
        [
         "33",
         "2117",
         "2117",
         "{'code_list': {'href': 'http://api.beta.ons.gov.uk/v1/code-lists/calendar-years'}, 'datasets': {'href': 'http://api.beta.ons.gov.uk/v1/code-lists/calendar-years/editions/one-off/codes/2117/datasets'}, 'self': {'id': '2117', 'href': 'http://api.beta.ons.gov.uk/v1/code-lists/calendar-years/editions/one-off/codes/2117'}}"
        ],
        [
         "34",
         "2116",
         "2116",
         "{'code_list': {'href': 'http://api.beta.ons.gov.uk/v1/code-lists/calendar-years'}, 'datasets': {'href': 'http://api.beta.ons.gov.uk/v1/code-lists/calendar-years/editions/one-off/codes/2116/datasets'}, 'self': {'id': '2116', 'href': 'http://api.beta.ons.gov.uk/v1/code-lists/calendar-years/editions/one-off/codes/2116'}}"
        ],
        [
         "35",
         "2115",
         "2115",
         "{'code_list': {'href': 'http://api.beta.ons.gov.uk/v1/code-lists/calendar-years'}, 'datasets': {'href': 'http://api.beta.ons.gov.uk/v1/code-lists/calendar-years/editions/one-off/codes/2115/datasets'}, 'self': {'id': '2115', 'href': 'http://api.beta.ons.gov.uk/v1/code-lists/calendar-years/editions/one-off/codes/2115'}}"
        ],
        [
         "36",
         "2114",
         "2114",
         "{'code_list': {'href': 'http://api.beta.ons.gov.uk/v1/code-lists/calendar-years'}, 'datasets': {'href': 'http://api.beta.ons.gov.uk/v1/code-lists/calendar-years/editions/one-off/codes/2114/datasets'}, 'self': {'id': '2114', 'href': 'http://api.beta.ons.gov.uk/v1/code-lists/calendar-years/editions/one-off/codes/2114'}}"
        ],
        [
         "37",
         "2113",
         "2113",
         "{'code_list': {'href': 'http://api.beta.ons.gov.uk/v1/code-lists/calendar-years'}, 'datasets': {'href': 'http://api.beta.ons.gov.uk/v1/code-lists/calendar-years/editions/one-off/codes/2113/datasets'}, 'self': {'id': '2113', 'href': 'http://api.beta.ons.gov.uk/v1/code-lists/calendar-years/editions/one-off/codes/2113'}}"
        ],
        [
         "38",
         "2112",
         "2112",
         "{'code_list': {'href': 'http://api.beta.ons.gov.uk/v1/code-lists/calendar-years'}, 'datasets': {'href': 'http://api.beta.ons.gov.uk/v1/code-lists/calendar-years/editions/one-off/codes/2112/datasets'}, 'self': {'id': '2112', 'href': 'http://api.beta.ons.gov.uk/v1/code-lists/calendar-years/editions/one-off/codes/2112'}}"
        ],
        [
         "39",
         "2111",
         "2111",
         "{'code_list': {'href': 'http://api.beta.ons.gov.uk/v1/code-lists/calendar-years'}, 'datasets': {'href': 'http://api.beta.ons.gov.uk/v1/code-lists/calendar-years/editions/one-off/codes/2111/datasets'}, 'self': {'id': '2111', 'href': 'http://api.beta.ons.gov.uk/v1/code-lists/calendar-years/editions/one-off/codes/2111'}}"
        ],
        [
         "40",
         "2110",
         "2110",
         "{'code_list': {'href': 'http://api.beta.ons.gov.uk/v1/code-lists/calendar-years'}, 'datasets': {'href': 'http://api.beta.ons.gov.uk/v1/code-lists/calendar-years/editions/one-off/codes/2110/datasets'}, 'self': {'id': '2110', 'href': 'http://api.beta.ons.gov.uk/v1/code-lists/calendar-years/editions/one-off/codes/2110'}}"
        ],
        [
         "41",
         "2109",
         "2109",
         "{'code_list': {'href': 'http://api.beta.ons.gov.uk/v1/code-lists/calendar-years'}, 'datasets': {'href': 'http://api.beta.ons.gov.uk/v1/code-lists/calendar-years/editions/one-off/codes/2109/datasets'}, 'self': {'id': '2109', 'href': 'http://api.beta.ons.gov.uk/v1/code-lists/calendar-years/editions/one-off/codes/2109'}}"
        ],
        [
         "42",
         "2108",
         "2108",
         "{'code_list': {'href': 'http://api.beta.ons.gov.uk/v1/code-lists/calendar-years'}, 'datasets': {'href': 'http://api.beta.ons.gov.uk/v1/code-lists/calendar-years/editions/one-off/codes/2108/datasets'}, 'self': {'id': '2108', 'href': 'http://api.beta.ons.gov.uk/v1/code-lists/calendar-years/editions/one-off/codes/2108'}}"
        ],
        [
         "43",
         "2107",
         "2107",
         "{'code_list': {'href': 'http://api.beta.ons.gov.uk/v1/code-lists/calendar-years'}, 'datasets': {'href': 'http://api.beta.ons.gov.uk/v1/code-lists/calendar-years/editions/one-off/codes/2107/datasets'}, 'self': {'id': '2107', 'href': 'http://api.beta.ons.gov.uk/v1/code-lists/calendar-years/editions/one-off/codes/2107'}}"
        ],
        [
         "44",
         "2106",
         "2106",
         "{'code_list': {'href': 'http://api.beta.ons.gov.uk/v1/code-lists/calendar-years'}, 'datasets': {'href': 'http://api.beta.ons.gov.uk/v1/code-lists/calendar-years/editions/one-off/codes/2106/datasets'}, 'self': {'id': '2106', 'href': 'http://api.beta.ons.gov.uk/v1/code-lists/calendar-years/editions/one-off/codes/2106'}}"
        ],
        [
         "45",
         "2105",
         "2105",
         "{'code_list': {'href': 'http://api.beta.ons.gov.uk/v1/code-lists/calendar-years'}, 'datasets': {'href': 'http://api.beta.ons.gov.uk/v1/code-lists/calendar-years/editions/one-off/codes/2105/datasets'}, 'self': {'id': '2105', 'href': 'http://api.beta.ons.gov.uk/v1/code-lists/calendar-years/editions/one-off/codes/2105'}}"
        ],
        [
         "46",
         "2104",
         "2104",
         "{'code_list': {'href': 'http://api.beta.ons.gov.uk/v1/code-lists/calendar-years'}, 'datasets': {'href': 'http://api.beta.ons.gov.uk/v1/code-lists/calendar-years/editions/one-off/codes/2104/datasets'}, 'self': {'id': '2104', 'href': 'http://api.beta.ons.gov.uk/v1/code-lists/calendar-years/editions/one-off/codes/2104'}}"
        ],
        [
         "47",
         "2103",
         "2103",
         "{'code_list': {'href': 'http://api.beta.ons.gov.uk/v1/code-lists/calendar-years'}, 'datasets': {'href': 'http://api.beta.ons.gov.uk/v1/code-lists/calendar-years/editions/one-off/codes/2103/datasets'}, 'self': {'id': '2103', 'href': 'http://api.beta.ons.gov.uk/v1/code-lists/calendar-years/editions/one-off/codes/2103'}}"
        ],
        [
         "48",
         "2102",
         "2102",
         "{'code_list': {'href': 'http://api.beta.ons.gov.uk/v1/code-lists/calendar-years'}, 'datasets': {'href': 'http://api.beta.ons.gov.uk/v1/code-lists/calendar-years/editions/one-off/codes/2102/datasets'}, 'self': {'id': '2102', 'href': 'http://api.beta.ons.gov.uk/v1/code-lists/calendar-years/editions/one-off/codes/2102'}}"
        ],
        [
         "49",
         "2101",
         "2101",
         "{'code_list': {'href': 'http://api.beta.ons.gov.uk/v1/code-lists/calendar-years'}, 'datasets': {'href': 'http://api.beta.ons.gov.uk/v1/code-lists/calendar-years/editions/one-off/codes/2101/datasets'}, 'self': {'id': '2101', 'href': 'http://api.beta.ons.gov.uk/v1/code-lists/calendar-years/editions/one-off/codes/2101'}}"
        ]
       ],
       "shape": {
        "columns": 3,
        "rows": 201
       }
      },
      "text/html": [
       "<div>\n",
       "<style scoped>\n",
       "    .dataframe tbody tr th:only-of-type {\n",
       "        vertical-align: middle;\n",
       "    }\n",
       "\n",
       "    .dataframe tbody tr th {\n",
       "        vertical-align: top;\n",
       "    }\n",
       "\n",
       "    .dataframe thead th {\n",
       "        text-align: right;\n",
       "    }\n",
       "</style>\n",
       "<table border=\"1\" class=\"dataframe\">\n",
       "  <thead>\n",
       "    <tr style=\"text-align: right;\">\n",
       "      <th></th>\n",
       "      <th>code</th>\n",
       "      <th>label</th>\n",
       "      <th>links</th>\n",
       "    </tr>\n",
       "  </thead>\n",
       "  <tbody>\n",
       "    <tr>\n",
       "      <th>0</th>\n",
       "      <td>2150</td>\n",
       "      <td>2150</td>\n",
       "      <td>{'code_list': {'href': 'http://api.beta.ons.go...</td>\n",
       "    </tr>\n",
       "    <tr>\n",
       "      <th>1</th>\n",
       "      <td>2149</td>\n",
       "      <td>2149</td>\n",
       "      <td>{'code_list': {'href': 'http://api.beta.ons.go...</td>\n",
       "    </tr>\n",
       "    <tr>\n",
       "      <th>2</th>\n",
       "      <td>2148</td>\n",
       "      <td>2148</td>\n",
       "      <td>{'code_list': {'href': 'http://api.beta.ons.go...</td>\n",
       "    </tr>\n",
       "    <tr>\n",
       "      <th>3</th>\n",
       "      <td>2147</td>\n",
       "      <td>2147</td>\n",
       "      <td>{'code_list': {'href': 'http://api.beta.ons.go...</td>\n",
       "    </tr>\n",
       "    <tr>\n",
       "      <th>4</th>\n",
       "      <td>2146</td>\n",
       "      <td>2146</td>\n",
       "      <td>{'code_list': {'href': 'http://api.beta.ons.go...</td>\n",
       "    </tr>\n",
       "    <tr>\n",
       "      <th>...</th>\n",
       "      <td>...</td>\n",
       "      <td>...</td>\n",
       "      <td>...</td>\n",
       "    </tr>\n",
       "    <tr>\n",
       "      <th>196</th>\n",
       "      <td>1954</td>\n",
       "      <td>1954</td>\n",
       "      <td>{'code_list': {'href': 'http://api.beta.ons.go...</td>\n",
       "    </tr>\n",
       "    <tr>\n",
       "      <th>197</th>\n",
       "      <td>1953</td>\n",
       "      <td>1953</td>\n",
       "      <td>{'code_list': {'href': 'http://api.beta.ons.go...</td>\n",
       "    </tr>\n",
       "    <tr>\n",
       "      <th>198</th>\n",
       "      <td>1952</td>\n",
       "      <td>1952</td>\n",
       "      <td>{'code_list': {'href': 'http://api.beta.ons.go...</td>\n",
       "    </tr>\n",
       "    <tr>\n",
       "      <th>199</th>\n",
       "      <td>1951</td>\n",
       "      <td>1951</td>\n",
       "      <td>{'code_list': {'href': 'http://api.beta.ons.go...</td>\n",
       "    </tr>\n",
       "    <tr>\n",
       "      <th>200</th>\n",
       "      <td>1950</td>\n",
       "      <td>1950</td>\n",
       "      <td>{'code_list': {'href': 'http://api.beta.ons.go...</td>\n",
       "    </tr>\n",
       "  </tbody>\n",
       "</table>\n",
       "<p>201 rows × 3 columns</p>\n",
       "</div>"
      ],
      "text/plain": [
       "     code label                                              links\n",
       "0    2150  2150  {'code_list': {'href': 'http://api.beta.ons.go...\n",
       "1    2149  2149  {'code_list': {'href': 'http://api.beta.ons.go...\n",
       "2    2148  2148  {'code_list': {'href': 'http://api.beta.ons.go...\n",
       "3    2147  2147  {'code_list': {'href': 'http://api.beta.ons.go...\n",
       "4    2146  2146  {'code_list': {'href': 'http://api.beta.ons.go...\n",
       "..    ...   ...                                                ...\n",
       "196  1954  1954  {'code_list': {'href': 'http://api.beta.ons.go...\n",
       "197  1953  1953  {'code_list': {'href': 'http://api.beta.ons.go...\n",
       "198  1952  1952  {'code_list': {'href': 'http://api.beta.ons.go...\n",
       "199  1951  1951  {'code_list': {'href': 'http://api.beta.ons.go...\n",
       "200  1950  1950  {'code_list': {'href': 'http://api.beta.ons.go...\n",
       "\n",
       "[201 rows x 3 columns]"
      ]
     },
     "execution_count": 23,
     "metadata": {},
     "output_type": "execute_result"
    }
   ],
   "source": [
    "params = {\"limit\": 201}\n",
    "\n",
    "codes_request = requests.get(year_codes, params = params)\n",
    "codes_json = codes_request.json()\n",
    "\n",
    "codes_df = pd.DataFrame(codes_json[\"items\"])\n",
    "codes_df"
   ]
  },
  {
   "cell_type": "markdown",
   "id": "043b9fd5",
   "metadata": {},
   "source": [
    "Halleleujah! This would make for a useful dimensional table in the model, so we should set these steps up as a function to get the relevant data needed for those.\n",
    "\n",
    "Now to go back to getting the obervations...\n",
    "\n",
    "## Downloading observations\n",
    "go back to `href_df`"
   ]
  },
  {
   "cell_type": "code",
   "execution_count": 24,
   "id": "21886193",
   "metadata": {},
   "outputs": [
    {
     "data": {
      "application/vnd.microsoft.datawrangler.viewer.v0+json": {
       "columns": [
        {
         "name": "index",
         "rawType": "int64",
         "type": "integer"
        },
        {
         "name": "alerts",
         "rawType": "object",
         "type": "unknown"
        },
        {
         "name": "collection_id",
         "rawType": "object",
         "type": "string"
        },
        {
         "name": "dataset_id",
         "rawType": "object",
         "type": "string"
        },
        {
         "name": "dimensions",
         "rawType": "object",
         "type": "unknown"
        },
        {
         "name": "downloads",
         "rawType": "object",
         "type": "unknown"
        },
        {
         "name": "edition",
         "rawType": "object",
         "type": "string"
        },
        {
         "name": "id",
         "rawType": "object",
         "type": "string"
        },
        {
         "name": "last_updated",
         "rawType": "object",
         "type": "string"
        },
        {
         "name": "latest_changes",
         "rawType": "object",
         "type": "unknown"
        },
        {
         "name": "links",
         "rawType": "object",
         "type": "unknown"
        },
        {
         "name": "release_date",
         "rawType": "object",
         "type": "string"
        },
        {
         "name": "state",
         "rawType": "object",
         "type": "string"
        },
        {
         "name": "usage_notes",
         "rawType": "object",
         "type": "unknown"
        },
        {
         "name": "version",
         "rawType": "int64",
         "type": "integer"
        },
        {
         "name": "type",
         "rawType": "object",
         "type": "string"
        }
       ],
       "ref": "3762c154-d784-458a-a1fb-7fd964273cb3",
       "rows": [
        [
         "0",
         "[]",
         "cmdashetables9and10-1e517c5ad8ea697cdbe71c94b5d47eaf3f1d16b86174dd85f0c2dc295a82fc64",
         "ashe-tables-9-and-10",
         "[{'label': 'Time', 'links': {'code_list': {}, 'options': {}, 'version': {}}, 'href': 'https://api.beta.ons.gov.uk/v1/code-lists/calendar-years', 'id': 'calendar-years', 'name': 'time'}, {'label': 'Geography', 'links': {'code_list': {}, 'options': {}, 'version': {}}, 'href': 'https://api.beta.ons.gov.uk/v1/code-lists/parliamentary-constituencies', 'id': 'parliamentary-constituencies', 'name': 'geography'}, {'label': 'Averages and percentiles', 'links': {'code_list': {}, 'options': {}, 'version': {}}, 'href': 'https://api.beta.ons.gov.uk/v1/code-lists/averages-and-percentiles', 'id': 'averages-and-percentiles', 'name': 'averagesandpercentiles'}, {'label': 'Sex', 'links': {'code_list': {}, 'options': {}, 'version': {}}, 'href': 'https://api.beta.ons.gov.uk/v1/code-lists/sex', 'id': 'sex', 'name': 'sex'}, {'label': 'Working pattern', 'links': {'code_list': {}, 'options': {}, 'version': {}}, 'href': 'https://api.beta.ons.gov.uk/v1/code-lists/working-pattern', 'id': 'working-pattern', 'name': 'workingpattern'}, {'label': 'Hours and earnings', 'links': {'code_list': {}, 'options': {}, 'version': {}}, 'href': 'https://api.beta.ons.gov.uk/v1/code-lists/hours-and-earnings', 'id': 'hours-and-earnings', 'name': 'hoursandearnings'}, {'label': 'Workplace or residence', 'links': {'code_list': {}, 'options': {}, 'version': {}}, 'href': 'https://api.beta.ons.gov.uk/v1/code-lists/workplace-or-residence', 'id': 'workplace-or-residence', 'name': 'workplaceorresidence'}]",
         "{'csv': {'href': 'https://download.ons.gov.uk/downloads/datasets/ashe-tables-9-and-10/editions/time-series/versions/7.csv', 'size': '2407539932'}, 'csvw': {'href': 'https://download.ons.gov.uk/downloads/datasets/ashe-tables-9-and-10/editions/time-series/versions/7.csv-metadata.json', 'size': '2911'}}",
         "time-series",
         "a4f2f661-312b-4d39-9d7e-f8ca46bd22af",
         "2024-01-25T09:40:05.702Z",
         "[]",
         "{'dataset': {'href': 'https://api.beta.ons.gov.uk/v1/datasets/ashe-tables-9-and-10', 'id': 'ashe-tables-9-and-10'}, 'dimensions': {}, 'edition': {'href': 'https://api.beta.ons.gov.uk/v1/datasets/ashe-tables-9-and-10/editions/time-series', 'id': 'time-series'}, 'self': {'href': 'https://api.beta.ons.gov.uk/v1/datasets/ashe-tables-9-and-10/editions/time-series/versions/7'}}",
         "2024-01-24T00:00:00.000Z",
         "published",
         "[]",
         "7",
         "v4"
        ],
        [
         "1",
         "[]",
         "cmdashetables9and10-d765eb175c07a1121de05a132e7e4f414562b106e97839af2822b3a4b9e9fb57",
         "ashe-tables-9-and-10",
         "[{'label': 'Time', 'links': {'code_list': {}, 'options': {}, 'version': {}}, 'href': 'https://api.beta.ons.gov.uk/v1/code-lists/calendar-years', 'id': 'calendar-years', 'name': 'time'}, {'label': 'Geography', 'links': {'code_list': {}, 'options': {}, 'version': {}}, 'href': 'https://api.beta.ons.gov.uk/v1/code-lists/parliamentary-constituencies', 'id': 'parliamentary-constituencies', 'name': 'geography'}, {'label': 'Averages and percentiles', 'links': {'code_list': {}, 'options': {}, 'version': {}}, 'href': 'https://api.beta.ons.gov.uk/v1/code-lists/averages-and-percentiles', 'id': 'averages-and-percentiles', 'name': 'averagesandpercentiles'}, {'label': 'Sex', 'links': {'code_list': {}, 'options': {}, 'version': {}}, 'href': 'https://api.beta.ons.gov.uk/v1/code-lists/sex', 'id': 'sex', 'name': 'sex'}, {'label': 'Working pattern', 'links': {'code_list': {}, 'options': {}, 'version': {}}, 'href': 'https://api.beta.ons.gov.uk/v1/code-lists/working-pattern', 'id': 'working-pattern', 'name': 'workingpattern'}, {'label': 'Hours and earnings', 'links': {'code_list': {}, 'options': {}, 'version': {}}, 'href': 'https://api.beta.ons.gov.uk/v1/code-lists/hours-and-earnings', 'id': 'hours-and-earnings', 'name': 'hoursandearnings'}, {'label': 'Workplace or residence', 'links': {'code_list': {}, 'options': {}, 'version': {}}, 'href': 'https://api.beta.ons.gov.uk/v1/code-lists/workplace-or-residence', 'id': 'workplace-or-residence', 'name': 'workplaceorresidence'}]",
         "{'csv': {'href': 'https://download.ons.gov.uk/downloads/datasets/ashe-tables-9-and-10/editions/time-series/versions/6.csv', 'size': '2166944605'}, 'csvw': {'href': 'https://download.ons.gov.uk/downloads/datasets/ashe-tables-9-and-10/editions/time-series/versions/6.csv-metadata.json', 'size': '2911'}}",
         "time-series",
         "dda31a80-a12d-40cd-a634-04cf827a652e",
         "2024-01-23T09:47:13.276Z",
         "[]",
         "{'dataset': {'href': 'https://api.beta.ons.gov.uk/v1/datasets/ashe-tables-9-and-10', 'id': 'ashe-tables-9-and-10'}, 'dimensions': {}, 'edition': {'href': 'https://api.beta.ons.gov.uk/v1/datasets/ashe-tables-9-and-10/editions/time-series', 'id': 'time-series'}, 'self': {'href': 'https://api.beta.ons.gov.uk/v1/datasets/ashe-tables-9-and-10/editions/time-series/versions/6'}}",
         "2024-01-22T00:00:00.000Z",
         "published",
         "[]",
         "6",
         "v4"
        ],
        [
         "2",
         "[]",
         "cmdashetables9and10-052b867dcc51c294df33e92a8abb8a78b042a8061ca4f4f438976ced9718298c",
         "ashe-tables-9-and-10",
         "[{'label': 'Time', 'links': {'code_list': {}, 'options': {}, 'version': {}}, 'href': 'https://api.beta.ons.gov.uk/v1/code-lists/calendar-years', 'id': 'calendar-years', 'name': 'time'}, {'label': 'Geography', 'links': {'code_list': {}, 'options': {}, 'version': {}}, 'href': 'https://api.beta.ons.gov.uk/v1/code-lists/parliamentary-constituencies', 'id': 'parliamentary-constituencies', 'name': 'geography'}, {'label': 'Averages and percentiles', 'links': {'code_list': {}, 'options': {}, 'version': {}}, 'href': 'https://api.beta.ons.gov.uk/v1/code-lists/averages-and-percentiles', 'id': 'averages-and-percentiles', 'name': 'averagesandpercentiles'}, {'label': 'Sex', 'links': {'code_list': {}, 'options': {}, 'version': {}}, 'href': 'https://api.beta.ons.gov.uk/v1/code-lists/sex', 'id': 'sex', 'name': 'sex'}, {'label': 'Working pattern', 'links': {'code_list': {}, 'options': {}, 'version': {}}, 'href': 'https://api.beta.ons.gov.uk/v1/code-lists/working-pattern', 'id': 'working-pattern', 'name': 'workingpattern'}, {'label': 'Hours and earnings', 'links': {'code_list': {}, 'options': {}, 'version': {}}, 'href': 'https://api.beta.ons.gov.uk/v1/code-lists/hours-and-earnings', 'id': 'hours-and-earnings', 'name': 'hoursandearnings'}, {'label': 'Workplace or residence', 'links': {'code_list': {}, 'options': {}, 'version': {}}, 'href': 'https://api.beta.ons.gov.uk/v1/code-lists/workplace-or-residence', 'id': 'workplace-or-residence', 'name': 'workplaceorresidence'}]",
         "{}",
         "time-series",
         "3a58a7e1-4e69-4686-8ee7-542a36195163",
         "2023-09-04T09:19:41.298Z",
         "[]",
         "{'dataset': {'href': 'https://api.beta.ons.gov.uk/v1/datasets/ashe-tables-9-and-10', 'id': 'ashe-tables-9-and-10'}, 'dimensions': {}, 'edition': {'href': 'https://api.beta.ons.gov.uk/v1/datasets/ashe-tables-9-and-10/editions/time-series', 'id': 'time-series'}, 'self': {'href': 'https://api.beta.ons.gov.uk/v1/datasets/ashe-tables-9-and-10/editions/time-series/versions/5'}}",
         "2023-09-04T00:00:00.000Z",
         "published",
         "[]",
         "5",
         "v4"
        ],
        [
         "3",
         "[]",
         "cmdashe9and10-f07ea6865e08883c405bd348a11124e851ffd61a62e8074457d96ba31f5d6d5c",
         "ashe-tables-9-and-10",
         "[{'description': 'The latest year has provisional data. All other years have revised data.', 'label': 'Year', 'links': {'code_list': {}, 'options': {}, 'version': {}}, 'href': 'https://api.beta.ons.gov.uk/v1/code-lists/calendar-years', 'id': 'calendar-years', 'name': 'time'}, {'label': 'Geography', 'links': {'code_list': {}, 'options': {}, 'version': {}}, 'href': 'https://api.beta.ons.gov.uk/v1/code-lists/parliamentary-constituencies', 'id': 'parliamentary-constituencies', 'name': 'geography'}, {'label': 'Statistics', 'links': {'code_list': {}, 'options': {}, 'version': {}}, 'href': 'https://api.beta.ons.gov.uk/v1/code-lists/averages-and-percentiles', 'id': 'averages-and-percentiles', 'name': 'averagesandpercentiles'}, {'label': 'Sex', 'links': {'code_list': {}, 'options': {}, 'version': {}}, 'href': 'https://api.beta.ons.gov.uk/v1/code-lists/sex', 'id': 'sex', 'name': 'sex'}, {'label': 'Working pattern', 'links': {'code_list': {}, 'options': {}, 'version': {}}, 'href': 'https://api.beta.ons.gov.uk/v1/code-lists/working-pattern', 'id': 'working-pattern', 'name': 'workingpattern'}, {'label': 'Hours and earnings', 'links': {'code_list': {}, 'options': {}, 'version': {}}, 'href': 'https://api.beta.ons.gov.uk/v1/code-lists/hours-and-earnings', 'id': 'hours-and-earnings', 'name': 'hoursandearnings'}, {'label': 'Workplace or residence', 'links': {'code_list': {}, 'options': {}, 'version': {}}, 'href': 'https://api.beta.ons.gov.uk/v1/code-lists/workplace-or-residence', 'id': 'workplace-or-residence', 'name': 'workplaceorresidence'}]",
         null,
         "time-series",
         "9070e83e-6bb5-4407-8866-78f869d4316b",
         "2022-11-16T10:10:01.433Z",
         "[]",
         "{'dataset': {'href': 'https://api.beta.ons.gov.uk/v1/datasets/ashe-tables-9-and-10', 'id': 'ashe-tables-9-and-10'}, 'dimensions': {}, 'edition': {'href': 'https://api.beta.ons.gov.uk/v1/datasets/ashe-tables-9-and-10/editions/time-series', 'id': 'time-series'}, 'self': {'href': 'https://api.beta.ons.gov.uk/v1/datasets/ashe-tables-9-and-10/editions/time-series/versions/4'}}",
         "2022-11-07T00:00:00.000Z",
         "published",
         "[]",
         "4",
         "v4"
        ],
        [
         "4",
         "[]",
         "cmdashetables9and10-bb6c38abc7dd2247e14913a16bd1764e2cb871b7836b19a5ebd8aaa04daf0681",
         "ashe-tables-9-and-10",
         "[{'description': 'The latest year has provisional data. All other years have revised data.', 'label': 'Year', 'links': {'code_list': {}, 'options': {}, 'version': {}}, 'href': 'https://api.beta.ons.gov.uk/v1/code-lists/calendar-years', 'id': 'calendar-years', 'name': 'time'}, {'label': 'Geography', 'links': {'code_list': {}, 'options': {}, 'version': {}}, 'href': 'https://api.beta.ons.gov.uk/v1/code-lists/parliamentary-constituencies', 'id': 'parliamentary-constituencies', 'name': 'geography'}, {'label': 'Statistics', 'links': {'code_list': {}, 'options': {}, 'version': {}}, 'href': 'https://api.beta.ons.gov.uk/v1/code-lists/averages-and-percentiles', 'id': 'averages-and-percentiles', 'name': 'averagesandpercentiles'}, {'label': 'Sex', 'links': {'code_list': {}, 'options': {}, 'version': {}}, 'href': 'https://api.beta.ons.gov.uk/v1/code-lists/sex', 'id': 'sex', 'name': 'sex'}, {'label': 'Working pattern', 'links': {'code_list': {}, 'options': {}, 'version': {}}, 'href': 'https://api.beta.ons.gov.uk/v1/code-lists/working-pattern', 'id': 'working-pattern', 'name': 'workingpattern'}, {'label': 'Hours and earnings', 'links': {'code_list': {}, 'options': {}, 'version': {}}, 'href': 'https://api.beta.ons.gov.uk/v1/code-lists/hours-and-earnings', 'id': 'hours-and-earnings', 'name': 'hoursandearnings'}, {'label': 'Workplace or residence', 'links': {'code_list': {}, 'options': {}, 'version': {}}, 'href': 'https://api.beta.ons.gov.uk/v1/code-lists/workplace-or-residence', 'id': 'workplace-or-residence', 'name': 'workplaceorresidence'}]",
         "{'csv': {'href': 'https://download.ons.gov.uk/downloads/datasets/ashe-tables-9-and-10/editions/time-series/versions/3.csv', 'size': '1926321034'}, 'csvw': {'href': 'https://download.ons.gov.uk/downloads/datasets/ashe-tables-9-and-10/editions/time-series/versions/3.csv-metadata.json', 'size': '4400'}}",
         "time-series",
         "6c86d122-1cc8-46c2-af15-c39aa2518baa",
         "2021-11-26T10:29:23.34Z",
         null,
         "{'dataset': {'href': 'https://api.beta.ons.gov.uk/v1/datasets/ashe-tables-9-and-10', 'id': 'ashe-tables-9-and-10'}, 'dimensions': {}, 'edition': {'href': 'https://api.beta.ons.gov.uk/v1/datasets/ashe-tables-9-and-10/editions/time-series', 'id': 'time-series'}, 'self': {'href': 'https://api.beta.ons.gov.uk/v1/datasets/ashe-tables-9-and-10/editions/time-series/versions/3'}}",
         "2021-11-01T00:00:00.000Z",
         "published",
         "[{'title': 'ASHE covers employee jobs in the United Kingdom. It does not cover the self-employed, nor does it cover employees not paid during the reference period.'}, {'title': 'Hourly and weekly estimates are provided for the pay period that included a specified date in April. They relate to employees on adult rates of pay, whose earnings for the survey pay period were not affected by absence. Estimates for 2020 include employees who have been furloughed under the Coronavirus Job Retention Scheme (CJRS). Annual estimates are provided for the tax year that ended on 5th April in the reference year. They relate to employees on adult rates of pay who have been in the same job for more than a year.'}, {'title': \"ASHE is based on a 1% sample of jobs taken from HM Revenue and Customs' Pay As You Earn (PAYE) records. Consequently, individuals with more than one job may appear in the sample more than once.\"}, {'title': 'Indicative counts for the number of jobs are provided alongside all estimates. These are intended to provide a broad idea of the numbers of employee jobs but they should not be considered accurate estimates. Caution should be applied when using these numbers.'}, {'title': 'Estimates with a CV greater than 20% are suppressed from publication on quality grounds, along with those for which there is a risk of disclosure of individual employees or employers.'}]",
         "3",
         "v4"
        ]
       ],
       "shape": {
        "columns": 15,
        "rows": 5
       }
      },
      "text/html": [
       "<div>\n",
       "<style scoped>\n",
       "    .dataframe tbody tr th:only-of-type {\n",
       "        vertical-align: middle;\n",
       "    }\n",
       "\n",
       "    .dataframe tbody tr th {\n",
       "        vertical-align: top;\n",
       "    }\n",
       "\n",
       "    .dataframe thead th {\n",
       "        text-align: right;\n",
       "    }\n",
       "</style>\n",
       "<table border=\"1\" class=\"dataframe\">\n",
       "  <thead>\n",
       "    <tr style=\"text-align: right;\">\n",
       "      <th></th>\n",
       "      <th>alerts</th>\n",
       "      <th>collection_id</th>\n",
       "      <th>dataset_id</th>\n",
       "      <th>dimensions</th>\n",
       "      <th>downloads</th>\n",
       "      <th>edition</th>\n",
       "      <th>id</th>\n",
       "      <th>last_updated</th>\n",
       "      <th>latest_changes</th>\n",
       "      <th>links</th>\n",
       "      <th>release_date</th>\n",
       "      <th>state</th>\n",
       "      <th>usage_notes</th>\n",
       "      <th>version</th>\n",
       "      <th>type</th>\n",
       "    </tr>\n",
       "  </thead>\n",
       "  <tbody>\n",
       "    <tr>\n",
       "      <th>0</th>\n",
       "      <td>[]</td>\n",
       "      <td>cmdashetables9and10-1e517c5ad8ea697cdbe71c94b5...</td>\n",
       "      <td>ashe-tables-9-and-10</td>\n",
       "      <td>[{'label': 'Time', 'links': {'code_list': {}, ...</td>\n",
       "      <td>{'csv': {'href': 'https://download.ons.gov.uk/...</td>\n",
       "      <td>time-series</td>\n",
       "      <td>a4f2f661-312b-4d39-9d7e-f8ca46bd22af</td>\n",
       "      <td>2024-01-25T09:40:05.702Z</td>\n",
       "      <td>[]</td>\n",
       "      <td>{'dataset': {'href': 'https://api.beta.ons.gov...</td>\n",
       "      <td>2024-01-24T00:00:00.000Z</td>\n",
       "      <td>published</td>\n",
       "      <td>[]</td>\n",
       "      <td>7</td>\n",
       "      <td>v4</td>\n",
       "    </tr>\n",
       "    <tr>\n",
       "      <th>1</th>\n",
       "      <td>[]</td>\n",
       "      <td>cmdashetables9and10-d765eb175c07a1121de05a132e...</td>\n",
       "      <td>ashe-tables-9-and-10</td>\n",
       "      <td>[{'label': 'Time', 'links': {'code_list': {}, ...</td>\n",
       "      <td>{'csv': {'href': 'https://download.ons.gov.uk/...</td>\n",
       "      <td>time-series</td>\n",
       "      <td>dda31a80-a12d-40cd-a634-04cf827a652e</td>\n",
       "      <td>2024-01-23T09:47:13.276Z</td>\n",
       "      <td>[]</td>\n",
       "      <td>{'dataset': {'href': 'https://api.beta.ons.gov...</td>\n",
       "      <td>2024-01-22T00:00:00.000Z</td>\n",
       "      <td>published</td>\n",
       "      <td>[]</td>\n",
       "      <td>6</td>\n",
       "      <td>v4</td>\n",
       "    </tr>\n",
       "    <tr>\n",
       "      <th>2</th>\n",
       "      <td>[]</td>\n",
       "      <td>cmdashetables9and10-052b867dcc51c294df33e92a8a...</td>\n",
       "      <td>ashe-tables-9-and-10</td>\n",
       "      <td>[{'label': 'Time', 'links': {'code_list': {}, ...</td>\n",
       "      <td>{}</td>\n",
       "      <td>time-series</td>\n",
       "      <td>3a58a7e1-4e69-4686-8ee7-542a36195163</td>\n",
       "      <td>2023-09-04T09:19:41.298Z</td>\n",
       "      <td>[]</td>\n",
       "      <td>{'dataset': {'href': 'https://api.beta.ons.gov...</td>\n",
       "      <td>2023-09-04T00:00:00.000Z</td>\n",
       "      <td>published</td>\n",
       "      <td>[]</td>\n",
       "      <td>5</td>\n",
       "      <td>v4</td>\n",
       "    </tr>\n",
       "    <tr>\n",
       "      <th>3</th>\n",
       "      <td>[]</td>\n",
       "      <td>cmdashe9and10-f07ea6865e08883c405bd348a11124e8...</td>\n",
       "      <td>ashe-tables-9-and-10</td>\n",
       "      <td>[{'description': 'The latest year has provisio...</td>\n",
       "      <td>NaN</td>\n",
       "      <td>time-series</td>\n",
       "      <td>9070e83e-6bb5-4407-8866-78f869d4316b</td>\n",
       "      <td>2022-11-16T10:10:01.433Z</td>\n",
       "      <td>[]</td>\n",
       "      <td>{'dataset': {'href': 'https://api.beta.ons.gov...</td>\n",
       "      <td>2022-11-07T00:00:00.000Z</td>\n",
       "      <td>published</td>\n",
       "      <td>[]</td>\n",
       "      <td>4</td>\n",
       "      <td>v4</td>\n",
       "    </tr>\n",
       "    <tr>\n",
       "      <th>4</th>\n",
       "      <td>[]</td>\n",
       "      <td>cmdashetables9and10-bb6c38abc7dd2247e14913a16b...</td>\n",
       "      <td>ashe-tables-9-and-10</td>\n",
       "      <td>[{'description': 'The latest year has provisio...</td>\n",
       "      <td>{'csv': {'href': 'https://download.ons.gov.uk/...</td>\n",
       "      <td>time-series</td>\n",
       "      <td>6c86d122-1cc8-46c2-af15-c39aa2518baa</td>\n",
       "      <td>2021-11-26T10:29:23.34Z</td>\n",
       "      <td>NaN</td>\n",
       "      <td>{'dataset': {'href': 'https://api.beta.ons.gov...</td>\n",
       "      <td>2021-11-01T00:00:00.000Z</td>\n",
       "      <td>published</td>\n",
       "      <td>[{'title': 'ASHE covers employee jobs in the U...</td>\n",
       "      <td>3</td>\n",
       "      <td>v4</td>\n",
       "    </tr>\n",
       "  </tbody>\n",
       "</table>\n",
       "</div>"
      ],
      "text/plain": [
       "  alerts                                      collection_id  \\\n",
       "0     []  cmdashetables9and10-1e517c5ad8ea697cdbe71c94b5...   \n",
       "1     []  cmdashetables9and10-d765eb175c07a1121de05a132e...   \n",
       "2     []  cmdashetables9and10-052b867dcc51c294df33e92a8a...   \n",
       "3     []  cmdashe9and10-f07ea6865e08883c405bd348a11124e8...   \n",
       "4     []  cmdashetables9and10-bb6c38abc7dd2247e14913a16b...   \n",
       "\n",
       "             dataset_id                                         dimensions  \\\n",
       "0  ashe-tables-9-and-10  [{'label': 'Time', 'links': {'code_list': {}, ...   \n",
       "1  ashe-tables-9-and-10  [{'label': 'Time', 'links': {'code_list': {}, ...   \n",
       "2  ashe-tables-9-and-10  [{'label': 'Time', 'links': {'code_list': {}, ...   \n",
       "3  ashe-tables-9-and-10  [{'description': 'The latest year has provisio...   \n",
       "4  ashe-tables-9-and-10  [{'description': 'The latest year has provisio...   \n",
       "\n",
       "                                           downloads      edition  \\\n",
       "0  {'csv': {'href': 'https://download.ons.gov.uk/...  time-series   \n",
       "1  {'csv': {'href': 'https://download.ons.gov.uk/...  time-series   \n",
       "2                                                 {}  time-series   \n",
       "3                                                NaN  time-series   \n",
       "4  {'csv': {'href': 'https://download.ons.gov.uk/...  time-series   \n",
       "\n",
       "                                     id              last_updated  \\\n",
       "0  a4f2f661-312b-4d39-9d7e-f8ca46bd22af  2024-01-25T09:40:05.702Z   \n",
       "1  dda31a80-a12d-40cd-a634-04cf827a652e  2024-01-23T09:47:13.276Z   \n",
       "2  3a58a7e1-4e69-4686-8ee7-542a36195163  2023-09-04T09:19:41.298Z   \n",
       "3  9070e83e-6bb5-4407-8866-78f869d4316b  2022-11-16T10:10:01.433Z   \n",
       "4  6c86d122-1cc8-46c2-af15-c39aa2518baa   2021-11-26T10:29:23.34Z   \n",
       "\n",
       "  latest_changes                                              links  \\\n",
       "0             []  {'dataset': {'href': 'https://api.beta.ons.gov...   \n",
       "1             []  {'dataset': {'href': 'https://api.beta.ons.gov...   \n",
       "2             []  {'dataset': {'href': 'https://api.beta.ons.gov...   \n",
       "3             []  {'dataset': {'href': 'https://api.beta.ons.gov...   \n",
       "4            NaN  {'dataset': {'href': 'https://api.beta.ons.gov...   \n",
       "\n",
       "               release_date      state  \\\n",
       "0  2024-01-24T00:00:00.000Z  published   \n",
       "1  2024-01-22T00:00:00.000Z  published   \n",
       "2  2023-09-04T00:00:00.000Z  published   \n",
       "3  2022-11-07T00:00:00.000Z  published   \n",
       "4  2021-11-01T00:00:00.000Z  published   \n",
       "\n",
       "                                         usage_notes  version type  \n",
       "0                                                 []        7   v4  \n",
       "1                                                 []        6   v4  \n",
       "2                                                 []        5   v4  \n",
       "3                                                 []        4   v4  \n",
       "4  [{'title': 'ASHE covers employee jobs in the U...        3   v4  "
      ]
     },
     "execution_count": 24,
     "metadata": {},
     "output_type": "execute_result"
    }
   ],
   "source": [
    "href_df.head()"
   ]
  },
  {
   "cell_type": "markdown",
   "id": "9ee0b0e6",
   "metadata": {},
   "source": [
    "we presumably want the `downloads`  "
   ]
  },
  {
   "cell_type": "code",
   "execution_count": 25,
   "id": "1e8ffa0e",
   "metadata": {},
   "outputs": [
    {
     "data": {
      "application/vnd.microsoft.datawrangler.viewer.v0+json": {
       "columns": [
        {
         "name": "index",
         "rawType": "int64",
         "type": "integer"
        },
        {
         "name": "alerts",
         "rawType": "object",
         "type": "unknown"
        },
        {
         "name": "collection_id",
         "rawType": "object",
         "type": "string"
        },
        {
         "name": "dataset_id",
         "rawType": "object",
         "type": "string"
        },
        {
         "name": "dimensions",
         "rawType": "object",
         "type": "unknown"
        },
        {
         "name": "edition",
         "rawType": "object",
         "type": "string"
        },
        {
         "name": "id",
         "rawType": "object",
         "type": "string"
        },
        {
         "name": "last_updated",
         "rawType": "object",
         "type": "string"
        },
        {
         "name": "latest_changes",
         "rawType": "object",
         "type": "unknown"
        },
        {
         "name": "links",
         "rawType": "object",
         "type": "unknown"
        },
        {
         "name": "release_date",
         "rawType": "object",
         "type": "string"
        },
        {
         "name": "state",
         "rawType": "object",
         "type": "string"
        },
        {
         "name": "usage_notes",
         "rawType": "object",
         "type": "unknown"
        },
        {
         "name": "version",
         "rawType": "int64",
         "type": "integer"
        },
        {
         "name": "type",
         "rawType": "object",
         "type": "unknown"
        },
        {
         "name": "csv",
         "rawType": "object",
         "type": "unknown"
        },
        {
         "name": "csvw",
         "rawType": "object",
         "type": "unknown"
        },
        {
         "name": "0",
         "rawType": "float64",
         "type": "float"
        }
       ],
       "ref": "6b900fd6-725e-45ee-aa22-10be71d827bb",
       "rows": [
        [
         "0",
         "[]",
         "cmdashetables9and10-1e517c5ad8ea697cdbe71c94b5d47eaf3f1d16b86174dd85f0c2dc295a82fc64",
         "ashe-tables-9-and-10",
         "[{'label': 'Time', 'links': {'code_list': {}, 'options': {}, 'version': {}}, 'href': 'https://api.beta.ons.gov.uk/v1/code-lists/calendar-years', 'id': 'calendar-years', 'name': 'time'}, {'label': 'Geography', 'links': {'code_list': {}, 'options': {}, 'version': {}}, 'href': 'https://api.beta.ons.gov.uk/v1/code-lists/parliamentary-constituencies', 'id': 'parliamentary-constituencies', 'name': 'geography'}, {'label': 'Averages and percentiles', 'links': {'code_list': {}, 'options': {}, 'version': {}}, 'href': 'https://api.beta.ons.gov.uk/v1/code-lists/averages-and-percentiles', 'id': 'averages-and-percentiles', 'name': 'averagesandpercentiles'}, {'label': 'Sex', 'links': {'code_list': {}, 'options': {}, 'version': {}}, 'href': 'https://api.beta.ons.gov.uk/v1/code-lists/sex', 'id': 'sex', 'name': 'sex'}, {'label': 'Working pattern', 'links': {'code_list': {}, 'options': {}, 'version': {}}, 'href': 'https://api.beta.ons.gov.uk/v1/code-lists/working-pattern', 'id': 'working-pattern', 'name': 'workingpattern'}, {'label': 'Hours and earnings', 'links': {'code_list': {}, 'options': {}, 'version': {}}, 'href': 'https://api.beta.ons.gov.uk/v1/code-lists/hours-and-earnings', 'id': 'hours-and-earnings', 'name': 'hoursandearnings'}, {'label': 'Workplace or residence', 'links': {'code_list': {}, 'options': {}, 'version': {}}, 'href': 'https://api.beta.ons.gov.uk/v1/code-lists/workplace-or-residence', 'id': 'workplace-or-residence', 'name': 'workplaceorresidence'}]",
         "time-series",
         "a4f2f661-312b-4d39-9d7e-f8ca46bd22af",
         "2024-01-25T09:40:05.702Z",
         "[]",
         "{'dataset': {'href': 'https://api.beta.ons.gov.uk/v1/datasets/ashe-tables-9-and-10', 'id': 'ashe-tables-9-and-10'}, 'dimensions': {}, 'edition': {'href': 'https://api.beta.ons.gov.uk/v1/datasets/ashe-tables-9-and-10/editions/time-series', 'id': 'time-series'}, 'self': {'href': 'https://api.beta.ons.gov.uk/v1/datasets/ashe-tables-9-and-10/editions/time-series/versions/7'}}",
         "2024-01-24T00:00:00.000Z",
         "published",
         "[]",
         "7",
         "v4",
         "{'href': 'https://download.ons.gov.uk/downloads/datasets/ashe-tables-9-and-10/editions/time-series/versions/7.csv', 'size': '2407539932'}",
         "{'href': 'https://download.ons.gov.uk/downloads/datasets/ashe-tables-9-and-10/editions/time-series/versions/7.csv-metadata.json', 'size': '2911'}",
         null
        ],
        [
         "1",
         "[]",
         "cmdashetables9and10-d765eb175c07a1121de05a132e7e4f414562b106e97839af2822b3a4b9e9fb57",
         "ashe-tables-9-and-10",
         "[{'label': 'Time', 'links': {'code_list': {}, 'options': {}, 'version': {}}, 'href': 'https://api.beta.ons.gov.uk/v1/code-lists/calendar-years', 'id': 'calendar-years', 'name': 'time'}, {'label': 'Geography', 'links': {'code_list': {}, 'options': {}, 'version': {}}, 'href': 'https://api.beta.ons.gov.uk/v1/code-lists/parliamentary-constituencies', 'id': 'parliamentary-constituencies', 'name': 'geography'}, {'label': 'Averages and percentiles', 'links': {'code_list': {}, 'options': {}, 'version': {}}, 'href': 'https://api.beta.ons.gov.uk/v1/code-lists/averages-and-percentiles', 'id': 'averages-and-percentiles', 'name': 'averagesandpercentiles'}, {'label': 'Sex', 'links': {'code_list': {}, 'options': {}, 'version': {}}, 'href': 'https://api.beta.ons.gov.uk/v1/code-lists/sex', 'id': 'sex', 'name': 'sex'}, {'label': 'Working pattern', 'links': {'code_list': {}, 'options': {}, 'version': {}}, 'href': 'https://api.beta.ons.gov.uk/v1/code-lists/working-pattern', 'id': 'working-pattern', 'name': 'workingpattern'}, {'label': 'Hours and earnings', 'links': {'code_list': {}, 'options': {}, 'version': {}}, 'href': 'https://api.beta.ons.gov.uk/v1/code-lists/hours-and-earnings', 'id': 'hours-and-earnings', 'name': 'hoursandearnings'}, {'label': 'Workplace or residence', 'links': {'code_list': {}, 'options': {}, 'version': {}}, 'href': 'https://api.beta.ons.gov.uk/v1/code-lists/workplace-or-residence', 'id': 'workplace-or-residence', 'name': 'workplaceorresidence'}]",
         "time-series",
         "dda31a80-a12d-40cd-a634-04cf827a652e",
         "2024-01-23T09:47:13.276Z",
         "[]",
         "{'dataset': {'href': 'https://api.beta.ons.gov.uk/v1/datasets/ashe-tables-9-and-10', 'id': 'ashe-tables-9-and-10'}, 'dimensions': {}, 'edition': {'href': 'https://api.beta.ons.gov.uk/v1/datasets/ashe-tables-9-and-10/editions/time-series', 'id': 'time-series'}, 'self': {'href': 'https://api.beta.ons.gov.uk/v1/datasets/ashe-tables-9-and-10/editions/time-series/versions/6'}}",
         "2024-01-22T00:00:00.000Z",
         "published",
         "[]",
         "6",
         "v4",
         "{'href': 'https://download.ons.gov.uk/downloads/datasets/ashe-tables-9-and-10/editions/time-series/versions/6.csv', 'size': '2166944605'}",
         "{'href': 'https://download.ons.gov.uk/downloads/datasets/ashe-tables-9-and-10/editions/time-series/versions/6.csv-metadata.json', 'size': '2911'}",
         null
        ],
        [
         "2",
         "[]",
         "cmdashetables9and10-052b867dcc51c294df33e92a8abb8a78b042a8061ca4f4f438976ced9718298c",
         "ashe-tables-9-and-10",
         "[{'label': 'Time', 'links': {'code_list': {}, 'options': {}, 'version': {}}, 'href': 'https://api.beta.ons.gov.uk/v1/code-lists/calendar-years', 'id': 'calendar-years', 'name': 'time'}, {'label': 'Geography', 'links': {'code_list': {}, 'options': {}, 'version': {}}, 'href': 'https://api.beta.ons.gov.uk/v1/code-lists/parliamentary-constituencies', 'id': 'parliamentary-constituencies', 'name': 'geography'}, {'label': 'Averages and percentiles', 'links': {'code_list': {}, 'options': {}, 'version': {}}, 'href': 'https://api.beta.ons.gov.uk/v1/code-lists/averages-and-percentiles', 'id': 'averages-and-percentiles', 'name': 'averagesandpercentiles'}, {'label': 'Sex', 'links': {'code_list': {}, 'options': {}, 'version': {}}, 'href': 'https://api.beta.ons.gov.uk/v1/code-lists/sex', 'id': 'sex', 'name': 'sex'}, {'label': 'Working pattern', 'links': {'code_list': {}, 'options': {}, 'version': {}}, 'href': 'https://api.beta.ons.gov.uk/v1/code-lists/working-pattern', 'id': 'working-pattern', 'name': 'workingpattern'}, {'label': 'Hours and earnings', 'links': {'code_list': {}, 'options': {}, 'version': {}}, 'href': 'https://api.beta.ons.gov.uk/v1/code-lists/hours-and-earnings', 'id': 'hours-and-earnings', 'name': 'hoursandearnings'}, {'label': 'Workplace or residence', 'links': {'code_list': {}, 'options': {}, 'version': {}}, 'href': 'https://api.beta.ons.gov.uk/v1/code-lists/workplace-or-residence', 'id': 'workplace-or-residence', 'name': 'workplaceorresidence'}]",
         "time-series",
         "3a58a7e1-4e69-4686-8ee7-542a36195163",
         "2023-09-04T09:19:41.298Z",
         "[]",
         "{'dataset': {'href': 'https://api.beta.ons.gov.uk/v1/datasets/ashe-tables-9-and-10', 'id': 'ashe-tables-9-and-10'}, 'dimensions': {}, 'edition': {'href': 'https://api.beta.ons.gov.uk/v1/datasets/ashe-tables-9-and-10/editions/time-series', 'id': 'time-series'}, 'self': {'href': 'https://api.beta.ons.gov.uk/v1/datasets/ashe-tables-9-and-10/editions/time-series/versions/5'}}",
         "2023-09-04T00:00:00.000Z",
         "published",
         "[]",
         "5",
         "v4",
         null,
         null,
         null
        ],
        [
         "3",
         "[]",
         "cmdashe9and10-f07ea6865e08883c405bd348a11124e851ffd61a62e8074457d96ba31f5d6d5c",
         "ashe-tables-9-and-10",
         "[{'description': 'The latest year has provisional data. All other years have revised data.', 'label': 'Year', 'links': {'code_list': {}, 'options': {}, 'version': {}}, 'href': 'https://api.beta.ons.gov.uk/v1/code-lists/calendar-years', 'id': 'calendar-years', 'name': 'time'}, {'label': 'Geography', 'links': {'code_list': {}, 'options': {}, 'version': {}}, 'href': 'https://api.beta.ons.gov.uk/v1/code-lists/parliamentary-constituencies', 'id': 'parliamentary-constituencies', 'name': 'geography'}, {'label': 'Statistics', 'links': {'code_list': {}, 'options': {}, 'version': {}}, 'href': 'https://api.beta.ons.gov.uk/v1/code-lists/averages-and-percentiles', 'id': 'averages-and-percentiles', 'name': 'averagesandpercentiles'}, {'label': 'Sex', 'links': {'code_list': {}, 'options': {}, 'version': {}}, 'href': 'https://api.beta.ons.gov.uk/v1/code-lists/sex', 'id': 'sex', 'name': 'sex'}, {'label': 'Working pattern', 'links': {'code_list': {}, 'options': {}, 'version': {}}, 'href': 'https://api.beta.ons.gov.uk/v1/code-lists/working-pattern', 'id': 'working-pattern', 'name': 'workingpattern'}, {'label': 'Hours and earnings', 'links': {'code_list': {}, 'options': {}, 'version': {}}, 'href': 'https://api.beta.ons.gov.uk/v1/code-lists/hours-and-earnings', 'id': 'hours-and-earnings', 'name': 'hoursandearnings'}, {'label': 'Workplace or residence', 'links': {'code_list': {}, 'options': {}, 'version': {}}, 'href': 'https://api.beta.ons.gov.uk/v1/code-lists/workplace-or-residence', 'id': 'workplace-or-residence', 'name': 'workplaceorresidence'}]",
         "time-series",
         "9070e83e-6bb5-4407-8866-78f869d4316b",
         "2022-11-16T10:10:01.433Z",
         "[]",
         "{'dataset': {'href': 'https://api.beta.ons.gov.uk/v1/datasets/ashe-tables-9-and-10', 'id': 'ashe-tables-9-and-10'}, 'dimensions': {}, 'edition': {'href': 'https://api.beta.ons.gov.uk/v1/datasets/ashe-tables-9-and-10/editions/time-series', 'id': 'time-series'}, 'self': {'href': 'https://api.beta.ons.gov.uk/v1/datasets/ashe-tables-9-and-10/editions/time-series/versions/4'}}",
         "2022-11-07T00:00:00.000Z",
         "published",
         "[]",
         "4",
         "v4",
         null,
         null,
         null
        ],
        [
         "4",
         "[]",
         "cmdashetables9and10-bb6c38abc7dd2247e14913a16bd1764e2cb871b7836b19a5ebd8aaa04daf0681",
         "ashe-tables-9-and-10",
         "[{'description': 'The latest year has provisional data. All other years have revised data.', 'label': 'Year', 'links': {'code_list': {}, 'options': {}, 'version': {}}, 'href': 'https://api.beta.ons.gov.uk/v1/code-lists/calendar-years', 'id': 'calendar-years', 'name': 'time'}, {'label': 'Geography', 'links': {'code_list': {}, 'options': {}, 'version': {}}, 'href': 'https://api.beta.ons.gov.uk/v1/code-lists/parliamentary-constituencies', 'id': 'parliamentary-constituencies', 'name': 'geography'}, {'label': 'Statistics', 'links': {'code_list': {}, 'options': {}, 'version': {}}, 'href': 'https://api.beta.ons.gov.uk/v1/code-lists/averages-and-percentiles', 'id': 'averages-and-percentiles', 'name': 'averagesandpercentiles'}, {'label': 'Sex', 'links': {'code_list': {}, 'options': {}, 'version': {}}, 'href': 'https://api.beta.ons.gov.uk/v1/code-lists/sex', 'id': 'sex', 'name': 'sex'}, {'label': 'Working pattern', 'links': {'code_list': {}, 'options': {}, 'version': {}}, 'href': 'https://api.beta.ons.gov.uk/v1/code-lists/working-pattern', 'id': 'working-pattern', 'name': 'workingpattern'}, {'label': 'Hours and earnings', 'links': {'code_list': {}, 'options': {}, 'version': {}}, 'href': 'https://api.beta.ons.gov.uk/v1/code-lists/hours-and-earnings', 'id': 'hours-and-earnings', 'name': 'hoursandearnings'}, {'label': 'Workplace or residence', 'links': {'code_list': {}, 'options': {}, 'version': {}}, 'href': 'https://api.beta.ons.gov.uk/v1/code-lists/workplace-or-residence', 'id': 'workplace-or-residence', 'name': 'workplaceorresidence'}]",
         "time-series",
         "6c86d122-1cc8-46c2-af15-c39aa2518baa",
         "2021-11-26T10:29:23.34Z",
         null,
         "{'dataset': {'href': 'https://api.beta.ons.gov.uk/v1/datasets/ashe-tables-9-and-10', 'id': 'ashe-tables-9-and-10'}, 'dimensions': {}, 'edition': {'href': 'https://api.beta.ons.gov.uk/v1/datasets/ashe-tables-9-and-10/editions/time-series', 'id': 'time-series'}, 'self': {'href': 'https://api.beta.ons.gov.uk/v1/datasets/ashe-tables-9-and-10/editions/time-series/versions/3'}}",
         "2021-11-01T00:00:00.000Z",
         "published",
         "[{'title': 'ASHE covers employee jobs in the United Kingdom. It does not cover the self-employed, nor does it cover employees not paid during the reference period.'}, {'title': 'Hourly and weekly estimates are provided for the pay period that included a specified date in April. They relate to employees on adult rates of pay, whose earnings for the survey pay period were not affected by absence. Estimates for 2020 include employees who have been furloughed under the Coronavirus Job Retention Scheme (CJRS). Annual estimates are provided for the tax year that ended on 5th April in the reference year. They relate to employees on adult rates of pay who have been in the same job for more than a year.'}, {'title': \"ASHE is based on a 1% sample of jobs taken from HM Revenue and Customs' Pay As You Earn (PAYE) records. Consequently, individuals with more than one job may appear in the sample more than once.\"}, {'title': 'Indicative counts for the number of jobs are provided alongside all estimates. These are intended to provide a broad idea of the numbers of employee jobs but they should not be considered accurate estimates. Caution should be applied when using these numbers.'}, {'title': 'Estimates with a CV greater than 20% are suppressed from publication on quality grounds, along with those for which there is a risk of disclosure of individual employees or employers.'}]",
         "3",
         "v4",
         "{'href': 'https://download.ons.gov.uk/downloads/datasets/ashe-tables-9-and-10/editions/time-series/versions/3.csv', 'size': '1926321034'}",
         "{'href': 'https://download.ons.gov.uk/downloads/datasets/ashe-tables-9-and-10/editions/time-series/versions/3.csv-metadata.json', 'size': '4400'}",
         null
        ],
        [
         "5",
         "[]",
         "cmdashetables9and10-599526a89390769db60eecfe4c33c4ea1aa1a4a258f50ea3cb7007fd948196e9",
         "ashe-tables-9-and-10",
         "[{'description': 'The latest year has provisional data. All other years have revised data.', 'label': 'Year', 'links': {'code_list': {}, 'options': {}, 'version': {}}, 'href': 'https://api.beta.ons.gov.uk/v1/code-lists/calendar-years', 'id': 'calendar-years', 'name': 'time'}, {'label': 'Geography', 'links': {'code_list': {}, 'options': {}, 'version': {}}, 'href': 'https://api.beta.ons.gov.uk/v1/code-lists/parliamentary-constituencies', 'id': 'parliamentary-constituencies', 'name': 'geography'}, {'label': 'Statistics', 'links': {'code_list': {}, 'options': {}, 'version': {}}, 'href': 'https://api.beta.ons.gov.uk/v1/code-lists/averages-and-percentiles', 'id': 'averages-and-percentiles', 'name': 'averagesandpercentiles'}, {'label': 'Sex', 'links': {'code_list': {}, 'options': {}, 'version': {}}, 'href': 'https://api.beta.ons.gov.uk/v1/code-lists/sex', 'id': 'sex', 'name': 'sex'}, {'label': 'Working pattern', 'links': {'code_list': {}, 'options': {}, 'version': {}}, 'href': 'https://api.beta.ons.gov.uk/v1/code-lists/working-pattern', 'id': 'working-pattern', 'name': 'workingpattern'}, {'label': 'Hours and earnings', 'links': {'code_list': {}, 'options': {}, 'version': {}}, 'href': 'https://api.beta.ons.gov.uk/v1/code-lists/hours-and-earnings', 'id': 'hours-and-earnings', 'name': 'hoursandearnings'}, {'label': 'Workplace or residence', 'links': {'code_list': {}, 'options': {}, 'version': {}}, 'href': 'https://api.beta.ons.gov.uk/v1/code-lists/workplace-or-residence', 'id': 'workplace-or-residence', 'name': 'workplaceorresidence'}]",
         "time-series",
         "63c7ce8a-c528-4e5f-87e3-ebf1dc6a1113",
         "2021-02-08T12:54:45.368Z",
         null,
         "{'dataset': {'href': 'https://api.beta.ons.gov.uk/v1/datasets/ashe-tables-9-and-10', 'id': 'ashe-tables-9-and-10'}, 'edition': {'href': 'https://api.beta.ons.gov.uk/v1/datasets/ashe-tables-9-and-10/editions/time-series', 'id': 'time-series'}, 'self': {'href': 'https://api.beta.ons.gov.uk/v1/datasets/ashe-tables-9-and-10/editions/time-series/versions/2'}}",
         "2020-11-03T00:00:00.000Z",
         "published",
         "[{'title': 'ASHE covers employee jobs in the United Kingdom. It does not cover the self-employed, nor does it cover employees not paid during the reference period.'}, {'title': 'Hourly and weekly estimates are provided for the pay period that included a specified date in April. They relate to employees on adult rates of pay, whose earnings for the survey pay period were not affected by absence. Estimates for 2020 include employees who have been furloughed under the Coronavirus Job Retention Scheme (CJRS). Annual estimates are provided for the tax year that ended on 5th April in the reference year. They relate to employees on adult rates of pay who have been in the same job for more than a year.'}, {'title': \"ASHE is based on a 1% sample of jobs taken from HM Revenue and Customs' Pay As You Earn (PAYE) records. Consequently, individuals with more than one job may appear in the sample more than once.\"}, {'title': 'Indicative counts for the number of jobs are provided alongside all estimates. These are intended to provide a broad idea of the numbers of employee jobs but they should not be considered accurate estimates. Caution should be applied when using these numbers.'}, {'title': 'Estimates with a CV greater than 20% are suppressed from publication on quality grounds, along with those for which there is a risk of disclosure of individual employees or employers.'}]",
         "2",
         null,
         "{'href': 'https://download.ons.gov.uk/downloads/datasets/ashe-tables-9-and-10/editions/time-series/versions/2.csv', 'size': '1685712925'}",
         "{'href': 'https://download.ons.gov.uk/downloads/datasets/ashe-tables-9-and-10/editions/time-series/versions/2.csv-metadata.json', 'size': '3864'}",
         null
        ],
        [
         "6",
         "[]",
         "cmdashe9and10-6d8286c3d9024ba355749613aa8c55de5e277087a5872603e637e0755e68f12e",
         "ashe-tables-9-and-10",
         "[{'description': 'The latest year has provisional data. All other years have revised data.', 'label': 'Time', 'links': {'code_list': {}, 'options': {}, 'version': {}}, 'href': 'https://api.beta.ons.gov.uk/v1/code-lists/calendar-years', 'id': 'calendar-years', 'name': 'time'}, {'label': 'Geography', 'links': {'code_list': {}, 'options': {}, 'version': {}}, 'href': 'https://api.beta.ons.gov.uk/v1/code-lists/parliamentary-constituencies', 'id': 'parliamentary-constituencies', 'name': 'geography'}, {'label': 'Statistics', 'links': {'code_list': {}, 'options': {}, 'version': {}}, 'href': 'https://api.beta.ons.gov.uk/v1/code-lists/averages-and-percentiles', 'id': 'averages-and-percentiles', 'name': 'averagesandpercentiles'}, {'label': 'Sex', 'links': {'code_list': {}, 'options': {}, 'version': {}}, 'href': 'https://api.beta.ons.gov.uk/v1/code-lists/sex', 'id': 'sex', 'name': 'sex'}, {'label': 'Working pattern', 'links': {'code_list': {}, 'options': {}, 'version': {}}, 'href': 'https://api.beta.ons.gov.uk/v1/code-lists/working-pattern', 'id': 'working-pattern', 'name': 'workingpattern'}, {'label': 'Hours and earnings', 'links': {'code_list': {}, 'options': {}, 'version': {}}, 'href': 'https://api.beta.ons.gov.uk/v1/code-lists/hours-and-earnings', 'id': 'hours-and-earnings', 'name': 'hoursandearnings'}, {'label': 'Workplace or residence', 'links': {'code_list': {}, 'options': {}, 'version': {}}, 'href': 'https://api.beta.ons.gov.uk/v1/code-lists/workplace-or-residence', 'id': 'workplace-or-residence', 'name': 'workplaceorresidence'}]",
         "time-series",
         "aa66ebc8-eb48-450b-b407-25469bfc3723",
         "2020-11-04T09:41:29.738Z",
         null,
         "{'dataset': {'href': 'https://api.beta.ons.gov.uk/v1/datasets/ashe-tables-9-and-10', 'id': 'ashe-tables-9-and-10'}, 'edition': {'href': 'https://api.beta.ons.gov.uk/v1/datasets/ashe-tables-9-and-10/editions/time-series', 'id': 'time-series'}, 'self': {'href': 'https://api.beta.ons.gov.uk/v1/datasets/ashe-tables-9-and-10/editions/time-series/versions/1'}}",
         "2019-10-29T00:00:00.000Z",
         "published",
         "[]",
         "1",
         null,
         null,
         null,
         null
        ]
       ],
       "shape": {
        "columns": 17,
        "rows": 7
       }
      },
      "text/html": [
       "<div>\n",
       "<style scoped>\n",
       "    .dataframe tbody tr th:only-of-type {\n",
       "        vertical-align: middle;\n",
       "    }\n",
       "\n",
       "    .dataframe tbody tr th {\n",
       "        vertical-align: top;\n",
       "    }\n",
       "\n",
       "    .dataframe thead th {\n",
       "        text-align: right;\n",
       "    }\n",
       "</style>\n",
       "<table border=\"1\" class=\"dataframe\">\n",
       "  <thead>\n",
       "    <tr style=\"text-align: right;\">\n",
       "      <th></th>\n",
       "      <th>alerts</th>\n",
       "      <th>collection_id</th>\n",
       "      <th>dataset_id</th>\n",
       "      <th>dimensions</th>\n",
       "      <th>edition</th>\n",
       "      <th>id</th>\n",
       "      <th>last_updated</th>\n",
       "      <th>latest_changes</th>\n",
       "      <th>links</th>\n",
       "      <th>release_date</th>\n",
       "      <th>state</th>\n",
       "      <th>usage_notes</th>\n",
       "      <th>version</th>\n",
       "      <th>type</th>\n",
       "      <th>csv</th>\n",
       "      <th>csvw</th>\n",
       "      <th>0</th>\n",
       "    </tr>\n",
       "  </thead>\n",
       "  <tbody>\n",
       "    <tr>\n",
       "      <th>0</th>\n",
       "      <td>[]</td>\n",
       "      <td>cmdashetables9and10-1e517c5ad8ea697cdbe71c94b5...</td>\n",
       "      <td>ashe-tables-9-and-10</td>\n",
       "      <td>[{'label': 'Time', 'links': {'code_list': {}, ...</td>\n",
       "      <td>time-series</td>\n",
       "      <td>a4f2f661-312b-4d39-9d7e-f8ca46bd22af</td>\n",
       "      <td>2024-01-25T09:40:05.702Z</td>\n",
       "      <td>[]</td>\n",
       "      <td>{'dataset': {'href': 'https://api.beta.ons.gov...</td>\n",
       "      <td>2024-01-24T00:00:00.000Z</td>\n",
       "      <td>published</td>\n",
       "      <td>[]</td>\n",
       "      <td>7</td>\n",
       "      <td>v4</td>\n",
       "      <td>{'href': 'https://download.ons.gov.uk/download...</td>\n",
       "      <td>{'href': 'https://download.ons.gov.uk/download...</td>\n",
       "      <td>NaN</td>\n",
       "    </tr>\n",
       "    <tr>\n",
       "      <th>1</th>\n",
       "      <td>[]</td>\n",
       "      <td>cmdashetables9and10-d765eb175c07a1121de05a132e...</td>\n",
       "      <td>ashe-tables-9-and-10</td>\n",
       "      <td>[{'label': 'Time', 'links': {'code_list': {}, ...</td>\n",
       "      <td>time-series</td>\n",
       "      <td>dda31a80-a12d-40cd-a634-04cf827a652e</td>\n",
       "      <td>2024-01-23T09:47:13.276Z</td>\n",
       "      <td>[]</td>\n",
       "      <td>{'dataset': {'href': 'https://api.beta.ons.gov...</td>\n",
       "      <td>2024-01-22T00:00:00.000Z</td>\n",
       "      <td>published</td>\n",
       "      <td>[]</td>\n",
       "      <td>6</td>\n",
       "      <td>v4</td>\n",
       "      <td>{'href': 'https://download.ons.gov.uk/download...</td>\n",
       "      <td>{'href': 'https://download.ons.gov.uk/download...</td>\n",
       "      <td>NaN</td>\n",
       "    </tr>\n",
       "    <tr>\n",
       "      <th>2</th>\n",
       "      <td>[]</td>\n",
       "      <td>cmdashetables9and10-052b867dcc51c294df33e92a8a...</td>\n",
       "      <td>ashe-tables-9-and-10</td>\n",
       "      <td>[{'label': 'Time', 'links': {'code_list': {}, ...</td>\n",
       "      <td>time-series</td>\n",
       "      <td>3a58a7e1-4e69-4686-8ee7-542a36195163</td>\n",
       "      <td>2023-09-04T09:19:41.298Z</td>\n",
       "      <td>[]</td>\n",
       "      <td>{'dataset': {'href': 'https://api.beta.ons.gov...</td>\n",
       "      <td>2023-09-04T00:00:00.000Z</td>\n",
       "      <td>published</td>\n",
       "      <td>[]</td>\n",
       "      <td>5</td>\n",
       "      <td>v4</td>\n",
       "      <td>NaN</td>\n",
       "      <td>NaN</td>\n",
       "      <td>NaN</td>\n",
       "    </tr>\n",
       "    <tr>\n",
       "      <th>3</th>\n",
       "      <td>[]</td>\n",
       "      <td>cmdashe9and10-f07ea6865e08883c405bd348a11124e8...</td>\n",
       "      <td>ashe-tables-9-and-10</td>\n",
       "      <td>[{'description': 'The latest year has provisio...</td>\n",
       "      <td>time-series</td>\n",
       "      <td>9070e83e-6bb5-4407-8866-78f869d4316b</td>\n",
       "      <td>2022-11-16T10:10:01.433Z</td>\n",
       "      <td>[]</td>\n",
       "      <td>{'dataset': {'href': 'https://api.beta.ons.gov...</td>\n",
       "      <td>2022-11-07T00:00:00.000Z</td>\n",
       "      <td>published</td>\n",
       "      <td>[]</td>\n",
       "      <td>4</td>\n",
       "      <td>v4</td>\n",
       "      <td>NaN</td>\n",
       "      <td>NaN</td>\n",
       "      <td>NaN</td>\n",
       "    </tr>\n",
       "    <tr>\n",
       "      <th>4</th>\n",
       "      <td>[]</td>\n",
       "      <td>cmdashetables9and10-bb6c38abc7dd2247e14913a16b...</td>\n",
       "      <td>ashe-tables-9-and-10</td>\n",
       "      <td>[{'description': 'The latest year has provisio...</td>\n",
       "      <td>time-series</td>\n",
       "      <td>6c86d122-1cc8-46c2-af15-c39aa2518baa</td>\n",
       "      <td>2021-11-26T10:29:23.34Z</td>\n",
       "      <td>NaN</td>\n",
       "      <td>{'dataset': {'href': 'https://api.beta.ons.gov...</td>\n",
       "      <td>2021-11-01T00:00:00.000Z</td>\n",
       "      <td>published</td>\n",
       "      <td>[{'title': 'ASHE covers employee jobs in the U...</td>\n",
       "      <td>3</td>\n",
       "      <td>v4</td>\n",
       "      <td>{'href': 'https://download.ons.gov.uk/download...</td>\n",
       "      <td>{'href': 'https://download.ons.gov.uk/download...</td>\n",
       "      <td>NaN</td>\n",
       "    </tr>\n",
       "    <tr>\n",
       "      <th>5</th>\n",
       "      <td>[]</td>\n",
       "      <td>cmdashetables9and10-599526a89390769db60eecfe4c...</td>\n",
       "      <td>ashe-tables-9-and-10</td>\n",
       "      <td>[{'description': 'The latest year has provisio...</td>\n",
       "      <td>time-series</td>\n",
       "      <td>63c7ce8a-c528-4e5f-87e3-ebf1dc6a1113</td>\n",
       "      <td>2021-02-08T12:54:45.368Z</td>\n",
       "      <td>NaN</td>\n",
       "      <td>{'dataset': {'href': 'https://api.beta.ons.gov...</td>\n",
       "      <td>2020-11-03T00:00:00.000Z</td>\n",
       "      <td>published</td>\n",
       "      <td>[{'title': 'ASHE covers employee jobs in the U...</td>\n",
       "      <td>2</td>\n",
       "      <td>NaN</td>\n",
       "      <td>{'href': 'https://download.ons.gov.uk/download...</td>\n",
       "      <td>{'href': 'https://download.ons.gov.uk/download...</td>\n",
       "      <td>NaN</td>\n",
       "    </tr>\n",
       "    <tr>\n",
       "      <th>6</th>\n",
       "      <td>[]</td>\n",
       "      <td>cmdashe9and10-6d8286c3d9024ba355749613aa8c55de...</td>\n",
       "      <td>ashe-tables-9-and-10</td>\n",
       "      <td>[{'description': 'The latest year has provisio...</td>\n",
       "      <td>time-series</td>\n",
       "      <td>aa66ebc8-eb48-450b-b407-25469bfc3723</td>\n",
       "      <td>2020-11-04T09:41:29.738Z</td>\n",
       "      <td>NaN</td>\n",
       "      <td>{'dataset': {'href': 'https://api.beta.ons.gov...</td>\n",
       "      <td>2019-10-29T00:00:00.000Z</td>\n",
       "      <td>published</td>\n",
       "      <td>[]</td>\n",
       "      <td>1</td>\n",
       "      <td>NaN</td>\n",
       "      <td>NaN</td>\n",
       "      <td>NaN</td>\n",
       "      <td>NaN</td>\n",
       "    </tr>\n",
       "  </tbody>\n",
       "</table>\n",
       "</div>"
      ],
      "text/plain": [
       "  alerts                                      collection_id  \\\n",
       "0     []  cmdashetables9and10-1e517c5ad8ea697cdbe71c94b5...   \n",
       "1     []  cmdashetables9and10-d765eb175c07a1121de05a132e...   \n",
       "2     []  cmdashetables9and10-052b867dcc51c294df33e92a8a...   \n",
       "3     []  cmdashe9and10-f07ea6865e08883c405bd348a11124e8...   \n",
       "4     []  cmdashetables9and10-bb6c38abc7dd2247e14913a16b...   \n",
       "5     []  cmdashetables9and10-599526a89390769db60eecfe4c...   \n",
       "6     []  cmdashe9and10-6d8286c3d9024ba355749613aa8c55de...   \n",
       "\n",
       "             dataset_id                                         dimensions  \\\n",
       "0  ashe-tables-9-and-10  [{'label': 'Time', 'links': {'code_list': {}, ...   \n",
       "1  ashe-tables-9-and-10  [{'label': 'Time', 'links': {'code_list': {}, ...   \n",
       "2  ashe-tables-9-and-10  [{'label': 'Time', 'links': {'code_list': {}, ...   \n",
       "3  ashe-tables-9-and-10  [{'description': 'The latest year has provisio...   \n",
       "4  ashe-tables-9-and-10  [{'description': 'The latest year has provisio...   \n",
       "5  ashe-tables-9-and-10  [{'description': 'The latest year has provisio...   \n",
       "6  ashe-tables-9-and-10  [{'description': 'The latest year has provisio...   \n",
       "\n",
       "       edition                                    id  \\\n",
       "0  time-series  a4f2f661-312b-4d39-9d7e-f8ca46bd22af   \n",
       "1  time-series  dda31a80-a12d-40cd-a634-04cf827a652e   \n",
       "2  time-series  3a58a7e1-4e69-4686-8ee7-542a36195163   \n",
       "3  time-series  9070e83e-6bb5-4407-8866-78f869d4316b   \n",
       "4  time-series  6c86d122-1cc8-46c2-af15-c39aa2518baa   \n",
       "5  time-series  63c7ce8a-c528-4e5f-87e3-ebf1dc6a1113   \n",
       "6  time-series  aa66ebc8-eb48-450b-b407-25469bfc3723   \n",
       "\n",
       "               last_updated latest_changes  \\\n",
       "0  2024-01-25T09:40:05.702Z             []   \n",
       "1  2024-01-23T09:47:13.276Z             []   \n",
       "2  2023-09-04T09:19:41.298Z             []   \n",
       "3  2022-11-16T10:10:01.433Z             []   \n",
       "4   2021-11-26T10:29:23.34Z            NaN   \n",
       "5  2021-02-08T12:54:45.368Z            NaN   \n",
       "6  2020-11-04T09:41:29.738Z            NaN   \n",
       "\n",
       "                                               links  \\\n",
       "0  {'dataset': {'href': 'https://api.beta.ons.gov...   \n",
       "1  {'dataset': {'href': 'https://api.beta.ons.gov...   \n",
       "2  {'dataset': {'href': 'https://api.beta.ons.gov...   \n",
       "3  {'dataset': {'href': 'https://api.beta.ons.gov...   \n",
       "4  {'dataset': {'href': 'https://api.beta.ons.gov...   \n",
       "5  {'dataset': {'href': 'https://api.beta.ons.gov...   \n",
       "6  {'dataset': {'href': 'https://api.beta.ons.gov...   \n",
       "\n",
       "               release_date      state  \\\n",
       "0  2024-01-24T00:00:00.000Z  published   \n",
       "1  2024-01-22T00:00:00.000Z  published   \n",
       "2  2023-09-04T00:00:00.000Z  published   \n",
       "3  2022-11-07T00:00:00.000Z  published   \n",
       "4  2021-11-01T00:00:00.000Z  published   \n",
       "5  2020-11-03T00:00:00.000Z  published   \n",
       "6  2019-10-29T00:00:00.000Z  published   \n",
       "\n",
       "                                         usage_notes  version type  \\\n",
       "0                                                 []        7   v4   \n",
       "1                                                 []        6   v4   \n",
       "2                                                 []        5   v4   \n",
       "3                                                 []        4   v4   \n",
       "4  [{'title': 'ASHE covers employee jobs in the U...        3   v4   \n",
       "5  [{'title': 'ASHE covers employee jobs in the U...        2  NaN   \n",
       "6                                                 []        1  NaN   \n",
       "\n",
       "                                                 csv  \\\n",
       "0  {'href': 'https://download.ons.gov.uk/download...   \n",
       "1  {'href': 'https://download.ons.gov.uk/download...   \n",
       "2                                                NaN   \n",
       "3                                                NaN   \n",
       "4  {'href': 'https://download.ons.gov.uk/download...   \n",
       "5  {'href': 'https://download.ons.gov.uk/download...   \n",
       "6                                                NaN   \n",
       "\n",
       "                                                csvw   0  \n",
       "0  {'href': 'https://download.ons.gov.uk/download... NaN  \n",
       "1  {'href': 'https://download.ons.gov.uk/download... NaN  \n",
       "2                                                NaN NaN  \n",
       "3                                                NaN NaN  \n",
       "4  {'href': 'https://download.ons.gov.uk/download... NaN  \n",
       "5  {'href': 'https://download.ons.gov.uk/download... NaN  \n",
       "6                                                NaN NaN  "
      ]
     },
     "execution_count": 25,
     "metadata": {},
     "output_type": "execute_result"
    }
   ],
   "source": [
    "downloads = href_df[\"downloads\"].apply(pd.Series)\n",
    "\n",
    "href_df = pd.concat([href_df.drop(columns = \"downloads\"), downloads], axis = 1)\n",
    "href_df"
   ]
  },
  {
   "cell_type": "markdown",
   "id": "fca4e3d7",
   "metadata": {},
   "source": [
    "...and we'll take the csv.\n",
    "\n",
    "From trying, you can't directly read the csv to pandas, so we'd need to download first.\n",
    "This takes a while so we'll want to invest in using `tqdm` in this project...."
   ]
  },
  {
   "cell_type": "code",
   "execution_count": 83,
   "id": "151cd858",
   "metadata": {},
   "outputs": [
    {
     "ename": "KeyboardInterrupt",
     "evalue": "",
     "output_type": "error",
     "traceback": [
      "\u001b[31m---------------------------------------------------------------------------\u001b[39m",
      "\u001b[31mKeyboardInterrupt\u001b[39m                         Traceback (most recent call last)",
      "\u001b[36mCell\u001b[39m\u001b[36m \u001b[39m\u001b[32mIn[83]\u001b[39m\u001b[32m, line 4\u001b[39m\n\u001b[32m      1\u001b[39m csv_href = href_df[\u001b[33m\"\u001b[39m\u001b[33mcsv\u001b[39m\u001b[33m\"\u001b[39m][\u001b[32m0\u001b[39m][\u001b[33m\"\u001b[39m\u001b[33mhref\u001b[39m\u001b[33m\"\u001b[39m]\n\u001b[32m      2\u001b[39m save_path = \u001b[33m\"\u001b[39m\u001b[33mtest-downloads/observations-test.csv\u001b[39m\u001b[33m\"\u001b[39m\n\u001b[32m----> \u001b[39m\u001b[32m4\u001b[39m csv_response = \u001b[43mrequests\u001b[49m\u001b[43m.\u001b[49m\u001b[43mget\u001b[49m\u001b[43m(\u001b[49m\u001b[43mcsv_href\u001b[49m\u001b[43m)\u001b[49m\n",
      "\u001b[36mFile \u001b[39m\u001b[32mc:\\Users\\sj645\\git-repos\\ashe\\.venv\\Lib\\site-packages\\requests\\api.py:73\u001b[39m, in \u001b[36mget\u001b[39m\u001b[34m(url, params, **kwargs)\u001b[39m\n\u001b[32m     62\u001b[39m \u001b[38;5;28;01mdef\u001b[39;00m\u001b[38;5;250m \u001b[39m\u001b[34mget\u001b[39m(url, params=\u001b[38;5;28;01mNone\u001b[39;00m, **kwargs):\n\u001b[32m     63\u001b[39m \u001b[38;5;250m    \u001b[39m\u001b[33mr\u001b[39m\u001b[33;03m\"\"\"Sends a GET request.\u001b[39;00m\n\u001b[32m     64\u001b[39m \n\u001b[32m     65\u001b[39m \u001b[33;03m    :param url: URL for the new :class:`Request` object.\u001b[39;00m\n\u001b[32m   (...)\u001b[39m\u001b[32m     70\u001b[39m \u001b[33;03m    :rtype: requests.Response\u001b[39;00m\n\u001b[32m     71\u001b[39m \u001b[33;03m    \"\"\"\u001b[39;00m\n\u001b[32m---> \u001b[39m\u001b[32m73\u001b[39m     \u001b[38;5;28;01mreturn\u001b[39;00m \u001b[43mrequest\u001b[49m\u001b[43m(\u001b[49m\u001b[33;43m\"\u001b[39;49m\u001b[33;43mget\u001b[39;49m\u001b[33;43m\"\u001b[39;49m\u001b[43m,\u001b[49m\u001b[43m \u001b[49m\u001b[43murl\u001b[49m\u001b[43m,\u001b[49m\u001b[43m \u001b[49m\u001b[43mparams\u001b[49m\u001b[43m=\u001b[49m\u001b[43mparams\u001b[49m\u001b[43m,\u001b[49m\u001b[43m \u001b[49m\u001b[43m*\u001b[49m\u001b[43m*\u001b[49m\u001b[43mkwargs\u001b[49m\u001b[43m)\u001b[49m\n",
      "\u001b[36mFile \u001b[39m\u001b[32mc:\\Users\\sj645\\git-repos\\ashe\\.venv\\Lib\\site-packages\\requests\\api.py:59\u001b[39m, in \u001b[36mrequest\u001b[39m\u001b[34m(method, url, **kwargs)\u001b[39m\n\u001b[32m     55\u001b[39m \u001b[38;5;66;03m# By using the 'with' statement we are sure the session is closed, thus we\u001b[39;00m\n\u001b[32m     56\u001b[39m \u001b[38;5;66;03m# avoid leaving sockets open which can trigger a ResourceWarning in some\u001b[39;00m\n\u001b[32m     57\u001b[39m \u001b[38;5;66;03m# cases, and look like a memory leak in others.\u001b[39;00m\n\u001b[32m     58\u001b[39m \u001b[38;5;28;01mwith\u001b[39;00m sessions.Session() \u001b[38;5;28;01mas\u001b[39;00m session:\n\u001b[32m---> \u001b[39m\u001b[32m59\u001b[39m     \u001b[38;5;28;01mreturn\u001b[39;00m \u001b[43msession\u001b[49m\u001b[43m.\u001b[49m\u001b[43mrequest\u001b[49m\u001b[43m(\u001b[49m\u001b[43mmethod\u001b[49m\u001b[43m=\u001b[49m\u001b[43mmethod\u001b[49m\u001b[43m,\u001b[49m\u001b[43m \u001b[49m\u001b[43murl\u001b[49m\u001b[43m=\u001b[49m\u001b[43murl\u001b[49m\u001b[43m,\u001b[49m\u001b[43m \u001b[49m\u001b[43m*\u001b[49m\u001b[43m*\u001b[49m\u001b[43mkwargs\u001b[49m\u001b[43m)\u001b[49m\n",
      "\u001b[36mFile \u001b[39m\u001b[32mc:\\Users\\sj645\\git-repos\\ashe\\.venv\\Lib\\site-packages\\requests\\sessions.py:589\u001b[39m, in \u001b[36mSession.request\u001b[39m\u001b[34m(self, method, url, params, data, headers, cookies, files, auth, timeout, allow_redirects, proxies, hooks, stream, verify, cert, json)\u001b[39m\n\u001b[32m    584\u001b[39m send_kwargs = {\n\u001b[32m    585\u001b[39m     \u001b[33m\"\u001b[39m\u001b[33mtimeout\u001b[39m\u001b[33m\"\u001b[39m: timeout,\n\u001b[32m    586\u001b[39m     \u001b[33m\"\u001b[39m\u001b[33mallow_redirects\u001b[39m\u001b[33m\"\u001b[39m: allow_redirects,\n\u001b[32m    587\u001b[39m }\n\u001b[32m    588\u001b[39m send_kwargs.update(settings)\n\u001b[32m--> \u001b[39m\u001b[32m589\u001b[39m resp = \u001b[38;5;28;43mself\u001b[39;49m\u001b[43m.\u001b[49m\u001b[43msend\u001b[49m\u001b[43m(\u001b[49m\u001b[43mprep\u001b[49m\u001b[43m,\u001b[49m\u001b[43m \u001b[49m\u001b[43m*\u001b[49m\u001b[43m*\u001b[49m\u001b[43msend_kwargs\u001b[49m\u001b[43m)\u001b[49m\n\u001b[32m    591\u001b[39m \u001b[38;5;28;01mreturn\u001b[39;00m resp\n",
      "\u001b[36mFile \u001b[39m\u001b[32mc:\\Users\\sj645\\git-repos\\ashe\\.venv\\Lib\\site-packages\\requests\\sessions.py:724\u001b[39m, in \u001b[36mSession.send\u001b[39m\u001b[34m(self, request, **kwargs)\u001b[39m\n\u001b[32m    721\u001b[39m \u001b[38;5;28;01mif\u001b[39;00m allow_redirects:\n\u001b[32m    722\u001b[39m     \u001b[38;5;66;03m# Redirect resolving generator.\u001b[39;00m\n\u001b[32m    723\u001b[39m     gen = \u001b[38;5;28mself\u001b[39m.resolve_redirects(r, request, **kwargs)\n\u001b[32m--> \u001b[39m\u001b[32m724\u001b[39m     history = \u001b[43m[\u001b[49m\u001b[43mresp\u001b[49m\u001b[43m \u001b[49m\u001b[38;5;28;43;01mfor\u001b[39;49;00m\u001b[43m \u001b[49m\u001b[43mresp\u001b[49m\u001b[43m \u001b[49m\u001b[38;5;129;43;01min\u001b[39;49;00m\u001b[43m \u001b[49m\u001b[43mgen\u001b[49m\u001b[43m]\u001b[49m\n\u001b[32m    725\u001b[39m \u001b[38;5;28;01melse\u001b[39;00m:\n\u001b[32m    726\u001b[39m     history = []\n",
      "\u001b[36mFile \u001b[39m\u001b[32mc:\\Users\\sj645\\git-repos\\ashe\\.venv\\Lib\\site-packages\\requests\\sessions.py:265\u001b[39m, in \u001b[36mSessionRedirectMixin.resolve_redirects\u001b[39m\u001b[34m(self, resp, req, stream, timeout, verify, cert, proxies, yield_requests, **adapter_kwargs)\u001b[39m\n\u001b[32m    263\u001b[39m     \u001b[38;5;28;01myield\u001b[39;00m req\n\u001b[32m    264\u001b[39m \u001b[38;5;28;01melse\u001b[39;00m:\n\u001b[32m--> \u001b[39m\u001b[32m265\u001b[39m     resp = \u001b[38;5;28;43mself\u001b[39;49m\u001b[43m.\u001b[49m\u001b[43msend\u001b[49m\u001b[43m(\u001b[49m\n\u001b[32m    266\u001b[39m \u001b[43m        \u001b[49m\u001b[43mreq\u001b[49m\u001b[43m,\u001b[49m\n\u001b[32m    267\u001b[39m \u001b[43m        \u001b[49m\u001b[43mstream\u001b[49m\u001b[43m=\u001b[49m\u001b[43mstream\u001b[49m\u001b[43m,\u001b[49m\n\u001b[32m    268\u001b[39m \u001b[43m        \u001b[49m\u001b[43mtimeout\u001b[49m\u001b[43m=\u001b[49m\u001b[43mtimeout\u001b[49m\u001b[43m,\u001b[49m\n\u001b[32m    269\u001b[39m \u001b[43m        \u001b[49m\u001b[43mverify\u001b[49m\u001b[43m=\u001b[49m\u001b[43mverify\u001b[49m\u001b[43m,\u001b[49m\n\u001b[32m    270\u001b[39m \u001b[43m        \u001b[49m\u001b[43mcert\u001b[49m\u001b[43m=\u001b[49m\u001b[43mcert\u001b[49m\u001b[43m,\u001b[49m\n\u001b[32m    271\u001b[39m \u001b[43m        \u001b[49m\u001b[43mproxies\u001b[49m\u001b[43m=\u001b[49m\u001b[43mproxies\u001b[49m\u001b[43m,\u001b[49m\n\u001b[32m    272\u001b[39m \u001b[43m        \u001b[49m\u001b[43mallow_redirects\u001b[49m\u001b[43m=\u001b[49m\u001b[38;5;28;43;01mFalse\u001b[39;49;00m\u001b[43m,\u001b[49m\n\u001b[32m    273\u001b[39m \u001b[43m        \u001b[49m\u001b[43m*\u001b[49m\u001b[43m*\u001b[49m\u001b[43madapter_kwargs\u001b[49m\u001b[43m,\u001b[49m\n\u001b[32m    274\u001b[39m \u001b[43m    \u001b[49m\u001b[43m)\u001b[49m\n\u001b[32m    276\u001b[39m     extract_cookies_to_jar(\u001b[38;5;28mself\u001b[39m.cookies, prepared_request, resp.raw)\n\u001b[32m    278\u001b[39m     \u001b[38;5;66;03m# extract redirect url, if any, for the next loop\u001b[39;00m\n",
      "\u001b[36mFile \u001b[39m\u001b[32mc:\\Users\\sj645\\git-repos\\ashe\\.venv\\Lib\\site-packages\\requests\\sessions.py:746\u001b[39m, in \u001b[36mSession.send\u001b[39m\u001b[34m(self, request, **kwargs)\u001b[39m\n\u001b[32m    743\u001b[39m         \u001b[38;5;28;01mpass\u001b[39;00m\n\u001b[32m    745\u001b[39m \u001b[38;5;28;01mif\u001b[39;00m \u001b[38;5;129;01mnot\u001b[39;00m stream:\n\u001b[32m--> \u001b[39m\u001b[32m746\u001b[39m     \u001b[43mr\u001b[49m\u001b[43m.\u001b[49m\u001b[43mcontent\u001b[49m\n\u001b[32m    748\u001b[39m \u001b[38;5;28;01mreturn\u001b[39;00m r\n",
      "\u001b[36mFile \u001b[39m\u001b[32mc:\\Users\\sj645\\git-repos\\ashe\\.venv\\Lib\\site-packages\\requests\\models.py:902\u001b[39m, in \u001b[36mResponse.content\u001b[39m\u001b[34m(self)\u001b[39m\n\u001b[32m    900\u001b[39m         \u001b[38;5;28mself\u001b[39m._content = \u001b[38;5;28;01mNone\u001b[39;00m\n\u001b[32m    901\u001b[39m     \u001b[38;5;28;01melse\u001b[39;00m:\n\u001b[32m--> \u001b[39m\u001b[32m902\u001b[39m         \u001b[38;5;28mself\u001b[39m._content = \u001b[33;43mb\u001b[39;49m\u001b[33;43m\"\u001b[39;49m\u001b[33;43m\"\u001b[39;49m\u001b[43m.\u001b[49m\u001b[43mjoin\u001b[49m\u001b[43m(\u001b[49m\u001b[38;5;28;43mself\u001b[39;49m\u001b[43m.\u001b[49m\u001b[43miter_content\u001b[49m\u001b[43m(\u001b[49m\u001b[43mCONTENT_CHUNK_SIZE\u001b[49m\u001b[43m)\u001b[49m\u001b[43m)\u001b[49m \u001b[38;5;129;01mor\u001b[39;00m \u001b[33mb\u001b[39m\u001b[33m\"\u001b[39m\u001b[33m\"\u001b[39m\n\u001b[32m    904\u001b[39m \u001b[38;5;28mself\u001b[39m._content_consumed = \u001b[38;5;28;01mTrue\u001b[39;00m\n\u001b[32m    905\u001b[39m \u001b[38;5;66;03m# don't need to release the connection; that's been handled by urllib3\u001b[39;00m\n\u001b[32m    906\u001b[39m \u001b[38;5;66;03m# since we exhausted the data.\u001b[39;00m\n",
      "\u001b[36mFile \u001b[39m\u001b[32mc:\\Users\\sj645\\git-repos\\ashe\\.venv\\Lib\\site-packages\\requests\\models.py:820\u001b[39m, in \u001b[36mResponse.iter_content.<locals>.generate\u001b[39m\u001b[34m()\u001b[39m\n\u001b[32m    818\u001b[39m \u001b[38;5;28;01mif\u001b[39;00m \u001b[38;5;28mhasattr\u001b[39m(\u001b[38;5;28mself\u001b[39m.raw, \u001b[33m\"\u001b[39m\u001b[33mstream\u001b[39m\u001b[33m\"\u001b[39m):\n\u001b[32m    819\u001b[39m     \u001b[38;5;28;01mtry\u001b[39;00m:\n\u001b[32m--> \u001b[39m\u001b[32m820\u001b[39m         \u001b[38;5;28;01myield from\u001b[39;00m \u001b[38;5;28mself\u001b[39m.raw.stream(chunk_size, decode_content=\u001b[38;5;28;01mTrue\u001b[39;00m)\n\u001b[32m    821\u001b[39m     \u001b[38;5;28;01mexcept\u001b[39;00m ProtocolError \u001b[38;5;28;01mas\u001b[39;00m e:\n\u001b[32m    822\u001b[39m         \u001b[38;5;28;01mraise\u001b[39;00m ChunkedEncodingError(e)\n",
      "\u001b[36mFile \u001b[39m\u001b[32mc:\\Users\\sj645\\git-repos\\ashe\\.venv\\Lib\\site-packages\\urllib3\\response.py:1066\u001b[39m, in \u001b[36mHTTPResponse.stream\u001b[39m\u001b[34m(self, amt, decode_content)\u001b[39m\n\u001b[32m   1064\u001b[39m \u001b[38;5;28;01melse\u001b[39;00m:\n\u001b[32m   1065\u001b[39m     \u001b[38;5;28;01mwhile\u001b[39;00m \u001b[38;5;129;01mnot\u001b[39;00m is_fp_closed(\u001b[38;5;28mself\u001b[39m._fp) \u001b[38;5;129;01mor\u001b[39;00m \u001b[38;5;28mlen\u001b[39m(\u001b[38;5;28mself\u001b[39m._decoded_buffer) > \u001b[32m0\u001b[39m:\n\u001b[32m-> \u001b[39m\u001b[32m1066\u001b[39m         data = \u001b[38;5;28;43mself\u001b[39;49m\u001b[43m.\u001b[49m\u001b[43mread\u001b[49m\u001b[43m(\u001b[49m\u001b[43mamt\u001b[49m\u001b[43m=\u001b[49m\u001b[43mamt\u001b[49m\u001b[43m,\u001b[49m\u001b[43m \u001b[49m\u001b[43mdecode_content\u001b[49m\u001b[43m=\u001b[49m\u001b[43mdecode_content\u001b[49m\u001b[43m)\u001b[49m\n\u001b[32m   1068\u001b[39m         \u001b[38;5;28;01mif\u001b[39;00m data:\n\u001b[32m   1069\u001b[39m             \u001b[38;5;28;01myield\u001b[39;00m data\n",
      "\u001b[36mFile \u001b[39m\u001b[32mc:\\Users\\sj645\\git-repos\\ashe\\.venv\\Lib\\site-packages\\urllib3\\response.py:955\u001b[39m, in \u001b[36mHTTPResponse.read\u001b[39m\u001b[34m(self, amt, decode_content, cache_content)\u001b[39m\n\u001b[32m    952\u001b[39m     \u001b[38;5;28;01mif\u001b[39;00m \u001b[38;5;28mlen\u001b[39m(\u001b[38;5;28mself\u001b[39m._decoded_buffer) >= amt:\n\u001b[32m    953\u001b[39m         \u001b[38;5;28;01mreturn\u001b[39;00m \u001b[38;5;28mself\u001b[39m._decoded_buffer.get(amt)\n\u001b[32m--> \u001b[39m\u001b[32m955\u001b[39m data = \u001b[38;5;28;43mself\u001b[39;49m\u001b[43m.\u001b[49m\u001b[43m_raw_read\u001b[49m\u001b[43m(\u001b[49m\u001b[43mamt\u001b[49m\u001b[43m)\u001b[49m\n\u001b[32m    957\u001b[39m flush_decoder = amt \u001b[38;5;129;01mis\u001b[39;00m \u001b[38;5;28;01mNone\u001b[39;00m \u001b[38;5;129;01mor\u001b[39;00m (amt != \u001b[32m0\u001b[39m \u001b[38;5;129;01mand\u001b[39;00m \u001b[38;5;129;01mnot\u001b[39;00m data)\n\u001b[32m    959\u001b[39m \u001b[38;5;28;01mif\u001b[39;00m \u001b[38;5;129;01mnot\u001b[39;00m data \u001b[38;5;129;01mand\u001b[39;00m \u001b[38;5;28mlen\u001b[39m(\u001b[38;5;28mself\u001b[39m._decoded_buffer) == \u001b[32m0\u001b[39m:\n",
      "\u001b[36mFile \u001b[39m\u001b[32mc:\\Users\\sj645\\git-repos\\ashe\\.venv\\Lib\\site-packages\\urllib3\\response.py:879\u001b[39m, in \u001b[36mHTTPResponse._raw_read\u001b[39m\u001b[34m(self, amt, read1)\u001b[39m\n\u001b[32m    876\u001b[39m fp_closed = \u001b[38;5;28mgetattr\u001b[39m(\u001b[38;5;28mself\u001b[39m._fp, \u001b[33m\"\u001b[39m\u001b[33mclosed\u001b[39m\u001b[33m\"\u001b[39m, \u001b[38;5;28;01mFalse\u001b[39;00m)\n\u001b[32m    878\u001b[39m \u001b[38;5;28;01mwith\u001b[39;00m \u001b[38;5;28mself\u001b[39m._error_catcher():\n\u001b[32m--> \u001b[39m\u001b[32m879\u001b[39m     data = \u001b[38;5;28;43mself\u001b[39;49m\u001b[43m.\u001b[49m\u001b[43m_fp_read\u001b[49m\u001b[43m(\u001b[49m\u001b[43mamt\u001b[49m\u001b[43m,\u001b[49m\u001b[43m \u001b[49m\u001b[43mread1\u001b[49m\u001b[43m=\u001b[49m\u001b[43mread1\u001b[49m\u001b[43m)\u001b[49m \u001b[38;5;28;01mif\u001b[39;00m \u001b[38;5;129;01mnot\u001b[39;00m fp_closed \u001b[38;5;28;01melse\u001b[39;00m \u001b[33mb\u001b[39m\u001b[33m\"\u001b[39m\u001b[33m\"\u001b[39m\n\u001b[32m    880\u001b[39m     \u001b[38;5;28;01mif\u001b[39;00m amt \u001b[38;5;129;01mis\u001b[39;00m \u001b[38;5;129;01mnot\u001b[39;00m \u001b[38;5;28;01mNone\u001b[39;00m \u001b[38;5;129;01mand\u001b[39;00m amt != \u001b[32m0\u001b[39m \u001b[38;5;129;01mand\u001b[39;00m \u001b[38;5;129;01mnot\u001b[39;00m data:\n\u001b[32m    881\u001b[39m         \u001b[38;5;66;03m# Platform-specific: Buggy versions of Python.\u001b[39;00m\n\u001b[32m    882\u001b[39m         \u001b[38;5;66;03m# Close the connection when no data is returned\u001b[39;00m\n\u001b[32m   (...)\u001b[39m\u001b[32m    887\u001b[39m         \u001b[38;5;66;03m# not properly close the connection in all cases. There is\u001b[39;00m\n\u001b[32m    888\u001b[39m         \u001b[38;5;66;03m# no harm in redundantly calling close.\u001b[39;00m\n\u001b[32m    889\u001b[39m         \u001b[38;5;28mself\u001b[39m._fp.close()\n",
      "\u001b[36mFile \u001b[39m\u001b[32mc:\\Users\\sj645\\git-repos\\ashe\\.venv\\Lib\\site-packages\\urllib3\\response.py:862\u001b[39m, in \u001b[36mHTTPResponse._fp_read\u001b[39m\u001b[34m(self, amt, read1)\u001b[39m\n\u001b[32m    859\u001b[39m     \u001b[38;5;28;01mreturn\u001b[39;00m \u001b[38;5;28mself\u001b[39m._fp.read1(amt) \u001b[38;5;28;01mif\u001b[39;00m amt \u001b[38;5;129;01mis\u001b[39;00m \u001b[38;5;129;01mnot\u001b[39;00m \u001b[38;5;28;01mNone\u001b[39;00m \u001b[38;5;28;01melse\u001b[39;00m \u001b[38;5;28mself\u001b[39m._fp.read1()\n\u001b[32m    860\u001b[39m \u001b[38;5;28;01melse\u001b[39;00m:\n\u001b[32m    861\u001b[39m     \u001b[38;5;66;03m# StringIO doesn't like amt=None\u001b[39;00m\n\u001b[32m--> \u001b[39m\u001b[32m862\u001b[39m     \u001b[38;5;28;01mreturn\u001b[39;00m \u001b[38;5;28;43mself\u001b[39;49m\u001b[43m.\u001b[49m\u001b[43m_fp\u001b[49m\u001b[43m.\u001b[49m\u001b[43mread\u001b[49m\u001b[43m(\u001b[49m\u001b[43mamt\u001b[49m\u001b[43m)\u001b[49m \u001b[38;5;28;01mif\u001b[39;00m amt \u001b[38;5;129;01mis\u001b[39;00m \u001b[38;5;129;01mnot\u001b[39;00m \u001b[38;5;28;01mNone\u001b[39;00m \u001b[38;5;28;01melse\u001b[39;00m \u001b[38;5;28mself\u001b[39m._fp.read()\n",
      "\u001b[36mFile \u001b[39m\u001b[32m~\\.pyenv\\pyenv-win\\versions\\3.12.0\\Lib\\http\\client.py:472\u001b[39m, in \u001b[36mHTTPResponse.read\u001b[39m\u001b[34m(self, amt)\u001b[39m\n\u001b[32m    469\u001b[39m \u001b[38;5;28;01mif\u001b[39;00m \u001b[38;5;28mself\u001b[39m.length \u001b[38;5;129;01mis\u001b[39;00m \u001b[38;5;129;01mnot\u001b[39;00m \u001b[38;5;28;01mNone\u001b[39;00m \u001b[38;5;129;01mand\u001b[39;00m amt > \u001b[38;5;28mself\u001b[39m.length:\n\u001b[32m    470\u001b[39m     \u001b[38;5;66;03m# clip the read to the \"end of response\"\u001b[39;00m\n\u001b[32m    471\u001b[39m     amt = \u001b[38;5;28mself\u001b[39m.length\n\u001b[32m--> \u001b[39m\u001b[32m472\u001b[39m s = \u001b[38;5;28;43mself\u001b[39;49m\u001b[43m.\u001b[49m\u001b[43mfp\u001b[49m\u001b[43m.\u001b[49m\u001b[43mread\u001b[49m\u001b[43m(\u001b[49m\u001b[43mamt\u001b[49m\u001b[43m)\u001b[49m\n\u001b[32m    473\u001b[39m \u001b[38;5;28;01mif\u001b[39;00m \u001b[38;5;129;01mnot\u001b[39;00m s \u001b[38;5;129;01mand\u001b[39;00m amt:\n\u001b[32m    474\u001b[39m     \u001b[38;5;66;03m# Ideally, we would raise IncompleteRead if the content-length\u001b[39;00m\n\u001b[32m    475\u001b[39m     \u001b[38;5;66;03m# wasn't satisfied, but it might break compatibility.\u001b[39;00m\n\u001b[32m    476\u001b[39m     \u001b[38;5;28mself\u001b[39m._close_conn()\n",
      "\u001b[36mFile \u001b[39m\u001b[32m~\\.pyenv\\pyenv-win\\versions\\3.12.0\\Lib\\socket.py:707\u001b[39m, in \u001b[36mSocketIO.readinto\u001b[39m\u001b[34m(self, b)\u001b[39m\n\u001b[32m    705\u001b[39m \u001b[38;5;28;01mwhile\u001b[39;00m \u001b[38;5;28;01mTrue\u001b[39;00m:\n\u001b[32m    706\u001b[39m     \u001b[38;5;28;01mtry\u001b[39;00m:\n\u001b[32m--> \u001b[39m\u001b[32m707\u001b[39m         \u001b[38;5;28;01mreturn\u001b[39;00m \u001b[38;5;28;43mself\u001b[39;49m\u001b[43m.\u001b[49m\u001b[43m_sock\u001b[49m\u001b[43m.\u001b[49m\u001b[43mrecv_into\u001b[49m\u001b[43m(\u001b[49m\u001b[43mb\u001b[49m\u001b[43m)\u001b[49m\n\u001b[32m    708\u001b[39m     \u001b[38;5;28;01mexcept\u001b[39;00m timeout:\n\u001b[32m    709\u001b[39m         \u001b[38;5;28mself\u001b[39m._timeout_occurred = \u001b[38;5;28;01mTrue\u001b[39;00m\n",
      "\u001b[36mFile \u001b[39m\u001b[32m~\\.pyenv\\pyenv-win\\versions\\3.12.0\\Lib\\ssl.py:1249\u001b[39m, in \u001b[36mSSLSocket.recv_into\u001b[39m\u001b[34m(self, buffer, nbytes, flags)\u001b[39m\n\u001b[32m   1245\u001b[39m     \u001b[38;5;28;01mif\u001b[39;00m flags != \u001b[32m0\u001b[39m:\n\u001b[32m   1246\u001b[39m         \u001b[38;5;28;01mraise\u001b[39;00m \u001b[38;5;167;01mValueError\u001b[39;00m(\n\u001b[32m   1247\u001b[39m           \u001b[33m\"\u001b[39m\u001b[33mnon-zero flags not allowed in calls to recv_into() on \u001b[39m\u001b[38;5;132;01m%s\u001b[39;00m\u001b[33m\"\u001b[39m %\n\u001b[32m   1248\u001b[39m           \u001b[38;5;28mself\u001b[39m.\u001b[34m__class__\u001b[39m)\n\u001b[32m-> \u001b[39m\u001b[32m1249\u001b[39m     \u001b[38;5;28;01mreturn\u001b[39;00m \u001b[38;5;28;43mself\u001b[39;49m\u001b[43m.\u001b[49m\u001b[43mread\u001b[49m\u001b[43m(\u001b[49m\u001b[43mnbytes\u001b[49m\u001b[43m,\u001b[49m\u001b[43m \u001b[49m\u001b[43mbuffer\u001b[49m\u001b[43m)\u001b[49m\n\u001b[32m   1250\u001b[39m \u001b[38;5;28;01melse\u001b[39;00m:\n\u001b[32m   1251\u001b[39m     \u001b[38;5;28;01mreturn\u001b[39;00m \u001b[38;5;28msuper\u001b[39m().recv_into(buffer, nbytes, flags)\n",
      "\u001b[36mFile \u001b[39m\u001b[32m~\\.pyenv\\pyenv-win\\versions\\3.12.0\\Lib\\ssl.py:1105\u001b[39m, in \u001b[36mSSLSocket.read\u001b[39m\u001b[34m(self, len, buffer)\u001b[39m\n\u001b[32m   1103\u001b[39m \u001b[38;5;28;01mtry\u001b[39;00m:\n\u001b[32m   1104\u001b[39m     \u001b[38;5;28;01mif\u001b[39;00m buffer \u001b[38;5;129;01mis\u001b[39;00m \u001b[38;5;129;01mnot\u001b[39;00m \u001b[38;5;28;01mNone\u001b[39;00m:\n\u001b[32m-> \u001b[39m\u001b[32m1105\u001b[39m         \u001b[38;5;28;01mreturn\u001b[39;00m \u001b[38;5;28;43mself\u001b[39;49m\u001b[43m.\u001b[49m\u001b[43m_sslobj\u001b[49m\u001b[43m.\u001b[49m\u001b[43mread\u001b[49m\u001b[43m(\u001b[49m\u001b[38;5;28;43mlen\u001b[39;49m\u001b[43m,\u001b[49m\u001b[43m \u001b[49m\u001b[43mbuffer\u001b[49m\u001b[43m)\u001b[49m\n\u001b[32m   1106\u001b[39m     \u001b[38;5;28;01melse\u001b[39;00m:\n\u001b[32m   1107\u001b[39m         \u001b[38;5;28;01mreturn\u001b[39;00m \u001b[38;5;28mself\u001b[39m._sslobj.read(\u001b[38;5;28mlen\u001b[39m)\n",
      "\u001b[31mKeyboardInterrupt\u001b[39m: "
     ]
    }
   ],
   "source": [
    "csv_href = href_df[\"csv\"][0][\"href\"]\n",
    "save_path = \"test-downloads/observations-test.csv\"\n",
    "\n",
    "csv_response = requests.get(csv_href)\n",
    "with open(save_path, \"wb\") as f:\n",
    "    f.write(csv_response.content)"
   ]
  }
 ],
 "metadata": {
  "kernelspec": {
   "display_name": ".venv",
   "language": "python",
   "name": "python3"
  },
  "language_info": {
   "codemirror_mode": {
    "name": "ipython",
    "version": 3
   },
   "file_extension": ".py",
   "mimetype": "text/x-python",
   "name": "python",
   "nbconvert_exporter": "python",
   "pygments_lexer": "ipython3",
   "version": "3.12.0"
  }
 },
 "nbformat": 4,
 "nbformat_minor": 5
}
