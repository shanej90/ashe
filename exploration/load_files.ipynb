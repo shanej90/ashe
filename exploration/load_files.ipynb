{
 "cells": [
  {
   "cell_type": "markdown",
   "id": "77d2a4ff",
   "metadata": {},
   "source": [
    "# Load files\n",
    "checking how to most efficiently load files into Python for processing"
   ]
  },
  {
   "cell_type": "code",
   "execution_count": 2,
   "id": "1b2001b8",
   "metadata": {},
   "outputs": [
    {
     "data": {
      "text/plain": [
       "'c:\\\\Users\\\\shane\\\\github-repos\\\\ashe'"
      ]
     },
     "execution_count": 2,
     "metadata": {},
     "output_type": "execute_result"
    }
   ],
   "source": [
    "#set root\n",
    "import sys\n",
    "import os\n",
    "\n",
    "# Get the project root (one level up from notebooks/)\n",
    "project_root = os.path.abspath(os.path.join(os.getcwd(), '..'))\n",
    "\n",
    "if project_root not in sys.path:\n",
    "    sys.path.append(project_root)\n",
    "    \n",
    "project_root"
   ]
  },
  {
   "cell_type": "code",
   "execution_count": 3,
   "id": "fa253c32",
   "metadata": {},
   "outputs": [],
   "source": [
    "### IMPORTS\n",
    "import pandas as pd\n",
    "import sqlite3\n",
    "\n",
    "from utils.directory_navigation import find_project_root"
   ]
  },
  {
   "cell_type": "code",
   "execution_count": 5,
   "id": "d89b871c",
   "metadata": {},
   "outputs": [
    {
     "data": {
      "text/plain": [
       "['averages-and-percentiles.csv',\n",
       " 'calendar-years.csv',\n",
       " 'cpih.csv',\n",
       " 'hours-and-earnings.csv',\n",
       " 'parliamentary-constituencies.csv',\n",
       " 'sex.csv',\n",
       " 'working-pattern.csv',\n",
       " 'workplace-or-residence.csv']"
      ]
     },
     "execution_count": 5,
     "metadata": {},
     "output_type": "execute_result"
    }
   ],
   "source": [
    "#get list of files\n",
    "dim_files = os.listdir(f\"{project_root}/bronze_files/dimensions\")\n",
    "dim_files"
   ]
  },
  {
   "cell_type": "code",
   "execution_count": 7,
   "id": "e36347db",
   "metadata": {},
   "outputs": [
    {
     "data": {
      "text/plain": [
       "['averages-and-percentiles',\n",
       " 'calendar-years',\n",
       " 'cpih',\n",
       " 'hours-and-earnings',\n",
       " 'parliamentary-constituencies',\n",
       " 'sex',\n",
       " 'working-pattern',\n",
       " 'workplace-or-residence']"
      ]
     },
     "execution_count": 7,
     "metadata": {},
     "output_type": "execute_result"
    }
   ],
   "source": [
    "#set keys for dict conversion\n",
    "dim_keys = [i.replace(\".csv\", \"\") for i in dim_files]\n",
    "dim_keys"
   ]
  }
 ],
 "metadata": {
  "kernelspec": {
   "display_name": ".venv (3.12.0)",
   "language": "python",
   "name": "python3"
  },
  "language_info": {
   "codemirror_mode": {
    "name": "ipython",
    "version": 3
   },
   "file_extension": ".py",
   "mimetype": "text/x-python",
   "name": "python",
   "nbconvert_exporter": "python",
   "pygments_lexer": "ipython3",
   "version": "3.12.0"
  }
 },
 "nbformat": 4,
 "nbformat_minor": 5
}
